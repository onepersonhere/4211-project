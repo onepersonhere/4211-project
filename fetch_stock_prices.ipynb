{
 "cells": [
  {
   "cell_type": "code",
   "execution_count": 1,
   "metadata": {},
   "outputs": [],
   "source": [
    "# !pip install yfinance"
   ]
  },
  {
   "cell_type": "code",
   "execution_count": 2,
   "metadata": {},
   "outputs": [
    {
     "name": "stdout",
     "output_type": "stream",
     "text": [
      "Fetching 5m data from 2025-01-14 to 2025-03-14 for ['AAPL', 'MSFT', 'GOOGL', 'NVDA', 'TSLA', 'AMZN', 'META']...\n",
      "YF.download() has changed argument auto_adjust default to True\n"
     ]
    },
    {
     "name": "stderr",
     "output_type": "stream",
     "text": [
      "[*********************100%***********************]  7 of 7 completed\n",
      "C:\\Users\\ASUS\\AppData\\Local\\Temp\\ipykernel_16172\\864991203.py:34: FutureWarning: The previous implementation of stack is deprecated and will be removed in a future version of pandas. See the What's New notes for pandas 2.1.0 for details. Specify future_stack=True to adopt the new implementation and silence this warning.\n",
      "  stock_data = stock_data.stack(level=1).reset_index()\n"
     ]
    },
    {
     "name": "stdout",
     "output_type": "stream",
     "text": [
      "Stock data successfully downloaded and saved as 'stock_prices_5m.csv'.\n",
      "Price                  Datetime        Open        High         Low  \\\n",
      "0     2025-01-14 14:30:00+00:00  234.750000  235.940002  234.259995   \n",
      "1     2025-01-14 14:30:00+00:00  221.039993  221.070007  219.630005   \n",
      "2     2025-01-14 14:30:00+00:00  191.229996  191.860001  190.419998   \n",
      "3     2025-01-14 14:30:00+00:00  605.065002  605.440002  596.500000   \n",
      "4     2025-01-14 14:30:00+00:00  417.149994  418.769806  416.726593   \n",
      "\n",
      "Price       Close     Volume Ticker  \n",
      "0      235.889999  2136084.0   AAPL  \n",
      "1      219.996002  1881687.0   AMZN  \n",
      "2      191.585007  1229645.0  GOOGL  \n",
      "3      598.729980  1363242.0   META  \n",
      "4      418.390015   781146.0   MSFT  \n"
     ]
    }
   ],
   "source": [
    "import yfinance as yf\n",
    "import pandas as pd\n",
    "from datetime import datetime, timedelta\n",
    "\n",
    "def fetch_stock_data(end_date=None, n_days=7, frequency=\"1m\"):\n",
    "    \"\"\"\n",
    "    Fetches stock data for the MAG-7 tickers from Yahoo Finance.\n",
    "\n",
    "    Parameters:\n",
    "    - end_date (str): The end date in 'YYYY-MM-DD' format (default: today).\n",
    "    - n_days (int): The number of days before end_date to fetch (default: 7).\n",
    "    - frequency (str): The interval of data (e.g., '1m', '1h', '1d').\n",
    "\n",
    "    Returns:\n",
    "    - DataFrame: Formatted stock data with columns: ['Datetime', 'Open', 'High', 'Low', 'Close', 'Volume', 'Ticker']\n",
    "    \"\"\"\n",
    "    \n",
    "    # List of MAG-7 tickers\n",
    "    tickers = [\"AAPL\", \"MSFT\", \"GOOGL\", \"NVDA\", \"TSLA\", \"AMZN\", \"META\"]\n",
    "\n",
    "    # Set end date (default: today)\n",
    "    if end_date is None:\n",
    "        end_date = datetime.today().strftime('%Y-%m-%d')\n",
    "\n",
    "    # Calculate start date\n",
    "    start_date = (datetime.strptime(end_date, '%Y-%m-%d') - timedelta(days=n_days)).strftime('%Y-%m-%d')\n",
    "\n",
    "    print(f\"Fetching {frequency} data from {start_date} to {end_date} for {tickers}...\")\n",
    "\n",
    "    # Fetch stock data\n",
    "    stock_data = yf.download(tickers, start=start_date, end=end_date, interval=frequency)\n",
    "\n",
    "    # Reset multi-index and flatten column names\n",
    "    stock_data = stock_data.stack(level=1).reset_index()\n",
    "\n",
    "    # Rename columns properly\n",
    "    stock_data.rename(columns={\"level_1\": \"Ticker\", \"Datetime\": \"Datetime\"}, inplace=True)\n",
    "\n",
    "    # Ensure correct column order\n",
    "    stock_data = stock_data[[\"Datetime\", \"Open\", \"High\", \"Low\", \"Close\", \"Volume\", \"Ticker\"]]\n",
    "\n",
    "    # Save to CSV\n",
    "    filename = f\"stock_prices_{frequency}.csv\"\n",
    "    stock_data.to_csv(filename, index=False)\n",
    "\n",
    "    print(f\"Stock data successfully downloaded and saved as '{filename}'.\")\n",
    "    \n",
    "    return stock_data\n",
    "\n",
    "# Example Usage\n",
    "df = fetch_stock_data(end_date=datetime.today().strftime('%Y-%m-%d'), n_days=59, frequency=\"5m\")\n",
    "\n",
    "# Display first few rows\n",
    "print(df.head())\n"
   ]
  }
 ],
 "metadata": {
  "kernelspec": {
   "display_name": "base",
   "language": "python",
   "name": "python3"
  },
  "language_info": {
   "codemirror_mode": {
    "name": "ipython",
    "version": 3
   },
   "file_extension": ".py",
   "mimetype": "text/x-python",
   "name": "python",
   "nbconvert_exporter": "python",
   "pygments_lexer": "ipython3",
   "version": "3.12.7"
  }
 },
 "nbformat": 4,
 "nbformat_minor": 2
}
