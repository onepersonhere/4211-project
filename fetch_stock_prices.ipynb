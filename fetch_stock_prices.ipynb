{
 "cells": [
  {
   "cell_type": "code",
   "execution_count": 31,
   "metadata": {},
   "outputs": [],
   "source": [
    "# !pip install yfinance"
   ]
  },
  {
   "cell_type": "code",
   "execution_count": 33,
   "metadata": {},
   "outputs": [
    {
     "name": "stdout",
     "output_type": "stream",
     "text": [
      "Fetching 2m data from 2025-01-13 to 2025-03-13 for ['AAPL', 'MSFT', 'GOOGL', 'NVDA', 'TSLA', 'AMZN', 'META']...\n"
     ]
    },
    {
     "name": "stderr",
     "output_type": "stream",
     "text": [
      "[*********************100%***********************]  7 of 7 completed\n",
      "C:\\Users\\fauza\\AppData\\Local\\Temp\\ipykernel_605392\\1682424638.py:34: FutureWarning: The previous implementation of stack is deprecated and will be removed in a future version of pandas. See the What's New notes for pandas 2.1.0 for details. Specify future_stack=True to adopt the new implementation and silence this warning.\n",
      "  stock_data = stock_data.stack(level=1).reset_index()\n"
     ]
    },
    {
     "name": "stdout",
     "output_type": "stream",
     "text": [
      "Stock data successfully downloaded and saved as 'stock_prices_2m.csv'.\n",
      "Price                  Datetime        Open        High         Low  \\\n",
      "0     2025-01-24 14:30:00+00:00  224.975006  225.630005  224.720001   \n",
      "1     2025-01-24 14:30:00+00:00  234.970001  235.800003  234.410004   \n",
      "2     2025-01-24 14:30:00+00:00  198.169998  199.500000  198.000000   \n",
      "3     2025-01-24 14:30:00+00:00  636.474976  639.609985  634.280029   \n",
      "4     2025-01-24 14:30:00+00:00  445.160004  445.500000  442.100006   \n",
      "\n",
      "Price       Close     Volume Ticker  \n",
      "0      224.979904  5395773.0   AAPL  \n",
      "1      235.119995  1147762.0   AMZN  \n",
      "2      198.699997   963951.0  GOOGL  \n",
      "3      635.984985  1753177.0   META  \n",
      "4      442.100006   779725.0   MSFT  \n"
     ]
    }
   ],
   "source": [
    "import yfinance as yf\n",
    "import pandas as pd\n",
    "from datetime import datetime, timedelta\n",
    "\n",
    "def fetch_stock_data(end_date=None, n_days=7, frequency=\"1m\"):\n",
    "    \"\"\"\n",
    "    Fetches stock data for the MAG-7 tickers from Yahoo Finance.\n",
    "\n",
    "    Parameters:\n",
    "    - end_date (str): The end date in 'YYYY-MM-DD' format (default: today).\n",
    "    - n_days (int): The number of days before end_date to fetch (default: 7).\n",
    "    - frequency (str): The interval of data (e.g., '1m', '1h', '1d').\n",
    "\n",
    "    Returns:\n",
    "    - DataFrame: Formatted stock data with columns: ['Datetime', 'Open', 'High', 'Low', 'Close', 'Volume', 'Ticker']\n",
    "    \"\"\"\n",
    "    \n",
    "    # List of MAG-7 tickers\n",
    "    tickers = [\"AAPL\", \"MSFT\", \"GOOGL\", \"NVDA\", \"TSLA\", \"AMZN\", \"META\"]\n",
    "\n",
    "    # Set end date (default: today)\n",
    "    if end_date is None:\n",
    "        end_date = datetime.today().strftime('%Y-%m-%d')\n",
    "\n",
    "    # Calculate start date\n",
    "    start_date = (datetime.strptime(end_date, '%Y-%m-%d') - timedelta(days=n_days)).strftime('%Y-%m-%d')\n",
    "\n",
    "    print(f\"Fetching {frequency} data from {start_date} to {end_date} for {tickers}...\")\n",
    "\n",
    "    # Fetch stock data\n",
    "    stock_data = yf.download(tickers, start=start_date, end=end_date, interval=frequency)\n",
    "\n",
    "    # Reset multi-index and flatten column names\n",
    "    stock_data = stock_data.stack(level=1).reset_index()\n",
    "\n",
    "    # Rename columns properly\n",
    "    stock_data.rename(columns={\"level_1\": \"Ticker\", \"Datetime\": \"Datetime\"}, inplace=True)\n",
    "\n",
    "    # Ensure correct column order\n",
    "    stock_data = stock_data[[\"Datetime\", \"Open\", \"High\", \"Low\", \"Close\", \"Volume\", \"Ticker\"]]\n",
    "\n",
    "    # Save to CSV\n",
    "    filename = f\"stock_prices_{frequency}.csv\"\n",
    "    stock_data.to_csv(filename, index=False)\n",
    "\n",
    "    print(f\"Stock data successfully downloaded and saved as '{filename}'.\")\n",
    "    \n",
    "    return stock_data\n",
    "\n",
    "# Example Usage\n",
    "df = fetch_stock_data(end_date=datetime.today().strftime('%Y-%m-%d'), n_days=59, frequency=\"2m\")\n",
    "\n",
    "# Display first few rows\n",
    "print(df.head())\n"
   ]
  }
 ],
 "metadata": {
  "kernelspec": {
   "display_name": "base",
   "language": "python",
   "name": "python3"
  },
  "language_info": {
   "codemirror_mode": {
    "name": "ipython",
    "version": 3
   },
   "file_extension": ".py",
   "mimetype": "text/x-python",
   "name": "python",
   "nbconvert_exporter": "python",
   "pygments_lexer": "ipython3",
   "version": "3.12.4"
  }
 },
 "nbformat": 4,
 "nbformat_minor": 2
}
