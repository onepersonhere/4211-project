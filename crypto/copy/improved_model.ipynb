{
 "cells": [
  {
   "cell_type": "code",
   "execution_count": 160,
   "metadata": {},
   "outputs": [],
   "source": [
    "import pandas as pd\n",
    "import numpy as np\n",
    "import tensorflow as tf \n",
    "import random\n",
    "from tensorflow.keras.models import Sequential\n",
    "from tensorflow.keras.layers import LSTM, Dense, Dropout, Input\n",
    "from tensorflow.keras.callbacks import EarlyStopping, ReduceLROnPlateau\n",
    "from sklearn.preprocessing import MinMaxScaler\n",
    "import matplotlib.pyplot as plt\n",
    "from scikeras.wrappers import KerasRegressor\n"
   ]
  },
  {
   "cell_type": "markdown",
   "metadata": {},
   "source": [
    "##### Model to include best params & sentiment scores"
   ]
  },
  {
   "cell_type": "markdown",
   "metadata": {},
   "source": [
    "Load sentiment scores"
   ]
  },
  {
   "cell_type": "code",
   "execution_count": 161,
   "metadata": {},
   "outputs": [],
   "source": [
    "# Load both sentiment files\n",
    "sent1 = pd.read_csv('../../curr_news/aggregated_daily_sentiment.csv')\n",
    "sent2 = pd.read_csv('../../historic_news/aggregated_daily_sentiment.csv')\n",
    "\n",
    "# Combine them in order: part 1 comes before part 2\n",
    "sentiment = pd.concat([sent1, sent2], ignore_index=True)\n",
    "\n",
    "# Rename and parse dates\n",
    "sentiment.rename(columns={'Unnamed: 0': 'Datetime'}, inplace=True)\n",
    "sentiment['Datetime'] = pd.to_datetime(sentiment['Datetime'])\n",
    "\n",
    "# Reshape to long format: Date | Coin | Sentiment\n",
    "sentiment = sentiment.melt(id_vars='Datetime', var_name='Coin', value_name='Sentiment')\n",
    "sentiment['Datetime'] = sentiment['Datetime'].dt.normalize()\n",
    "sentiment['Datetime'] = sentiment['Datetime'].dt.tz_localize(None)\n",
    "\n"
   ]
  },
  {
   "cell_type": "code",
   "execution_count": 162,
   "metadata": {},
   "outputs": [],
   "source": [
    "# Set random seeds for reproducibility\n",
    "np.random.seed(42)\n",
    "tf.random.set_seed(42)\n",
    "random.seed(42)\n",
    "tf.keras.utils.set_random_seed(42)\n",
    "tf.config.experimental.enable_op_determinism() \n",
    "\n",
    "\n",
    "#Code for Hyperparameter Tuning\n",
    "def load_and_preprocess_data(file_path, sentiment=sentiment):\n",
    "    df = pd.read_csv(file_path)\n",
    "    df['Datetime'] = df['Date']\n",
    "    df['Datetime'] = pd.to_datetime(df['Datetime'])\n",
    "    df.sort_values(['Coin', 'Datetime'], inplace=True)\n",
    "    # Prepare crypto data date column\n",
    "    df['Datetime'] = df['Datetime'].dt.normalize()\n",
    "    df['Datetime'] = df['Datetime'].dt.tz_localize(None)\n",
    "\n",
    "    # Merge daily sentiment into intraday stock data\n",
    "    df = pd.merge(df, sentiment, how='left', on=['Datetime', 'Coin'])\n",
    "\n",
    "    # Fill any missing sentiment values with neutral (0)\n",
    "    df['Sentiment'] = df['Sentiment'].fillna(0)\n",
    "        \n",
    "    df['Return'] = df.groupby('Coin')['Close'].pct_change().shift(-1)  # Next period return as target\n",
    "    non_features = ['Datetime', 'Coin', 'Date', 'Return']\n",
    "    feature_cols = [x for x in list(df.columns) if x not in non_features]\n",
    "    df = df[feature_cols + non_features].dropna()\n",
    "    df.dropna(inplace=True)\n",
    "    \n",
    "    return df, feature_cols\n",
    "\n",
    "# Prepare sequences for LSTM training\n",
    "def prepare_sequences(df, feature_cols, sequence_length=20):\n",
    "    #feature_scaler = RobustScaler()\n",
    "    #return_scaler = RobustScaler()\n",
    "    feature_scaler = MinMaxScaler(feature_range=(0, 1))\n",
    "    return_scaler = MinMaxScaler(feature_range=(0, 1))\n",
    "    \n",
    "    X_scaled = feature_scaler.fit_transform(df[feature_cols])\n",
    "    y_scaled = return_scaler.fit_transform(df[['Return']])\n",
    "    \n",
    "    X_sequences, y_sequences, dates, close_prices = [], [], df['Datetime'].values[sequence_length:], df['Close'].values[sequence_length:]\n",
    "    \n",
    "    for i in range(len(X_scaled) - sequence_length):\n",
    "        X_sequences.append(X_scaled[i:i+sequence_length])\n",
    "        y_sequences.append(y_scaled[i+sequence_length])\n",
    "    \n",
    "    return np.array(X_sequences), np.array(y_sequences), dates, close_prices, return_scaler\n",
    "\n",
    "# Split data into training and testing sets\n",
    "def split_data(X, y, dates, close_prices, train_ratio=0.8):\n",
    "    split_index = int(len(X) * train_ratio)\n",
    "    return X[:split_index], X[split_index:], y[:split_index], y[split_index:], dates[split_index:], close_prices[split_index:]\n",
    "\n",
    "\n",
    "\n",
    "# Function to create model for GridSearchCV\n",
    "def create_lstm_model(input_shape, layers=1, units_1=50, units_2=50, dropout_rate=0.2, learning_rate=0.001, optimizer='adam'):\n",
    "    model = Sequential()  # Add this line to initialize the model\n",
    "    # Explicitly define the input layer\n",
    "    model.add(Input(shape=input_shape))  # Fix: Define input layer separately\n",
    "    # First LSTM layer\n",
    "    if layers == 1:\n",
    "        \n",
    "        model.add(LSTM(units=units_1))\n",
    "    else:\n",
    "        model.add(LSTM(units=units_1, return_sequences=True))\n",
    "        model.add(Dropout(dropout_rate))\n",
    "        \n",
    "        # Additional LSTM layers\n",
    "        for i in range(layers-2):\n",
    "            model.add(LSTM(units=units_2, return_sequences=True))\n",
    "            model.add(Dropout(dropout_rate))\n",
    "        \n",
    "        # Final LSTM layer\n",
    "        model.add(LSTM(units=units_2))\n",
    "\n",
    "    model.add(Dropout(dropout_rate))\n",
    "    model.add(Dense(units=1))  # Output layer\n",
    "    # Convert optimizer string to actual optimizer instance\n",
    "    optimizer_instance = {\n",
    "        'adam': tf.keras.optimizers.Adam(learning_rate=learning_rate),\n",
    "        'rmsprop': tf.keras.optimizers.RMSprop(learning_rate=learning_rate),\n",
    "        'sgd': tf.keras.optimizers.SGD(learning_rate=learning_rate, momentum=0.9)\n",
    "    }[optimizer]\n",
    "    model.compile(optimizer=optimizer_instance,\n",
    "                    loss='mse',\n",
    "                    metrics=['mae'])\n",
    "    return model\n",
    "# Function to train and evaluate the model\n",
    "def train_and_evaluate_model(df, feature_cols, coin):\n",
    "    df_coin = df[df['Coin'] == coin]\n",
    "    X, y, dates, close_prices, return_scaler = prepare_sequences(df_coin, feature_cols)\n",
    "\n",
    "    # Train-test split (first 80% train, last 20% test)\n",
    "    X_train, X_test, y_train, y_test, dates_test, close_prices_test = split_data(X, y, dates, close_prices)\n",
    "    \n",
    "    # Hyperparameter tuning\n",
    "    input_shape = (X_train.shape[1], X_train.shape[2])\n",
    "    # Learning rate adjustment and early stopping\n",
    "    callbacks = [\n",
    "        EarlyStopping(monitor='val_loss', patience=5, restore_best_weights=True),\n",
    "        ReduceLROnPlateau(monitor='val_loss', factor=0.5, patience=3, min_lr=1e-6)\n",
    "    ]\n",
    "    if coin == 'BTC':\n",
    "        model = create_lstm_model(input_shape, layers=1, units_1=100, units_2=50, dropout_rate=0.2, learning_rate=0.001, optimizer='adam')\n",
    "        model.fit(X_train, y_train, epochs=50, batch_size=32, validation_data=(X_test, y_test), callbacks=callbacks)\n",
    "    \n",
    "    elif coin == 'ETH':\n",
    "        model = create_lstm_model(input_shape, layers=1, units_1=100, units_2=50, dropout_rate=0.2, learning_rate=0.001, optimizer='adam')\n",
    "        model.fit(X_train, y_train, epochs=50, batch_size=64, validation_data=(X_test, y_test), callbacks=callbacks)\n",
    "    elif coin == 'SOL':\n",
    "        model = create_lstm_model(input_shape, layers=1, units_1=100, units_2=50, dropout_rate=0.4, learning_rate=0.001, optimizer='adam')\n",
    "        model.fit(X_train, y_train, epochs=50, batch_size=16, validation_data=(X_test, y_test), callbacks=callbacks)\n",
    "    elif coin == 'XRP':\n",
    "        model = create_lstm_model(input_shape, layers=1, units_1=100, units_2=50, dropout_rate=0.4, learning_rate=0.001, optimizer='adam')\n",
    "        model.fit(X_train, y_train, epochs=50, batch_size=32, validation_data=(X_test, y_test), callbacks=callbacks)\n",
    "    \n",
    "    # Predict and rescale returns\n",
    "    y_pred_scaled = model.predict(X_test)\n",
    "    y_pred = return_scaler.inverse_transform(y_pred_scaled)\n",
    "    y_test = return_scaler.inverse_transform(y_test.reshape(-1, 1))\n",
    "    \n",
    "    return model, y_test, y_pred, dates_test, close_prices_test \n",
    "\n"
   ]
  },
  {
   "cell_type": "code",
   "execution_count": 163,
   "metadata": {},
   "outputs": [],
   "source": [
    "# Function to log trades and calculate cumulative return\n",
    "def log_trades(dates, actual_returns, predicted_returns, close_prices, coin):\n",
    "    positions = ['LONG' if pred > 0 else 'SHORT' for pred in predicted_returns.flatten()]\n",
    "    '''\n",
    "    fee = 1e-3  # Trading fee (0.1% on Binance)\n",
    "    strategy_returns = np.zeros_like(actual_returns.flatten())\n",
    "\n",
    "    prev_position = None\n",
    "    for i in range(len(actual_returns)):\n",
    "        curr_position = positions[i]\n",
    "\n",
    "        # Determine base return based on position\n",
    "        if curr_position == 'LONG':\n",
    "            ret = actual_returns[i]\n",
    "        elif curr_position == 'SHORT':\n",
    "            ret = -actual_returns[i]\n",
    "        else:\n",
    "            ret = 0\n",
    "\n",
    "        # Apply fee only if position changed\n",
    "        if prev_position is not None and curr_position != prev_position:\n",
    "            ret -= fee\n",
    "\n",
    "        strategy_returns[i] = ret\n",
    "        prev_position = curr_position\n",
    "    \n",
    "    # Compute cumulative return\n",
    "    cumulative_return = np.cumprod(1 + strategy_returns) - 1'\n",
    "    '''\n",
    "    cumulative_return = np.cumprod(1 + (actual_returns * (np.array(positions) == 'LONG') - actual_returns * (np.array(positions) == 'SHORT'))) - 1\n",
    "    trades = pd.DataFrame({\n",
    "        'Date': dates,\n",
    "        'Stock_Close_Price': close_prices,\n",
    "        'Predicted_Return': predicted_returns.flatten(),\n",
    "        'Actual_Return': actual_returns,\n",
    "        'Position': positions,\n",
    "        'Cumulative_Return': cumulative_return,\n",
    "        'Coin': coin\n",
    "    })\n",
    "    \n",
    "    return trades \n",
    "\n",
    "# Function to plot cumulative returns for each stock\n",
    "def plot_cumulative_returns(all_trades_df):\n",
    "    plt.figure(figsize=(12, 6))\n",
    "    for coin in all_trades_df['Coin'].unique():\n",
    "        df_coin = all_trades_df[all_trades_df['Coin'] == coin]\n",
    "        plt.plot(df_coin['Date'], df_coin['Cumulative_Return'], label=coin)\n",
    "    \n",
    "    plt.xlabel('Date')\n",
    "    plt.ylabel('Cumulative Return')\n",
    "    plt.title('Cumulative Returns for Each Cryptocurrency')\n",
    "    plt.legend()\n",
    "    plt.xticks(rotation=45)\n",
    "    plt.show()"
   ]
  },
  {
   "cell_type": "code",
   "execution_count": 164,
   "metadata": {},
   "outputs": [],
   "source": [
    "file_path = \"./data_with_indicators/crypto_prices_1m_with_indicators.csv\"\n",
    "df, feature_cols = load_and_preprocess_data(file_path)"
   ]
  },
  {
   "cell_type": "code",
   "execution_count": 165,
   "metadata": {},
   "outputs": [],
   "source": [
    "\n",
    "all_trades = []\n",
    "unique_coins = ['BTC', 'ETH', 'SOL', 'XRP']\n"
   ]
  },
  {
   "cell_type": "code",
   "execution_count": 166,
   "metadata": {},
   "outputs": [
    {
     "name": "stdout",
     "output_type": "stream",
     "text": [
      "Processing BTC...\n",
      "Epoch 1/50\n"
     ]
    },
    {
     "name": "stderr",
     "output_type": "stream",
     "text": [
      "2025-03-30 15:38:30.525599: E tensorflow/core/framework/node_def_util.cc:680] NodeDef mentions attribute use_unbounded_threadpool which is not in the op definition: Op<name=MapDataset; signature=input_dataset:variant, other_arguments: -> handle:variant; attr=f:func; attr=Targuments:list(type),min=0; attr=output_types:list(type),min=1; attr=output_shapes:list(shape),min=1; attr=use_inter_op_parallelism:bool,default=true; attr=preserve_cardinality:bool,default=false; attr=force_synchronous:bool,default=false; attr=metadata:string,default=\"\"> This may be expected if your graph generating binary is newer  than this binary. Unknown attributes will be ignored. NodeDef: {{node ParallelMapDatasetV2/_15}}\n",
      "2025-03-30 15:38:30.526018: E tensorflow/core/framework/node_def_util.cc:680] NodeDef mentions attribute use_unbounded_threadpool which is not in the op definition: Op<name=MapDataset; signature=input_dataset:variant, other_arguments: -> handle:variant; attr=f:func; attr=Targuments:list(type),min=0; attr=output_types:list(type),min=1; attr=output_shapes:list(shape),min=1; attr=use_inter_op_parallelism:bool,default=true; attr=preserve_cardinality:bool,default=false; attr=force_synchronous:bool,default=false; attr=metadata:string,default=\"\"> This may be expected if your graph generating binary is newer  than this binary. Unknown attributes will be ignored. NodeDef: {{node ParallelMapDatasetV2/_15}}\n"
     ]
    },
    {
     "name": "stdout",
     "output_type": "stream",
     "text": [
      "\u001b[1m2121/2123\u001b[0m \u001b[32m━━━━━━━━━━━━━━━━━━━\u001b[0m\u001b[37m━\u001b[0m \u001b[1m0s\u001b[0m 6ms/step - loss: 0.0069 - mae: 0.0494"
     ]
    },
    {
     "name": "stderr",
     "output_type": "stream",
     "text": [
      "2025-03-30 15:38:43.641177: E tensorflow/core/framework/node_def_util.cc:680] NodeDef mentions attribute use_unbounded_threadpool which is not in the op definition: Op<name=MapDataset; signature=input_dataset:variant, other_arguments: -> handle:variant; attr=f:func; attr=Targuments:list(type),min=0; attr=output_types:list(type),min=1; attr=output_shapes:list(shape),min=1; attr=use_inter_op_parallelism:bool,default=true; attr=preserve_cardinality:bool,default=false; attr=force_synchronous:bool,default=false; attr=metadata:string,default=\"\"> This may be expected if your graph generating binary is newer  than this binary. Unknown attributes will be ignored. NodeDef: {{node ParallelMapDatasetV2/_15}}\n",
      "2025-03-30 15:38:43.641617: E tensorflow/core/framework/node_def_util.cc:680] NodeDef mentions attribute use_unbounded_threadpool which is not in the op definition: Op<name=MapDataset; signature=input_dataset:variant, other_arguments: -> handle:variant; attr=f:func; attr=Targuments:list(type),min=0; attr=output_types:list(type),min=1; attr=output_shapes:list(shape),min=1; attr=use_inter_op_parallelism:bool,default=true; attr=preserve_cardinality:bool,default=false; attr=force_synchronous:bool,default=false; attr=metadata:string,default=\"\"> This may be expected if your graph generating binary is newer  than this binary. Unknown attributes will be ignored. NodeDef: {{node ParallelMapDatasetV2/_15}}\n"
     ]
    },
    {
     "name": "stdout",
     "output_type": "stream",
     "text": [
      "\u001b[1m2123/2123\u001b[0m \u001b[32m━━━━━━━━━━━━━━━━━━━━\u001b[0m\u001b[37m\u001b[0m \u001b[1m14s\u001b[0m 6ms/step - loss: 0.0069 - mae: 0.0493 - val_loss: 4.8494e-04 - val_mae: 0.0142 - learning_rate: 0.0010\n",
      "Epoch 2/50\n",
      "\u001b[1m2123/2123\u001b[0m \u001b[32m━━━━━━━━━━━━━━━━━━━━\u001b[0m\u001b[37m\u001b[0m \u001b[1m13s\u001b[0m 6ms/step - loss: 7.5062e-04 - mae: 0.0201 - val_loss: 5.6515e-04 - val_mae: 0.0164 - learning_rate: 0.0010\n",
      "Epoch 3/50\n",
      "\u001b[1m2123/2123\u001b[0m \u001b[32m━━━━━━━━━━━━━━━━━━━━\u001b[0m\u001b[37m\u001b[0m \u001b[1m13s\u001b[0m 6ms/step - loss: 5.3113e-04 - mae: 0.0159 - val_loss: 4.7140e-04 - val_mae: 0.0136 - learning_rate: 0.0010\n",
      "Epoch 4/50\n",
      "\u001b[1m2123/2123\u001b[0m \u001b[32m━━━━━━━━━━━━━━━━━━━━\u001b[0m\u001b[37m\u001b[0m \u001b[1m13s\u001b[0m 6ms/step - loss: 4.6000e-04 - mae: 0.0141 - val_loss: 4.6833e-04 - val_mae: 0.0137 - learning_rate: 0.0010\n",
      "Epoch 5/50\n",
      "\u001b[1m2123/2123\u001b[0m \u001b[32m━━━━━━━━━━━━━━━━━━━━\u001b[0m\u001b[37m\u001b[0m \u001b[1m14s\u001b[0m 6ms/step - loss: 4.3204e-04 - mae: 0.0132 - val_loss: 4.6786e-04 - val_mae: 0.0136 - learning_rate: 5.0000e-04\n",
      "Epoch 6/50\n",
      "\u001b[1m2123/2123\u001b[0m \u001b[32m━━━━━━━━━━━━━━━━━━━━\u001b[0m\u001b[37m\u001b[0m \u001b[1m14s\u001b[0m 7ms/step - loss: 4.3106e-04 - mae: 0.0132 - val_loss: 4.6838e-04 - val_mae: 0.0137 - learning_rate: 5.0000e-04\n",
      "Epoch 7/50\n",
      "\u001b[1m2123/2123\u001b[0m \u001b[32m━━━━━━━━━━━━━━━━━━━━\u001b[0m\u001b[37m\u001b[0m \u001b[1m14s\u001b[0m 7ms/step - loss: 4.2878e-04 - mae: 0.0131 - val_loss: 4.7236e-04 - val_mae: 0.0139 - learning_rate: 5.0000e-04\n",
      "Epoch 8/50\n",
      "\u001b[1m2123/2123\u001b[0m \u001b[32m━━━━━━━━━━━━━━━━━━━━\u001b[0m\u001b[37m\u001b[0m \u001b[1m14s\u001b[0m 7ms/step - loss: 4.2543e-04 - mae: 0.0130 - val_loss: 4.7257e-04 - val_mae: 0.0139 - learning_rate: 2.5000e-04\n",
      "Epoch 9/50\n",
      "\u001b[1m2123/2123\u001b[0m \u001b[32m━━━━━━━━━━━━━━━━━━━━\u001b[0m\u001b[37m\u001b[0m \u001b[1m16s\u001b[0m 7ms/step - loss: 4.2540e-04 - mae: 0.0130 - val_loss: 4.7230e-04 - val_mae: 0.0139 - learning_rate: 2.5000e-04\n",
      "Epoch 10/50\n",
      "\u001b[1m2123/2123\u001b[0m \u001b[32m━━━━━━━━━━━━━━━━━━━━\u001b[0m\u001b[37m\u001b[0m \u001b[1m16s\u001b[0m 8ms/step - loss: 4.2504e-04 - mae: 0.0129 - val_loss: 4.7088e-04 - val_mae: 0.0138 - learning_rate: 2.5000e-04\n",
      "\u001b[1m 41/531\u001b[0m \u001b[32m━\u001b[0m\u001b[37m━━━━━━━━━━━━━━━━━━━\u001b[0m \u001b[1m1s\u001b[0m 3ms/step"
     ]
    },
    {
     "name": "stderr",
     "output_type": "stream",
     "text": [
      "2025-03-30 15:40:52.303022: E tensorflow/core/framework/node_def_util.cc:680] NodeDef mentions attribute use_unbounded_threadpool which is not in the op definition: Op<name=MapDataset; signature=input_dataset:variant, other_arguments: -> handle:variant; attr=f:func; attr=Targuments:list(type),min=0; attr=output_types:list(type),min=1; attr=output_shapes:list(shape),min=1; attr=use_inter_op_parallelism:bool,default=true; attr=preserve_cardinality:bool,default=false; attr=force_synchronous:bool,default=false; attr=metadata:string,default=\"\"> This may be expected if your graph generating binary is newer  than this binary. Unknown attributes will be ignored. NodeDef: {{node ParallelMapDatasetV2/_14}}\n",
      "2025-03-30 15:40:52.303478: E tensorflow/core/framework/node_def_util.cc:680] NodeDef mentions attribute use_unbounded_threadpool which is not in the op definition: Op<name=MapDataset; signature=input_dataset:variant, other_arguments: -> handle:variant; attr=f:func; attr=Targuments:list(type),min=0; attr=output_types:list(type),min=1; attr=output_shapes:list(shape),min=1; attr=use_inter_op_parallelism:bool,default=true; attr=preserve_cardinality:bool,default=false; attr=force_synchronous:bool,default=false; attr=metadata:string,default=\"\"> This may be expected if your graph generating binary is newer  than this binary. Unknown attributes will be ignored. NodeDef: {{node ParallelMapDatasetV2/_14}}\n"
     ]
    },
    {
     "name": "stdout",
     "output_type": "stream",
     "text": [
      "\u001b[1m531/531\u001b[0m \u001b[32m━━━━━━━━━━━━━━━━━━━━\u001b[0m\u001b[37m\u001b[0m \u001b[1m2s\u001b[0m 3ms/step\n"
     ]
    }
   ],
   "source": [
    "coin = 'BTC'\n",
    "print(f\"Processing {coin}...\")\n",
    "b_model, b_y_test, b_y_pred, b_dates_test, b_close_prices_test = train_and_evaluate_model(df, feature_cols, coin)\n"
   ]
  },
  {
   "cell_type": "code",
   "execution_count": 167,
   "metadata": {},
   "outputs": [],
   "source": [
    "btc_trades = log_trades(b_dates_test, b_y_test.flatten(), b_y_pred.flatten(), b_close_prices_test, coin)\n",
    "all_trades.append(btc_trades)"
   ]
  },
  {
   "cell_type": "code",
   "execution_count": 168,
   "metadata": {},
   "outputs": [
    {
     "name": "stdout",
     "output_type": "stream",
     "text": [
      "Processing ETH...\n",
      "Epoch 1/50\n",
      "\u001b[1m1061/1062\u001b[0m \u001b[32m━━━━━━━━━━━━━━━━━━━\u001b[0m\u001b[37m━\u001b[0m \u001b[1m0s\u001b[0m 9ms/step - loss: 0.0076 - mae: 0.0574"
     ]
    },
    {
     "name": "stderr",
     "output_type": "stream",
     "text": [
      "2025-03-30 15:41:05.079617: E tensorflow/core/framework/node_def_util.cc:680] NodeDef mentions attribute use_unbounded_threadpool which is not in the op definition: Op<name=MapDataset; signature=input_dataset:variant, other_arguments: -> handle:variant; attr=f:func; attr=Targuments:list(type),min=0; attr=output_types:list(type),min=1; attr=output_shapes:list(shape),min=1; attr=use_inter_op_parallelism:bool,default=true; attr=preserve_cardinality:bool,default=false; attr=force_synchronous:bool,default=false; attr=metadata:string,default=\"\"> This may be expected if your graph generating binary is newer  than this binary. Unknown attributes will be ignored. NodeDef: {{node ParallelMapDatasetV2/_15}}\n",
      "2025-03-30 15:41:05.080093: E tensorflow/core/framework/node_def_util.cc:680] NodeDef mentions attribute use_unbounded_threadpool which is not in the op definition: Op<name=MapDataset; signature=input_dataset:variant, other_arguments: -> handle:variant; attr=f:func; attr=Targuments:list(type),min=0; attr=output_types:list(type),min=1; attr=output_shapes:list(shape),min=1; attr=use_inter_op_parallelism:bool,default=true; attr=preserve_cardinality:bool,default=false; attr=force_synchronous:bool,default=false; attr=metadata:string,default=\"\"> This may be expected if your graph generating binary is newer  than this binary. Unknown attributes will be ignored. NodeDef: {{node ParallelMapDatasetV2/_15}}\n"
     ]
    },
    {
     "name": "stdout",
     "output_type": "stream",
     "text": [
      "\u001b[1m1062/1062\u001b[0m \u001b[32m━━━━━━━━━━━━━━━━━━━━\u001b[0m\u001b[37m\u001b[0m \u001b[1m12s\u001b[0m 10ms/step - loss: 0.0076 - mae: 0.0574 - val_loss: 1.6846e-04 - val_mae: 0.0099 - learning_rate: 0.0010\n",
      "Epoch 2/50\n",
      "\u001b[1m1062/1062\u001b[0m \u001b[32m━━━━━━━━━━━━━━━━━━━━\u001b[0m\u001b[37m\u001b[0m \u001b[1m11s\u001b[0m 10ms/step - loss: 0.0010 - mae: 0.0250 - val_loss: 8.8732e-05 - val_mae: 0.0066 - learning_rate: 0.0010\n",
      "Epoch 3/50\n",
      "\u001b[1m1062/1062\u001b[0m \u001b[32m━━━━━━━━━━━━━━━━━━━━\u001b[0m\u001b[37m\u001b[0m \u001b[1m11s\u001b[0m 10ms/step - loss: 6.3525e-04 - mae: 0.0198 - val_loss: 8.5390e-05 - val_mae: 0.0065 - learning_rate: 0.0010\n",
      "Epoch 4/50\n",
      "\u001b[1m1062/1062\u001b[0m \u001b[32m━━━━━━━━━━━━━━━━━━━━\u001b[0m\u001b[37m\u001b[0m \u001b[1m11s\u001b[0m 10ms/step - loss: 3.6090e-04 - mae: 0.0147 - val_loss: 7.5474e-05 - val_mae: 0.0058 - learning_rate: 0.0010\n",
      "Epoch 5/50\n",
      "\u001b[1m1062/1062\u001b[0m \u001b[32m━━━━━━━━━━━━━━━━━━━━\u001b[0m\u001b[37m\u001b[0m \u001b[1m11s\u001b[0m 11ms/step - loss: 1.9769e-04 - mae: 0.0106 - val_loss: 8.2408e-05 - val_mae: 0.0064 - learning_rate: 5.0000e-04\n",
      "Epoch 6/50\n",
      "\u001b[1m1062/1062\u001b[0m \u001b[32m━━━━━━━━━━━━━━━━━━━━\u001b[0m\u001b[37m\u001b[0m \u001b[1m11s\u001b[0m 11ms/step - loss: 1.4052e-04 - mae: 0.0086 - val_loss: 8.3702e-05 - val_mae: 0.0064 - learning_rate: 5.0000e-04\n",
      "Epoch 7/50\n",
      "\u001b[1m1062/1062\u001b[0m \u001b[32m━━━━━━━━━━━━━━━━━━━━\u001b[0m\u001b[37m\u001b[0m \u001b[1m11s\u001b[0m 11ms/step - loss: 1.0441e-04 - mae: 0.0070 - val_loss: 7.3303e-05 - val_mae: 0.0057 - learning_rate: 5.0000e-04\n",
      "Epoch 8/50\n",
      "\u001b[1m1062/1062\u001b[0m \u001b[32m━━━━━━━━━━━━━━━━━━━━\u001b[0m\u001b[37m\u001b[0m \u001b[1m11s\u001b[0m 10ms/step - loss: 8.4257e-05 - mae: 0.0059 - val_loss: 7.3432e-05 - val_mae: 0.0057 - learning_rate: 2.5000e-04\n",
      "Epoch 9/50\n",
      "\u001b[1m1062/1062\u001b[0m \u001b[32m━━━━━━━━━━━━━━━━━━━━\u001b[0m\u001b[37m\u001b[0m \u001b[1m11s\u001b[0m 11ms/step - loss: 7.8263e-05 - mae: 0.0056 - val_loss: 7.0943e-05 - val_mae: 0.0055 - learning_rate: 2.5000e-04\n",
      "Epoch 10/50\n",
      "\u001b[1m1062/1062\u001b[0m \u001b[32m━━━━━━━━━━━━━━━━━━━━\u001b[0m\u001b[37m\u001b[0m \u001b[1m11s\u001b[0m 11ms/step - loss: 7.5092e-05 - mae: 0.0054 - val_loss: 7.0782e-05 - val_mae: 0.0055 - learning_rate: 2.5000e-04\n",
      "Epoch 11/50\n",
      "\u001b[1m1062/1062\u001b[0m \u001b[32m━━━━━━━━━━━━━━━━━━━━\u001b[0m\u001b[37m\u001b[0m \u001b[1m11s\u001b[0m 11ms/step - loss: 7.2816e-05 - mae: 0.0052 - val_loss: 7.2086e-05 - val_mae: 0.0056 - learning_rate: 1.2500e-04\n",
      "Epoch 12/50\n",
      "\u001b[1m1062/1062\u001b[0m \u001b[32m━━━━━━━━━━━━━━━━━━━━\u001b[0m\u001b[37m\u001b[0m \u001b[1m12s\u001b[0m 11ms/step - loss: 7.2159e-05 - mae: 0.0051 - val_loss: 7.1450e-05 - val_mae: 0.0056 - learning_rate: 1.2500e-04\n",
      "Epoch 13/50\n",
      "\u001b[1m1062/1062\u001b[0m \u001b[32m━━━━━━━━━━━━━━━━━━━━\u001b[0m\u001b[37m\u001b[0m \u001b[1m11s\u001b[0m 11ms/step - loss: 7.1509e-05 - mae: 0.0051 - val_loss: 7.1677e-05 - val_mae: 0.0056 - learning_rate: 1.2500e-04\n",
      "Epoch 14/50\n",
      "\u001b[1m1062/1062\u001b[0m \u001b[32m━━━━━━━━━━━━━━━━━━━━\u001b[0m\u001b[37m\u001b[0m \u001b[1m11s\u001b[0m 11ms/step - loss: 7.0575e-05 - mae: 0.0050 - val_loss: 7.1006e-05 - val_mae: 0.0056 - learning_rate: 6.2500e-05\n",
      "Epoch 15/50\n",
      "\u001b[1m1062/1062\u001b[0m \u001b[32m━━━━━━━━━━━━━━━━━━━━\u001b[0m\u001b[37m\u001b[0m \u001b[1m13s\u001b[0m 12ms/step - loss: 7.0502e-05 - mae: 0.0050 - val_loss: 7.1053e-05 - val_mae: 0.0056 - learning_rate: 6.2500e-05\n",
      "\u001b[1m 36/531\u001b[0m \u001b[32m━\u001b[0m\u001b[37m━━━━━━━━━━━━━━━━━━━\u001b[0m \u001b[1m1s\u001b[0m 3ms/step"
     ]
    },
    {
     "name": "stderr",
     "output_type": "stream",
     "text": [
      "2025-03-30 15:43:45.045603: E tensorflow/core/framework/node_def_util.cc:680] NodeDef mentions attribute use_unbounded_threadpool which is not in the op definition: Op<name=MapDataset; signature=input_dataset:variant, other_arguments: -> handle:variant; attr=f:func; attr=Targuments:list(type),min=0; attr=output_types:list(type),min=1; attr=output_shapes:list(shape),min=1; attr=use_inter_op_parallelism:bool,default=true; attr=preserve_cardinality:bool,default=false; attr=force_synchronous:bool,default=false; attr=metadata:string,default=\"\"> This may be expected if your graph generating binary is newer  than this binary. Unknown attributes will be ignored. NodeDef: {{node ParallelMapDatasetV2/_14}}\n",
      "2025-03-30 15:43:45.046301: E tensorflow/core/framework/node_def_util.cc:680] NodeDef mentions attribute use_unbounded_threadpool which is not in the op definition: Op<name=MapDataset; signature=input_dataset:variant, other_arguments: -> handle:variant; attr=f:func; attr=Targuments:list(type),min=0; attr=output_types:list(type),min=1; attr=output_shapes:list(shape),min=1; attr=use_inter_op_parallelism:bool,default=true; attr=preserve_cardinality:bool,default=false; attr=force_synchronous:bool,default=false; attr=metadata:string,default=\"\"> This may be expected if your graph generating binary is newer  than this binary. Unknown attributes will be ignored. NodeDef: {{node ParallelMapDatasetV2/_14}}\n"
     ]
    },
    {
     "name": "stdout",
     "output_type": "stream",
     "text": [
      "\u001b[1m531/531\u001b[0m \u001b[32m━━━━━━━━━━━━━━━━━━━━\u001b[0m\u001b[37m\u001b[0m \u001b[1m2s\u001b[0m 3ms/step\n"
     ]
    }
   ],
   "source": [
    "coin = 'ETH'\n",
    "print(f\"Processing {coin}...\")\n",
    "e_model, e_y_test, e_y_pred, e_dates_test, e_close_prices_test = train_and_evaluate_model(df, feature_cols, coin)\n"
   ]
  },
  {
   "cell_type": "code",
   "execution_count": 169,
   "metadata": {},
   "outputs": [],
   "source": [
    "# Log trades and update cumulative returns\n",
    "eth_trades = log_trades(e_dates_test, e_y_test.flatten(), e_y_pred.flatten(), e_close_prices_test, coin)\n",
    "all_trades.append(eth_trades)"
   ]
  },
  {
   "cell_type": "code",
   "execution_count": 170,
   "metadata": {},
   "outputs": [
    {
     "name": "stdout",
     "output_type": "stream",
     "text": [
      "Processing SOL...\n",
      "Epoch 1/50\n",
      "\u001b[1m4243/4246\u001b[0m \u001b[32m━━━━━━━━━━━━━━━━━━━\u001b[0m\u001b[37m━\u001b[0m \u001b[1m0s\u001b[0m 6ms/step - loss: 0.0109 - mae: 0.0613"
     ]
    },
    {
     "name": "stderr",
     "output_type": "stream",
     "text": [
      "2025-03-30 15:44:12.935227: E tensorflow/core/framework/node_def_util.cc:680] NodeDef mentions attribute use_unbounded_threadpool which is not in the op definition: Op<name=MapDataset; signature=input_dataset:variant, other_arguments: -> handle:variant; attr=f:func; attr=Targuments:list(type),min=0; attr=output_types:list(type),min=1; attr=output_shapes:list(shape),min=1; attr=use_inter_op_parallelism:bool,default=true; attr=preserve_cardinality:bool,default=false; attr=force_synchronous:bool,default=false; attr=metadata:string,default=\"\"> This may be expected if your graph generating binary is newer  than this binary. Unknown attributes will be ignored. NodeDef: {{node ParallelMapDatasetV2/_15}}\n",
      "2025-03-30 15:44:12.935648: E tensorflow/core/framework/node_def_util.cc:680] NodeDef mentions attribute use_unbounded_threadpool which is not in the op definition: Op<name=MapDataset; signature=input_dataset:variant, other_arguments: -> handle:variant; attr=f:func; attr=Targuments:list(type),min=0; attr=output_types:list(type),min=1; attr=output_shapes:list(shape),min=1; attr=use_inter_op_parallelism:bool,default=true; attr=preserve_cardinality:bool,default=false; attr=force_synchronous:bool,default=false; attr=metadata:string,default=\"\"> This may be expected if your graph generating binary is newer  than this binary. Unknown attributes will be ignored. NodeDef: {{node ParallelMapDatasetV2/_15}}\n"
     ]
    },
    {
     "name": "stdout",
     "output_type": "stream",
     "text": [
      "\u001b[1m4246/4246\u001b[0m \u001b[32m━━━━━━━━━━━━━━━━━━━━\u001b[0m\u001b[37m\u001b[0m \u001b[1m28s\u001b[0m 6ms/step - loss: 0.0109 - mae: 0.0613 - val_loss: 0.0013 - val_mae: 0.0252 - learning_rate: 0.0010\n",
      "Epoch 2/50\n",
      "\u001b[1m4246/4246\u001b[0m \u001b[32m━━━━━━━━━━━━━━━━━━━━\u001b[0m\u001b[37m\u001b[0m \u001b[1m25s\u001b[0m 6ms/step - loss: 0.0013 - mae: 0.0245 - val_loss: 0.0013 - val_mae: 0.0249 - learning_rate: 0.0010\n",
      "Epoch 3/50\n",
      "\u001b[1m4246/4246\u001b[0m \u001b[32m━━━━━━━━━━━━━━━━━━━━\u001b[0m\u001b[37m\u001b[0m \u001b[1m25s\u001b[0m 6ms/step - loss: 0.0012 - mae: 0.0225 - val_loss: 0.0013 - val_mae: 0.0249 - learning_rate: 0.0010\n",
      "Epoch 4/50\n",
      "\u001b[1m4246/4246\u001b[0m \u001b[32m━━━━━━━━━━━━━━━━━━━━\u001b[0m\u001b[37m\u001b[0m \u001b[1m25s\u001b[0m 6ms/step - loss: 0.0012 - mae: 0.0223 - val_loss: 0.0013 - val_mae: 0.0249 - learning_rate: 0.0010\n",
      "Epoch 5/50\n",
      "\u001b[1m4246/4246\u001b[0m \u001b[32m━━━━━━━━━━━━━━━━━━━━\u001b[0m\u001b[37m\u001b[0m \u001b[1m25s\u001b[0m 6ms/step - loss: 0.0012 - mae: 0.0222 - val_loss: 0.0013 - val_mae: 0.0249 - learning_rate: 5.0000e-04\n",
      "Epoch 6/50\n",
      "\u001b[1m4246/4246\u001b[0m \u001b[32m━━━━━━━━━━━━━━━━━━━━\u001b[0m\u001b[37m\u001b[0m \u001b[1m26s\u001b[0m 6ms/step - loss: 0.0012 - mae: 0.0222 - val_loss: 0.0013 - val_mae: 0.0249 - learning_rate: 5.0000e-04\n",
      "Epoch 7/50\n",
      "\u001b[1m4246/4246\u001b[0m \u001b[32m━━━━━━━━━━━━━━━━━━━━\u001b[0m\u001b[37m\u001b[0m \u001b[1m25s\u001b[0m 6ms/step - loss: 0.0012 - mae: 0.0222 - val_loss: 0.0013 - val_mae: 0.0249 - learning_rate: 5.0000e-04\n",
      "Epoch 8/50\n",
      "\u001b[1m4246/4246\u001b[0m \u001b[32m━━━━━━━━━━━━━━━━━━━━\u001b[0m\u001b[37m\u001b[0m \u001b[1m27s\u001b[0m 6ms/step - loss: 0.0012 - mae: 0.0222 - val_loss: 0.0013 - val_mae: 0.0248 - learning_rate: 2.5000e-04\n",
      "Epoch 9/50\n",
      "\u001b[1m4246/4246\u001b[0m \u001b[32m━━━━━━━━━━━━━━━━━━━━\u001b[0m\u001b[37m\u001b[0m \u001b[1m26s\u001b[0m 6ms/step - loss: 0.0012 - mae: 0.0222 - val_loss: 0.0013 - val_mae: 0.0248 - learning_rate: 2.5000e-04\n",
      "Epoch 10/50\n",
      "\u001b[1m4246/4246\u001b[0m \u001b[32m━━━━━━━━━━━━━━━━━━━━\u001b[0m\u001b[37m\u001b[0m \u001b[1m26s\u001b[0m 6ms/step - loss: 0.0012 - mae: 0.0222 - val_loss: 0.0013 - val_mae: 0.0249 - learning_rate: 2.5000e-04\n",
      "Epoch 11/50\n",
      "\u001b[1m4246/4246\u001b[0m \u001b[32m━━━━━━━━━━━━━━━━━━━━\u001b[0m\u001b[37m\u001b[0m \u001b[1m27s\u001b[0m 6ms/step - loss: 0.0012 - mae: 0.0221 - val_loss: 0.0013 - val_mae: 0.0248 - learning_rate: 1.2500e-04\n",
      "Epoch 12/50\n",
      "\u001b[1m4246/4246\u001b[0m \u001b[32m━━━━━━━━━━━━━━━━━━━━\u001b[0m\u001b[37m\u001b[0m \u001b[1m27s\u001b[0m 6ms/step - loss: 0.0012 - mae: 0.0221 - val_loss: 0.0013 - val_mae: 0.0249 - learning_rate: 1.2500e-04\n",
      "Epoch 13/50\n",
      "\u001b[1m4246/4246\u001b[0m \u001b[32m━━━━━━━━━━━━━━━━━━━━\u001b[0m\u001b[37m\u001b[0m \u001b[1m31s\u001b[0m 7ms/step - loss: 0.0012 - mae: 0.0221 - val_loss: 0.0013 - val_mae: 0.0248 - learning_rate: 1.2500e-04\n",
      "\u001b[1m 15/531\u001b[0m \u001b[37m━━━━━━━━━━━━━━━━━━━━\u001b[0m \u001b[1m1s\u001b[0m 4ms/step    "
     ]
    },
    {
     "name": "stderr",
     "output_type": "stream",
     "text": [
      "2025-03-30 15:49:30.328221: E tensorflow/core/framework/node_def_util.cc:680] NodeDef mentions attribute use_unbounded_threadpool which is not in the op definition: Op<name=MapDataset; signature=input_dataset:variant, other_arguments: -> handle:variant; attr=f:func; attr=Targuments:list(type),min=0; attr=output_types:list(type),min=1; attr=output_shapes:list(shape),min=1; attr=use_inter_op_parallelism:bool,default=true; attr=preserve_cardinality:bool,default=false; attr=force_synchronous:bool,default=false; attr=metadata:string,default=\"\"> This may be expected if your graph generating binary is newer  than this binary. Unknown attributes will be ignored. NodeDef: {{node ParallelMapDatasetV2/_14}}\n",
      "2025-03-30 15:49:30.328788: E tensorflow/core/framework/node_def_util.cc:680] NodeDef mentions attribute use_unbounded_threadpool which is not in the op definition: Op<name=MapDataset; signature=input_dataset:variant, other_arguments: -> handle:variant; attr=f:func; attr=Targuments:list(type),min=0; attr=output_types:list(type),min=1; attr=output_shapes:list(shape),min=1; attr=use_inter_op_parallelism:bool,default=true; attr=preserve_cardinality:bool,default=false; attr=force_synchronous:bool,default=false; attr=metadata:string,default=\"\"> This may be expected if your graph generating binary is newer  than this binary. Unknown attributes will be ignored. NodeDef: {{node ParallelMapDatasetV2/_14}}\n"
     ]
    },
    {
     "name": "stdout",
     "output_type": "stream",
     "text": [
      "\u001b[1m531/531\u001b[0m \u001b[32m━━━━━━━━━━━━━━━━━━━━\u001b[0m\u001b[37m\u001b[0m \u001b[1m2s\u001b[0m 4ms/step\n"
     ]
    }
   ],
   "source": [
    "coin = 'SOL'\n",
    "print(f\"Processing {coin}...\")\n",
    "s_model, s_y_test, s_y_pred, s_dates_test, s_close_prices_test = train_and_evaluate_model(df, feature_cols, coin)\n"
   ]
  },
  {
   "cell_type": "code",
   "execution_count": 171,
   "metadata": {},
   "outputs": [],
   "source": [
    "# Log trades and update cumulative returns\n",
    "sol_trades = log_trades(s_dates_test, s_y_test.flatten(), s_y_pred.flatten(), s_close_prices_test, coin)\n",
    "all_trades.append(sol_trades)"
   ]
  },
  {
   "cell_type": "code",
   "execution_count": 172,
   "metadata": {},
   "outputs": [
    {
     "name": "stdout",
     "output_type": "stream",
     "text": [
      "Processing XRP...\n",
      "Epoch 1/50\n",
      "\u001b[1m2119/2123\u001b[0m \u001b[32m━━━━━━━━━━━━━━━━━━━\u001b[0m\u001b[37m━\u001b[0m \u001b[1m0s\u001b[0m 9ms/step - loss: 0.0115 - mae: 0.0622"
     ]
    },
    {
     "name": "stderr",
     "output_type": "stream",
     "text": [
      "2025-03-30 15:49:54.398252: E tensorflow/core/framework/node_def_util.cc:680] NodeDef mentions attribute use_unbounded_threadpool which is not in the op definition: Op<name=MapDataset; signature=input_dataset:variant, other_arguments: -> handle:variant; attr=f:func; attr=Targuments:list(type),min=0; attr=output_types:list(type),min=1; attr=output_shapes:list(shape),min=1; attr=use_inter_op_parallelism:bool,default=true; attr=preserve_cardinality:bool,default=false; attr=force_synchronous:bool,default=false; attr=metadata:string,default=\"\"> This may be expected if your graph generating binary is newer  than this binary. Unknown attributes will be ignored. NodeDef: {{node ParallelMapDatasetV2/_15}}\n",
      "2025-03-30 15:49:54.398801: E tensorflow/core/framework/node_def_util.cc:680] NodeDef mentions attribute use_unbounded_threadpool which is not in the op definition: Op<name=MapDataset; signature=input_dataset:variant, other_arguments: -> handle:variant; attr=f:func; attr=Targuments:list(type),min=0; attr=output_types:list(type),min=1; attr=output_shapes:list(shape),min=1; attr=use_inter_op_parallelism:bool,default=true; attr=preserve_cardinality:bool,default=false; attr=force_synchronous:bool,default=false; attr=metadata:string,default=\"\"> This may be expected if your graph generating binary is newer  than this binary. Unknown attributes will be ignored. NodeDef: {{node ParallelMapDatasetV2/_15}}\n"
     ]
    },
    {
     "name": "stdout",
     "output_type": "stream",
     "text": [
      "\u001b[1m2123/2123\u001b[0m \u001b[32m━━━━━━━━━━━━━━━━━━━━\u001b[0m\u001b[37m\u001b[0m \u001b[1m23s\u001b[0m 10ms/step - loss: 0.0115 - mae: 0.0621 - val_loss: 2.3455e-04 - val_mae: 0.0122 - learning_rate: 0.0010\n",
      "Epoch 2/50\n",
      "\u001b[1m2123/2123\u001b[0m \u001b[32m━━━━━━━━━━━━━━━━━━━━\u001b[0m\u001b[37m\u001b[0m \u001b[1m21s\u001b[0m 10ms/step - loss: 5.7624e-04 - mae: 0.0183 - val_loss: 1.2862e-04 - val_mae: 0.0078 - learning_rate: 0.0010\n",
      "Epoch 3/50\n",
      "\u001b[1m2123/2123\u001b[0m \u001b[32m━━━━━━━━━━━━━━━━━━━━\u001b[0m\u001b[37m\u001b[0m \u001b[1m20s\u001b[0m 9ms/step - loss: 1.9043e-04 - mae: 0.0094 - val_loss: 1.3627e-04 - val_mae: 0.0082 - learning_rate: 0.0010\n",
      "Epoch 4/50\n",
      "\u001b[1m2123/2123\u001b[0m \u001b[32m━━━━━━━━━━━━━━━━━━━━\u001b[0m\u001b[37m\u001b[0m \u001b[1m19s\u001b[0m 9ms/step - loss: 1.6734e-04 - mae: 0.0084 - val_loss: 1.2495e-04 - val_mae: 0.0076 - learning_rate: 0.0010\n",
      "Epoch 5/50\n",
      "\u001b[1m2123/2123\u001b[0m \u001b[32m━━━━━━━━━━━━━━━━━━━━\u001b[0m\u001b[37m\u001b[0m \u001b[1m20s\u001b[0m 9ms/step - loss: 1.6279e-04 - mae: 0.0082 - val_loss: 1.2610e-04 - val_mae: 0.0076 - learning_rate: 0.0010\n",
      "Epoch 6/50\n",
      "\u001b[1m2123/2123\u001b[0m \u001b[32m━━━━━━━━━━━━━━━━━━━━\u001b[0m\u001b[37m\u001b[0m \u001b[1m20s\u001b[0m 10ms/step - loss: 1.5755e-04 - mae: 0.0080 - val_loss: 1.2471e-04 - val_mae: 0.0076 - learning_rate: 5.0000e-04\n",
      "Epoch 7/50\n",
      "\u001b[1m2123/2123\u001b[0m \u001b[32m━━━━━━━━━━━━━━━━━━━━\u001b[0m\u001b[37m\u001b[0m \u001b[1m20s\u001b[0m 9ms/step - loss: 1.5713e-04 - mae: 0.0080 - val_loss: 1.2735e-04 - val_mae: 0.0078 - learning_rate: 5.0000e-04\n",
      "Epoch 8/50\n",
      "\u001b[1m2123/2123\u001b[0m \u001b[32m━━━━━━━━━━━━━━━━━━━━\u001b[0m\u001b[37m\u001b[0m \u001b[1m18s\u001b[0m 8ms/step - loss: 1.5642e-04 - mae: 0.0079 - val_loss: 1.2884e-04 - val_mae: 0.0078 - learning_rate: 5.0000e-04\n",
      "Epoch 9/50\n",
      "\u001b[1m2123/2123\u001b[0m \u001b[32m━━━━━━━━━━━━━━━━━━━━\u001b[0m\u001b[37m\u001b[0m \u001b[1m17s\u001b[0m 8ms/step - loss: 1.5516e-04 - mae: 0.0078 - val_loss: 1.2696e-04 - val_mae: 0.0077 - learning_rate: 2.5000e-04\n",
      "Epoch 10/50\n",
      "\u001b[1m2123/2123\u001b[0m \u001b[32m━━━━━━━━━━━━━━━━━━━━\u001b[0m\u001b[37m\u001b[0m \u001b[1m16s\u001b[0m 8ms/step - loss: 1.5492e-04 - mae: 0.0078 - val_loss: 1.2693e-04 - val_mae: 0.0077 - learning_rate: 2.5000e-04\n",
      "Epoch 11/50\n",
      "\u001b[1m2123/2123\u001b[0m \u001b[32m━━━━━━━━━━━━━━━━━━━━\u001b[0m\u001b[37m\u001b[0m \u001b[1m17s\u001b[0m 8ms/step - loss: 1.5493e-04 - mae: 0.0078 - val_loss: 1.2621e-04 - val_mae: 0.0077 - learning_rate: 2.5000e-04\n",
      "\u001b[1m 18/531\u001b[0m \u001b[37m━━━━━━━━━━━━━━━━━━━━\u001b[0m \u001b[1m1s\u001b[0m 3ms/step    "
     ]
    },
    {
     "name": "stderr",
     "output_type": "stream",
     "text": [
      "2025-03-30 15:53:03.664145: E tensorflow/core/framework/node_def_util.cc:680] NodeDef mentions attribute use_unbounded_threadpool which is not in the op definition: Op<name=MapDataset; signature=input_dataset:variant, other_arguments: -> handle:variant; attr=f:func; attr=Targuments:list(type),min=0; attr=output_types:list(type),min=1; attr=output_shapes:list(shape),min=1; attr=use_inter_op_parallelism:bool,default=true; attr=preserve_cardinality:bool,default=false; attr=force_synchronous:bool,default=false; attr=metadata:string,default=\"\"> This may be expected if your graph generating binary is newer  than this binary. Unknown attributes will be ignored. NodeDef: {{node ParallelMapDatasetV2/_14}}\n",
      "2025-03-30 15:53:03.664667: E tensorflow/core/framework/node_def_util.cc:680] NodeDef mentions attribute use_unbounded_threadpool which is not in the op definition: Op<name=MapDataset; signature=input_dataset:variant, other_arguments: -> handle:variant; attr=f:func; attr=Targuments:list(type),min=0; attr=output_types:list(type),min=1; attr=output_shapes:list(shape),min=1; attr=use_inter_op_parallelism:bool,default=true; attr=preserve_cardinality:bool,default=false; attr=force_synchronous:bool,default=false; attr=metadata:string,default=\"\"> This may be expected if your graph generating binary is newer  than this binary. Unknown attributes will be ignored. NodeDef: {{node ParallelMapDatasetV2/_14}}\n"
     ]
    },
    {
     "name": "stdout",
     "output_type": "stream",
     "text": [
      "\u001b[1m531/531\u001b[0m \u001b[32m━━━━━━━━━━━━━━━━━━━━\u001b[0m\u001b[37m\u001b[0m \u001b[1m1s\u001b[0m 3ms/step\n"
     ]
    }
   ],
   "source": [
    "coin = 'XRP'\n",
    "print(f\"Processing {coin}...\")\n",
    "xrp_model, xrp_y_test, xrp_y_pred, xrp_dates_test, xrp_close_prices_test = train_and_evaluate_model(df, feature_cols, coin)\n"
   ]
  },
  {
   "cell_type": "code",
   "execution_count": 173,
   "metadata": {},
   "outputs": [],
   "source": [
    "# Log trades and update cumulative returns\n",
    "xrp_trades = log_trades(xrp_dates_test, xrp_y_test.flatten(), xrp_y_pred.flatten(), xrp_close_prices_test, coin)\n",
    "all_trades.append(xrp_trades)"
   ]
  },
  {
   "cell_type": "code",
   "execution_count": 174,
   "metadata": {},
   "outputs": [],
   "source": [
    "all_trades = [btc_trades, eth_trades, sol_trades, xrp_trades]"
   ]
  },
  {
   "cell_type": "code",
   "execution_count": 175,
   "metadata": {},
   "outputs": [
    {
     "data": {
      "image/png": "[encoded data removed]",
      "text/plain": [
       "<Figure size 1200x600 with 1 Axes>"
      ]
     },
     "metadata": {},
     "output_type": "display_data"
    }
   ],
   "source": [
    "\n",
    "# Combine all trades into a single DataFrame\n",
    "all_trades_df = pd.concat(all_trades, ignore_index=True)\n",
    "\n",
    "# Plot cumulative returns for all stocks\n",
    "plot_cumulative_returns(all_trades_df)"
   ]
  },
  {
   "cell_type": "code",
   "execution_count": 176,
   "metadata": {},
   "outputs": [],
   "source": [
    "all_trades_df['Rolling_Risk'] = all_trades_df.groupby('Coin')['Actual_Return'].transform(lambda x: x.rolling(window=10).std())\n",
    "all_trades_df['Rolling_Average'] = all_trades_df.groupby('Coin')['Actual_Return'].transform(lambda x: x.rolling(window=10).mean())\n"
   ]
  },
  {
   "cell_type": "code",
   "execution_count": 177,
   "metadata": {},
   "outputs": [],
   "source": [
    "all_trades_df.to_csv(\"returns.csv\")"
   ]
  },
  {
   "cell_type": "code",
   "execution_count": 178,
   "metadata": {},
   "outputs": [
    {
     "data": {
      "image/png": "[encoded data removed]",
      "text/plain": [
       "<Figure size 1200x600 with 1 Axes>"
      ]
     },
     "metadata": {},
     "output_type": "display_data"
    }
   ],
   "source": [
    "# Reload the dataset\n",
    "file_path = \"./data_with_indicators/crypto_prices_1m_with_indicators.csv\"\n",
    "df, feature_cols = load_and_preprocess_data(file_path)\n",
    "\n",
    "# Function to plot Buy & Hold strategy for the test period (last 20% of the dataset)\n",
    "def plot_buy_and_hold_test_period(df):\n",
    "    plt.figure(figsize=(12, 6))\n",
    "\n",
    "    for coin in df['Coin'].unique():\n",
    "        df_coin = df[df['Coin'] == coin].sort_values('Datetime')\n",
    "\n",
    "        # Split data (80% train, 20% test)\n",
    "        split_index = int(len(df_coin) * 0.8)\n",
    "        df_test = df_coin.iloc[split_index:]  # Select last 20%\n",
    "\n",
    "        if df_test.empty:\n",
    "            continue  # Skip if no test data\n",
    "\n",
    "        initial_price = df_test['Close'].iloc[0]\n",
    "        buy_and_hold_returns = df_test['Close'] / initial_price  # Normalize returns\n",
    "\n",
    "        plt.plot(df_test['Datetime'], buy_and_hold_returns, label=f'Buy & Hold {coin}')\n",
    "\n",
    "    plt.xlabel('Date')\n",
    "    plt.ylabel('Cumulative Return')\n",
    "    plt.title('Buy & Hold Strategy (Test Period)')\n",
    "    plt.legend()\n",
    "    plt.xticks(rotation=45)\n",
    "    plt.show()\n",
    "\n",
    "# Plot the Buy & Hold strategy for the test period\n",
    "plot_buy_and_hold_test_period(df) "
   ]
  },
  {
   "cell_type": "code",
   "execution_count": 179,
   "metadata": {},
   "outputs": [
    {
     "name": "stdout",
     "output_type": "stream",
     "text": [
      "  Coin  Buy & Hold Return (%)  Trading Strategy Return (%)\n",
      "0  BTC                 -12.82                        10.54\n",
      "1  ETH                 -20.59                        22.30\n",
      "2  SOL                 -19.36                        21.95\n",
      "3  XRP                 -20.80                        27.86\n"
     ]
    }
   ],
   "source": [
    "# Function to calculate returns for both strategies during the test period\n",
    "def calculate_strategy_returns(df, all_trades_df):\n",
    "    results = []\n",
    "\n",
    "    for coin in df['Coin'].unique():\n",
    "        df_coin = df[df['Coin'] == coin].sort_values('Datetime')\n",
    "\n",
    "        # Split data (80% train, 20% test)\n",
    "        split_index = int(len(df_coin) * 0.8)\n",
    "        df_test = df_coin.iloc[split_index:]  # Select last 20%\n",
    "\n",
    "        if df_test.empty:\n",
    "            continue  # Skip if no test data\n",
    "\n",
    "        # Buy & Hold Strategy Return\n",
    "        initial_price = df_test['Close'].iloc[0]\n",
    "        final_price = df_test['Close'].iloc[-1]\n",
    "        buy_and_hold_return = (final_price / initial_price) - 1\n",
    "\n",
    "        # Trading Strategy Return (from the logged trades)\n",
    "        df_trades = all_trades_df[all_trades_df['Coin'] == coin]\n",
    "        strategy_return = df_trades['Cumulative_Return'].iloc[-1] if not df_trades.empty else None\n",
    "\n",
    "        results.append({\n",
    "            \"Coin\": coin,\n",
    "            \"Buy & Hold Return (%)\": round(buy_and_hold_return * 100, 2),\n",
    "            \"Trading Strategy Return (%)\": round(strategy_return * 100, 2) if strategy_return is not None else None\n",
    "        })\n",
    "\n",
    "    return pd.DataFrame(results)\n",
    "\n",
    "# Check if trading results exist\n",
    "if 'all_trades_df' in globals():\n",
    "    strategy_returns_df = calculate_strategy_returns(df, all_trades_df)\n",
    "    print(strategy_returns_df)\n",
    "else:\n",
    "    print(\"Trading strategy results are missing. Please re-run the trading model first.\")\n",
    "\n",
    "\n"
   ]
  },
  {
   "cell_type": "code",
   "execution_count": 180,
   "metadata": {},
   "outputs": [],
   "source": [
    "def run_sensitivity_analysis(df):\n",
    "    \"\"\"\n",
    "    Perform sensitivity analysis by adjusting the predicted returns and evaluating final cumulative return.\n",
    "    \"\"\"\n",
    "    sensitivity_factors = [0.9, 1.1, 0.8, 1.2, 0.5, 1.5]\n",
    "    results = []\n",
    "\n",
    "    for factor in sensitivity_factors:\n",
    "        df_temp = df.copy()\n",
    "        df_temp['Adj_Predicted_Return'] = df_temp['Predicted_Return'] * factor\n",
    "\n",
    "        positions = np.where(df_temp['Adj_Predicted_Return'] > 0, 'LONG', 'SHORT')\n",
    "        strategy_returns = np.zeros_like(df_temp['Actual_Return'])\n",
    "\n",
    "        for i in range(len(df_temp)):\n",
    "            curr_position = positions[i]\n",
    "            actual_ret = df_temp.loc[i, 'Actual_Return']\n",
    "\n",
    "            if curr_position == 'LONG':\n",
    "                ret = actual_ret\n",
    "            elif curr_position == 'SHORT':\n",
    "                ret = -actual_ret\n",
    "            else:\n",
    "                ret = 0\n",
    "\n",
    "            strategy_returns[i] = ret\n",
    "\n",
    "        cumulative_return = np.cumprod(1 + strategy_returns)[-1]\n",
    "        results.append((factor, cumulative_return))\n",
    "\n",
    "    df_sensitivity = pd.DataFrame(results, columns=[\"Adjustment_Factor\", \"Final_Cumulative_Return\"])\n",
    "    return df_sensitivity"
   ]
  },
  {
   "cell_type": "code",
   "execution_count": 181,
   "metadata": {},
   "outputs": [
    {
     "data": {
      "text/html": [
       "<div>\n",
       "<style scoped>\n",
       "    .dataframe tbody tr th:only-of-type {\n",
       "        vertical-align: middle;\n",
       "    }\n",
       "\n",
       "    .dataframe tbody tr th {\n",
       "        vertical-align: top;\n",
       "    }\n",
       "\n",
       "    .dataframe thead th {\n",
       "        text-align: right;\n",
       "    }\n",
       "</style>\n",
       "<table border=\"1\" class=\"dataframe\">\n",
       "  <thead>\n",
       "    <tr style=\"text-align: right;\">\n",
       "      <th></th>\n",
       "      <th>Adjustment_Factor</th>\n",
       "      <th>Final_Cumulative_Return</th>\n",
       "    </tr>\n",
       "  </thead>\n",
       "  <tbody>\n",
       "    <tr>\n",
       "      <th>0</th>\n",
       "      <td>0.9</td>\n",
       "      <td>1.105353</td>\n",
       "    </tr>\n",
       "    <tr>\n",
       "      <th>1</th>\n",
       "      <td>1.1</td>\n",
       "      <td>1.105353</td>\n",
       "    </tr>\n",
       "    <tr>\n",
       "      <th>2</th>\n",
       "      <td>0.8</td>\n",
       "      <td>1.105353</td>\n",
       "    </tr>\n",
       "    <tr>\n",
       "      <th>3</th>\n",
       "      <td>1.2</td>\n",
       "      <td>1.105353</td>\n",
       "    </tr>\n",
       "    <tr>\n",
       "      <th>4</th>\n",
       "      <td>0.5</td>\n",
       "      <td>1.105353</td>\n",
       "    </tr>\n",
       "    <tr>\n",
       "      <th>5</th>\n",
       "      <td>1.5</td>\n",
       "      <td>1.105353</td>\n",
       "    </tr>\n",
       "  </tbody>\n",
       "</table>\n",
       "</div>"
      ],
      "text/plain": [
       "   Adjustment_Factor  Final_Cumulative_Return\n",
       "0                0.9                 1.105353\n",
       "1                1.1                 1.105353\n",
       "2                0.8                 1.105353\n",
       "3                1.2                 1.105353\n",
       "4                0.5                 1.105353\n",
       "5                1.5                 1.105353"
      ]
     },
     "execution_count": 181,
     "metadata": {},
     "output_type": "execute_result"
    }
   ],
   "source": [
    "btc_sensitivity = run_sensitivity_analysis(btc_trades)\n",
    "btc_sensitivity"
   ]
  },
  {
   "cell_type": "code",
   "execution_count": 182,
   "metadata": {},
   "outputs": [
    {
     "data": {
      "text/html": [
       "<div>\n",
       "<style scoped>\n",
       "    .dataframe tbody tr th:only-of-type {\n",
       "        vertical-align: middle;\n",
       "    }\n",
       "\n",
       "    .dataframe tbody tr th {\n",
       "        vertical-align: top;\n",
       "    }\n",
       "\n",
       "    .dataframe thead th {\n",
       "        text-align: right;\n",
       "    }\n",
       "</style>\n",
       "<table border=\"1\" class=\"dataframe\">\n",
       "  <thead>\n",
       "    <tr style=\"text-align: right;\">\n",
       "      <th></th>\n",
       "      <th>Adjustment_Factor</th>\n",
       "      <th>Final_Cumulative_Return</th>\n",
       "    </tr>\n",
       "  </thead>\n",
       "  <tbody>\n",
       "    <tr>\n",
       "      <th>0</th>\n",
       "      <td>0.9</td>\n",
       "      <td>1.222966</td>\n",
       "    </tr>\n",
       "    <tr>\n",
       "      <th>1</th>\n",
       "      <td>1.1</td>\n",
       "      <td>1.222966</td>\n",
       "    </tr>\n",
       "    <tr>\n",
       "      <th>2</th>\n",
       "      <td>0.8</td>\n",
       "      <td>1.222966</td>\n",
       "    </tr>\n",
       "    <tr>\n",
       "      <th>3</th>\n",
       "      <td>1.2</td>\n",
       "      <td>1.222966</td>\n",
       "    </tr>\n",
       "    <tr>\n",
       "      <th>4</th>\n",
       "      <td>0.5</td>\n",
       "      <td>1.222966</td>\n",
       "    </tr>\n",
       "    <tr>\n",
       "      <th>5</th>\n",
       "      <td>1.5</td>\n",
       "      <td>1.222966</td>\n",
       "    </tr>\n",
       "  </tbody>\n",
       "</table>\n",
       "</div>"
      ],
      "text/plain": [
       "   Adjustment_Factor  Final_Cumulative_Return\n",
       "0                0.9                 1.222966\n",
       "1                1.1                 1.222966\n",
       "2                0.8                 1.222966\n",
       "3                1.2                 1.222966\n",
       "4                0.5                 1.222966\n",
       "5                1.5                 1.222966"
      ]
     },
     "execution_count": 182,
     "metadata": {},
     "output_type": "execute_result"
    }
   ],
   "source": [
    "eth_sensitivity = run_sensitivity_analysis(eth_trades)\n",
    "eth_sensitivity"
   ]
  },
  {
   "cell_type": "code",
   "execution_count": 183,
   "metadata": {},
   "outputs": [
    {
     "data": {
      "text/html": [
       "<div>\n",
       "<style scoped>\n",
       "    .dataframe tbody tr th:only-of-type {\n",
       "        vertical-align: middle;\n",
       "    }\n",
       "\n",
       "    .dataframe tbody tr th {\n",
       "        vertical-align: top;\n",
       "    }\n",
       "\n",
       "    .dataframe thead th {\n",
       "        text-align: right;\n",
       "    }\n",
       "</style>\n",
       "<table border=\"1\" class=\"dataframe\">\n",
       "  <thead>\n",
       "    <tr style=\"text-align: right;\">\n",
       "      <th></th>\n",
       "      <th>Adjustment_Factor</th>\n",
       "      <th>Final_Cumulative_Return</th>\n",
       "    </tr>\n",
       "  </thead>\n",
       "  <tbody>\n",
       "    <tr>\n",
       "      <th>0</th>\n",
       "      <td>0.9</td>\n",
       "      <td>1.219538</td>\n",
       "    </tr>\n",
       "    <tr>\n",
       "      <th>1</th>\n",
       "      <td>1.1</td>\n",
       "      <td>1.219538</td>\n",
       "    </tr>\n",
       "    <tr>\n",
       "      <th>2</th>\n",
       "      <td>0.8</td>\n",
       "      <td>1.219538</td>\n",
       "    </tr>\n",
       "    <tr>\n",
       "      <th>3</th>\n",
       "      <td>1.2</td>\n",
       "      <td>1.219538</td>\n",
       "    </tr>\n",
       "    <tr>\n",
       "      <th>4</th>\n",
       "      <td>0.5</td>\n",
       "      <td>1.219538</td>\n",
       "    </tr>\n",
       "    <tr>\n",
       "      <th>5</th>\n",
       "      <td>1.5</td>\n",
       "      <td>1.219538</td>\n",
       "    </tr>\n",
       "  </tbody>\n",
       "</table>\n",
       "</div>"
      ],
      "text/plain": [
       "   Adjustment_Factor  Final_Cumulative_Return\n",
       "0                0.9                 1.219538\n",
       "1                1.1                 1.219538\n",
       "2                0.8                 1.219538\n",
       "3                1.2                 1.219538\n",
       "4                0.5                 1.219538\n",
       "5                1.5                 1.219538"
      ]
     },
     "execution_count": 183,
     "metadata": {},
     "output_type": "execute_result"
    }
   ],
   "source": [
    "sol_sensitivity = run_sensitivity_analysis(sol_trades)\n",
    "sol_sensitivity"
   ]
  },
  {
   "cell_type": "code",
   "execution_count": 184,
   "metadata": {},
   "outputs": [
    {
     "data": {
      "text/html": [
       "<div>\n",
       "<style scoped>\n",
       "    .dataframe tbody tr th:only-of-type {\n",
       "        vertical-align: middle;\n",
       "    }\n",
       "\n",
       "    .dataframe tbody tr th {\n",
       "        vertical-align: top;\n",
       "    }\n",
       "\n",
       "    .dataframe thead th {\n",
       "        text-align: right;\n",
       "    }\n",
       "</style>\n",
       "<table border=\"1\" class=\"dataframe\">\n",
       "  <thead>\n",
       "    <tr style=\"text-align: right;\">\n",
       "      <th></th>\n",
       "      <th>Adjustment_Factor</th>\n",
       "      <th>Final_Cumulative_Return</th>\n",
       "    </tr>\n",
       "  </thead>\n",
       "  <tbody>\n",
       "    <tr>\n",
       "      <th>0</th>\n",
       "      <td>0.9</td>\n",
       "      <td>1.278614</td>\n",
       "    </tr>\n",
       "    <tr>\n",
       "      <th>1</th>\n",
       "      <td>1.1</td>\n",
       "      <td>1.278614</td>\n",
       "    </tr>\n",
       "    <tr>\n",
       "      <th>2</th>\n",
       "      <td>0.8</td>\n",
       "      <td>1.278614</td>\n",
       "    </tr>\n",
       "    <tr>\n",
       "      <th>3</th>\n",
       "      <td>1.2</td>\n",
       "      <td>1.278614</td>\n",
       "    </tr>\n",
       "    <tr>\n",
       "      <th>4</th>\n",
       "      <td>0.5</td>\n",
       "      <td>1.278614</td>\n",
       "    </tr>\n",
       "    <tr>\n",
       "      <th>5</th>\n",
       "      <td>1.5</td>\n",
       "      <td>1.278614</td>\n",
       "    </tr>\n",
       "  </tbody>\n",
       "</table>\n",
       "</div>"
      ],
      "text/plain": [
       "   Adjustment_Factor  Final_Cumulative_Return\n",
       "0                0.9                 1.278614\n",
       "1                1.1                 1.278614\n",
       "2                0.8                 1.278614\n",
       "3                1.2                 1.278614\n",
       "4                0.5                 1.278614\n",
       "5                1.5                 1.278614"
      ]
     },
     "execution_count": 184,
     "metadata": {},
     "output_type": "execute_result"
    }
   ],
   "source": [
    "xrp_sensitivity = run_sensitivity_analysis(xrp_trades)\n",
    "xrp_sensitivity"
   ]
  },
  {
   "cell_type": "code",
   "execution_count": 185,
   "metadata": {},
   "outputs": [],
   "source": [
    "def run_stress_testing(df):\n",
    "    \"\"\"\n",
    "    Perform stress tests by simulating various market shock scenarios.\n",
    "    \"\"\"\n",
    "    scenarios = {\n",
    "        'Crash': df['Actual_Return'] - 0.05,  # simulate 5% market crash\n",
    "        'Volatility_Spike': df['Actual_Return'] + np.random.normal(0, 0.02, size=len(df)),\n",
    "        'Prediction_Inverted': -df['Predicted_Return'],\n",
    "        'Zero_Prediction': np.zeros_like(df['Predicted_Return'])\n",
    "    }\n",
    "\n",
    "    results = []\n",
    "    for scenario_name, shock in scenarios.items():\n",
    "        df_temp = df.copy()\n",
    "\n",
    "        if 'Prediction' in scenario_name:\n",
    "            df_temp['Adj_Predicted_Return'] = shock\n",
    "        else:\n",
    "            df_temp['Adj_Predicted_Return'] = df_temp['Predicted_Return']\n",
    "            df_temp['Actual_Return'] = shock\n",
    "\n",
    "        positions = np.where(df_temp['Adj_Predicted_Return'] > 0, 'LONG', 'SHORT')\n",
    "        strategy_returns = np.zeros_like(df_temp['Actual_Return'])\n",
    "\n",
    "        for i in range(len(df_temp)):\n",
    "            curr_position = positions[i]\n",
    "            actual_ret = df_temp.loc[i, 'Actual_Return']\n",
    "\n",
    "            if curr_position == 'LONG':\n",
    "                ret = actual_ret\n",
    "            elif curr_position == 'SHORT':\n",
    "                ret = -actual_ret\n",
    "            else:\n",
    "                ret = 0\n",
    "\n",
    "            strategy_returns[i] = ret\n",
    "\n",
    "        cumulative_return = np.cumprod(1 + strategy_returns)[-1]\n",
    "        results.append((scenario_name, cumulative_return))\n",
    "\n",
    "    df_stress = pd.DataFrame(results, columns=[\"Scenario\", \"Final_Cumulative_Return\"])\n",
    "    return df_stress"
   ]
  },
  {
   "cell_type": "code",
   "execution_count": 186,
   "metadata": {},
   "outputs": [
    {
     "data": {
      "text/html": [
       "<div>\n",
       "<style scoped>\n",
       "    .dataframe tbody tr th:only-of-type {\n",
       "        vertical-align: middle;\n",
       "    }\n",
       "\n",
       "    .dataframe tbody tr th {\n",
       "        vertical-align: top;\n",
       "    }\n",
       "\n",
       "    .dataframe thead th {\n",
       "        text-align: right;\n",
       "    }\n",
       "</style>\n",
       "<table border=\"1\" class=\"dataframe\">\n",
       "  <thead>\n",
       "    <tr style=\"text-align: right;\">\n",
       "      <th></th>\n",
       "      <th>Scenario</th>\n",
       "      <th>Final_Cumulative_Return</th>\n",
       "    </tr>\n",
       "  </thead>\n",
       "  <tbody>\n",
       "    <tr>\n",
       "      <th>0</th>\n",
       "      <td>Crash</td>\n",
       "      <td>5.801954e+225</td>\n",
       "    </tr>\n",
       "    <tr>\n",
       "      <th>1</th>\n",
       "      <td>Volatility_Spike</td>\n",
       "      <td>7.203970e-02</td>\n",
       "    </tr>\n",
       "    <tr>\n",
       "      <th>2</th>\n",
       "      <td>Prediction_Inverted</td>\n",
       "      <td>8.948995e-01</td>\n",
       "    </tr>\n",
       "    <tr>\n",
       "      <th>3</th>\n",
       "      <td>Zero_Prediction</td>\n",
       "      <td>1.126755e+00</td>\n",
       "    </tr>\n",
       "  </tbody>\n",
       "</table>\n",
       "</div>"
      ],
      "text/plain": [
       "              Scenario  Final_Cumulative_Return\n",
       "0                Crash            5.801954e+225\n",
       "1     Volatility_Spike             7.203970e-02\n",
       "2  Prediction_Inverted             8.948995e-01\n",
       "3      Zero_Prediction             1.126755e+00"
      ]
     },
     "execution_count": 186,
     "metadata": {},
     "output_type": "execute_result"
    }
   ],
   "source": [
    "btc_stress_test = run_stress_testing(btc_trades)\n",
    "btc_stress_test"
   ]
  },
  {
   "cell_type": "code",
   "execution_count": 187,
   "metadata": {},
   "outputs": [
    {
     "data": {
      "text/html": [
       "<div>\n",
       "<style scoped>\n",
       "    .dataframe tbody tr th:only-of-type {\n",
       "        vertical-align: middle;\n",
       "    }\n",
       "\n",
       "    .dataframe tbody tr th {\n",
       "        vertical-align: top;\n",
       "    }\n",
       "\n",
       "    .dataframe thead th {\n",
       "        text-align: right;\n",
       "    }\n",
       "</style>\n",
       "<table border=\"1\" class=\"dataframe\">\n",
       "  <thead>\n",
       "    <tr style=\"text-align: right;\">\n",
       "      <th></th>\n",
       "      <th>Scenario</th>\n",
       "      <th>Final_Cumulative_Return</th>\n",
       "    </tr>\n",
       "  </thead>\n",
       "  <tbody>\n",
       "    <tr>\n",
       "      <th>0</th>\n",
       "      <td>Crash</td>\n",
       "      <td>1.121861e+288</td>\n",
       "    </tr>\n",
       "    <tr>\n",
       "      <th>1</th>\n",
       "      <td>Volatility_Spike</td>\n",
       "      <td>6.906363e-01</td>\n",
       "    </tr>\n",
       "    <tr>\n",
       "      <th>2</th>\n",
       "      <td>Prediction_Inverted</td>\n",
       "      <td>7.975320e-01</td>\n",
       "    </tr>\n",
       "    <tr>\n",
       "      <th>3</th>\n",
       "      <td>Zero_Prediction</td>\n",
       "      <td>1.161685e+00</td>\n",
       "    </tr>\n",
       "  </tbody>\n",
       "</table>\n",
       "</div>"
      ],
      "text/plain": [
       "              Scenario  Final_Cumulative_Return\n",
       "0                Crash            1.121861e+288\n",
       "1     Volatility_Spike             6.906363e-01\n",
       "2  Prediction_Inverted             7.975320e-01\n",
       "3      Zero_Prediction             1.161685e+00"
      ]
     },
     "execution_count": 187,
     "metadata": {},
     "output_type": "execute_result"
    }
   ],
   "source": [
    "eth_stress_test = run_stress_testing(eth_trades)\n",
    "eth_stress_test"
   ]
  },
  {
   "cell_type": "code",
   "execution_count": 188,
   "metadata": {},
   "outputs": [
    {
     "data": {
      "text/html": [
       "<div>\n",
       "<style scoped>\n",
       "    .dataframe tbody tr th:only-of-type {\n",
       "        vertical-align: middle;\n",
       "    }\n",
       "\n",
       "    .dataframe tbody tr th {\n",
       "        vertical-align: top;\n",
       "    }\n",
       "\n",
       "    .dataframe thead th {\n",
       "        text-align: right;\n",
       "    }\n",
       "</style>\n",
       "<table border=\"1\" class=\"dataframe\">\n",
       "  <thead>\n",
       "    <tr style=\"text-align: right;\">\n",
       "      <th></th>\n",
       "      <th>Scenario</th>\n",
       "      <th>Final_Cumulative_Return</th>\n",
       "    </tr>\n",
       "  </thead>\n",
       "  <tbody>\n",
       "    <tr>\n",
       "      <th>0</th>\n",
       "      <td>Crash</td>\n",
       "      <td>1.043393e+240</td>\n",
       "    </tr>\n",
       "    <tr>\n",
       "      <th>1</th>\n",
       "      <td>Volatility_Spike</td>\n",
       "      <td>1.302724e-01</td>\n",
       "    </tr>\n",
       "    <tr>\n",
       "      <th>2</th>\n",
       "      <td>Prediction_Inverted</td>\n",
       "      <td>7.844760e-01</td>\n",
       "    </tr>\n",
       "    <tr>\n",
       "      <th>3</th>\n",
       "      <td>Zero_Prediction</td>\n",
       "      <td>1.187444e+00</td>\n",
       "    </tr>\n",
       "  </tbody>\n",
       "</table>\n",
       "</div>"
      ],
      "text/plain": [
       "              Scenario  Final_Cumulative_Return\n",
       "0                Crash            1.043393e+240\n",
       "1     Volatility_Spike             1.302724e-01\n",
       "2  Prediction_Inverted             7.844760e-01\n",
       "3      Zero_Prediction             1.187444e+00"
      ]
     },
     "execution_count": 188,
     "metadata": {},
     "output_type": "execute_result"
    }
   ],
   "source": [
    "sol_stress_test = run_stress_testing(sol_trades)\n",
    "sol_stress_test"
   ]
  },
  {
   "cell_type": "code",
   "execution_count": 189,
   "metadata": {},
   "outputs": [
    {
     "data": {
      "text/html": [
       "<div>\n",
       "<style scoped>\n",
       "    .dataframe tbody tr th:only-of-type {\n",
       "        vertical-align: middle;\n",
       "    }\n",
       "\n",
       "    .dataframe tbody tr th {\n",
       "        vertical-align: top;\n",
       "    }\n",
       "\n",
       "    .dataframe thead th {\n",
       "        text-align: right;\n",
       "    }\n",
       "</style>\n",
       "<table border=\"1\" class=\"dataframe\">\n",
       "  <thead>\n",
       "    <tr style=\"text-align: right;\">\n",
       "      <th></th>\n",
       "      <th>Scenario</th>\n",
       "      <th>Final_Cumulative_Return</th>\n",
       "    </tr>\n",
       "  </thead>\n",
       "  <tbody>\n",
       "    <tr>\n",
       "      <th>0</th>\n",
       "      <td>Crash</td>\n",
       "      <td>6.336261e+155</td>\n",
       "    </tr>\n",
       "    <tr>\n",
       "      <th>1</th>\n",
       "      <td>Volatility_Spike</td>\n",
       "      <td>2.400323e-02</td>\n",
       "    </tr>\n",
       "    <tr>\n",
       "      <th>2</th>\n",
       "      <td>Prediction_Inverted</td>\n",
       "      <td>7.520968e-01</td>\n",
       "    </tr>\n",
       "    <tr>\n",
       "      <th>3</th>\n",
       "      <td>Zero_Prediction</td>\n",
       "      <td>1.213700e+00</td>\n",
       "    </tr>\n",
       "  </tbody>\n",
       "</table>\n",
       "</div>"
      ],
      "text/plain": [
       "              Scenario  Final_Cumulative_Return\n",
       "0                Crash            6.336261e+155\n",
       "1     Volatility_Spike             2.400323e-02\n",
       "2  Prediction_Inverted             7.520968e-01\n",
       "3      Zero_Prediction             1.213700e+00"
      ]
     },
     "execution_count": 189,
     "metadata": {},
     "output_type": "execute_result"
    }
   ],
   "source": [
    "xrp_stress_test = run_stress_testing(xrp_trades)\n",
    "xrp_stress_test"
   ]
  },
  {
   "cell_type": "markdown",
   "metadata": {},
   "source": [
    "##### Test on validation period"
   ]
  },
  {
   "cell_type": "markdown",
   "metadata": {},
   "source": [
    "Train using entire training set & validate using March-Apr data"
   ]
  },
  {
   "cell_type": "code",
   "execution_count": 228,
   "metadata": {},
   "outputs": [],
   "source": [
    "# Load both sentiment files\n",
    "curr_sentiment = pd.read_csv('../../curr_news/aggregated_daily_sentiment.csv')\n",
    "\n",
    "\n",
    "# Rename and parse dates\n",
    "curr_sentiment.rename(columns={'Unnamed: 0': 'Datetime'}, inplace=True)\n",
    "curr_sentiment['Datetime'] = pd.to_datetime(sentiment['Datetime'])\n",
    "\n",
    "# Reshape to long format: Date | Coin | Sentiment\n",
    "curr_sentiment = curr_sentiment.melt(id_vars='Datetime', var_name='Coin', value_name='Sentiment')\n",
    "\n",
    "\n"
   ]
  },
  {
   "cell_type": "code",
   "execution_count": 229,
   "metadata": {},
   "outputs": [
    {
     "data": {
      "text/html": [
       "<div>\n",
       "<style scoped>\n",
       "    .dataframe tbody tr th:only-of-type {\n",
       "        vertical-align: middle;\n",
       "    }\n",
       "\n",
       "    .dataframe tbody tr th {\n",
       "        vertical-align: top;\n",
       "    }\n",
       "\n",
       "    .dataframe thead th {\n",
       "        text-align: right;\n",
       "    }\n",
       "</style>\n",
       "<table border=\"1\" class=\"dataframe\">\n",
       "  <thead>\n",
       "    <tr style=\"text-align: right;\">\n",
       "      <th></th>\n",
       "      <th>Datetime</th>\n",
       "      <th>Coin</th>\n",
       "      <th>Sentiment</th>\n",
       "    </tr>\n",
       "  </thead>\n",
       "  <tbody>\n",
       "    <tr>\n",
       "      <th>0</th>\n",
       "      <td>2025-02-25</td>\n",
       "      <td>BCH</td>\n",
       "      <td>0.000000</td>\n",
       "    </tr>\n",
       "    <tr>\n",
       "      <th>1</th>\n",
       "      <td>2025-02-26</td>\n",
       "      <td>BCH</td>\n",
       "      <td>0.000000</td>\n",
       "    </tr>\n",
       "    <tr>\n",
       "      <th>2</th>\n",
       "      <td>2025-02-27</td>\n",
       "      <td>BCH</td>\n",
       "      <td>0.999995</td>\n",
       "    </tr>\n",
       "    <tr>\n",
       "      <th>3</th>\n",
       "      <td>2025-02-28</td>\n",
       "      <td>BCH</td>\n",
       "      <td>0.999972</td>\n",
       "    </tr>\n",
       "    <tr>\n",
       "      <th>4</th>\n",
       "      <td>2025-03-01</td>\n",
       "      <td>BCH</td>\n",
       "      <td>0.983238</td>\n",
       "    </tr>\n",
       "    <tr>\n",
       "      <th>...</th>\n",
       "      <td>...</td>\n",
       "      <td>...</td>\n",
       "      <td>...</td>\n",
       "    </tr>\n",
       "    <tr>\n",
       "      <th>1097</th>\n",
       "      <td>2025-03-21</td>\n",
       "      <td>HD</td>\n",
       "      <td>0.356482</td>\n",
       "    </tr>\n",
       "    <tr>\n",
       "      <th>1098</th>\n",
       "      <td>2025-03-22</td>\n",
       "      <td>HD</td>\n",
       "      <td>0.333129</td>\n",
       "    </tr>\n",
       "    <tr>\n",
       "      <th>1099</th>\n",
       "      <td>2025-03-23</td>\n",
       "      <td>HD</td>\n",
       "      <td>0.000000</td>\n",
       "    </tr>\n",
       "    <tr>\n",
       "      <th>1100</th>\n",
       "      <td>2025-03-24</td>\n",
       "      <td>HD</td>\n",
       "      <td>0.093289</td>\n",
       "    </tr>\n",
       "    <tr>\n",
       "      <th>1101</th>\n",
       "      <td>2025-03-25</td>\n",
       "      <td>HD</td>\n",
       "      <td>0.186285</td>\n",
       "    </tr>\n",
       "  </tbody>\n",
       "</table>\n",
       "<p>1102 rows × 3 columns</p>\n",
       "</div>"
      ],
      "text/plain": [
       "       Datetime Coin  Sentiment\n",
       "0    2025-02-25  BCH   0.000000\n",
       "1    2025-02-26  BCH   0.000000\n",
       "2    2025-02-27  BCH   0.999995\n",
       "3    2025-02-28  BCH   0.999972\n",
       "4    2025-03-01  BCH   0.983238\n",
       "...         ...  ...        ...\n",
       "1097 2025-03-21   HD   0.356482\n",
       "1098 2025-03-22   HD   0.333129\n",
       "1099 2025-03-23   HD   0.000000\n",
       "1100 2025-03-24   HD   0.093289\n",
       "1101 2025-03-25   HD   0.186285\n",
       "\n",
       "[1102 rows x 3 columns]"
      ]
     },
     "execution_count": 229,
     "metadata": {},
     "output_type": "execute_result"
    }
   ],
   "source": [
    "curr_sentiment"
   ]
  },
  {
   "cell_type": "code",
   "execution_count": 230,
   "metadata": {},
   "outputs": [],
   "source": [
    "# Set random seeds for reproducibility\n",
    "np.random.seed(42)\n",
    "tf.random.set_seed(42)\n",
    "random.seed(42)\n",
    "tf.keras.utils.set_random_seed(42)\n",
    "tf.config.experimental.enable_op_determinism() \n",
    "\n",
    "\n",
    "#Code for Hyperparameter Tuning\n",
    "def load_and_preprocess_data(file_path, sentiment=curr_sentiment):\n",
    "    df = pd.read_csv(file_path)\n",
    "    df['Datetime'] = df['Date']\n",
    "    df['Datetime'] = pd.to_datetime(df['Datetime'])\n",
    "    df.sort_values(['Coin', 'Datetime'], inplace=True)\n",
    "    dates = list(df['Datetime'].copy()) # Maintain list of minute indices\n",
    "    # Prepare crypto data date column\n",
    "    df['Datetime'] = df['Datetime'].dt.normalize()\n",
    "    df['Datetime'] = df['Datetime'].dt.tz_localize(None)\n",
    "\n",
    "    # Merge daily sentiment into intraday stock data\n",
    "    df = df.merge(sentiment, how='left', on=['Datetime', 'Coin'])\n",
    "\n",
    "    # then assign back the original datetime column\n",
    "    df['Datetime'] = dates \n",
    "    df['Datetime'] = pd.to_datetime(df['Datetime'])\n",
    "    # Fill any missing sentiment values with neutral (0)\n",
    "    df['Sentiment'] = df['Sentiment'].fillna(0)\n",
    "        \n",
    "    df['Return'] = df.groupby('Coin')['Close'].pct_change().shift(-1)  # Next period return as target\n",
    "    non_features = ['Datetime', 'Coin', 'Date', 'Return']\n",
    "    feature_cols = [x for x in list(df.columns) if x not in non_features]\n",
    "    df = df[feature_cols + non_features].dropna()\n",
    "    df.dropna(inplace=True)\n",
    "    df = df[df['Datetime'] <= '2025-03-25']\n",
    "    \n",
    "    return df, feature_cols\n",
    "\n",
    "# Prepare sequences for LSTM training\n",
    "def prepare_sequences(df, feature_cols, sequence_length=20):\n",
    "    \n",
    "    feature_scaler = MinMaxScaler(feature_range=(0, 1))\n",
    "    return_scaler = MinMaxScaler(feature_range=(0, 1))\n",
    "    \n",
    "    X_scaled = feature_scaler.fit_transform(df[feature_cols])\n",
    "    y_scaled = return_scaler.fit_transform(df[['Return']])\n",
    "    \n",
    "    X_sequences, y_sequences, dates, close_prices = [], [], df['Datetime'].values[sequence_length:], df['Close'].values[sequence_length:]\n",
    "    \n",
    "    for i in range(len(X_scaled) - sequence_length):\n",
    "        X_sequences.append(X_scaled[i:i+sequence_length])\n",
    "        y_sequences.append(y_scaled[i+sequence_length])\n",
    "    \n",
    "    return np.array(X_sequences), np.array(y_sequences), dates, close_prices, return_scaler\n",
    "\n",
    "# Split data into training and testing sets\n",
    "def split_data(X, y, dates, close_prices, train_ratio=0.8):\n",
    "    split_index = int(len(X) * train_ratio)\n",
    "    return X[:split_index], X[split_index:], y[:split_index], y[split_index:], dates[split_index:], close_prices[split_index:]\n",
    "\n",
    "\n",
    "\n",
    "# Function to create model for GridSearchCV\n",
    "def create_lstm_model(input_shape, layers=1, units_1=50, units_2=50, dropout_rate=0.2, learning_rate=0.001, optimizer='adam'):\n",
    "    model = Sequential()  # Add this line to initialize the model\n",
    "    # Explicitly define the input layer\n",
    "    model.add(Input(shape=input_shape))  # Fix: Define input layer separately\n",
    "    # First LSTM layer\n",
    "    if layers == 1:\n",
    "        \n",
    "        model.add(LSTM(units=units_1))\n",
    "    else:\n",
    "        model.add(LSTM(units=units_1, return_sequences=True))\n",
    "        model.add(Dropout(dropout_rate))\n",
    "        \n",
    "        # Additional LSTM layers\n",
    "        for i in range(layers-2):\n",
    "            model.add(LSTM(units=units_2, return_sequences=True))\n",
    "            model.add(Dropout(dropout_rate))\n",
    "        \n",
    "        # Final LSTM layer\n",
    "        model.add(LSTM(units=units_2))\n",
    "\n",
    "    model.add(Dropout(dropout_rate))\n",
    "    model.add(Dense(units=1))  # Output layer\n",
    "    # Convert optimizer string to actual optimizer instance\n",
    "    optimizer_instance = {\n",
    "        'adam': tf.keras.optimizers.Adam(learning_rate=learning_rate),\n",
    "        'rmsprop': tf.keras.optimizers.RMSprop(learning_rate=learning_rate),\n",
    "        'sgd': tf.keras.optimizers.SGD(learning_rate=learning_rate, momentum=0.9)\n",
    "    }[optimizer]\n",
    "    model.compile(optimizer=optimizer_instance,\n",
    "                    loss='mse',\n",
    "                    metrics=['mae'])\n",
    "    return model\n",
    "# Function to train and evaluate the model\n",
    "def train_and_evaluate_model_validation(df, feature_cols, validation, coin):\n",
    "    validation = validation[validation['Datetime'] <= '2025-03-25']\n",
    "    df_coin = df[df['Coin'] == coin]\n",
    "    val_coin = validation[validation['Coin'] == coin]\n",
    "    X, y, dates, close_prices, return_scaler = prepare_sequences(df_coin, feature_cols)\n",
    "    X_val, y_val, dates_val, close_prices_val, return_scaler_val = prepare_sequences(val_coin, feature_cols)\n",
    "    \n",
    "    # Hyperparameter tuning\n",
    "    input_shape = (X.shape[1], X.shape[2])\n",
    "    # Learning rate adjustment and early stopping\n",
    "    callbacks = [\n",
    "        EarlyStopping(monitor='val_loss', patience=5, restore_best_weights=True),\n",
    "        ReduceLROnPlateau(monitor='val_loss', factor=0.5, patience=3, min_lr=1e-6)\n",
    "    ]\n",
    "    if coin == 'BTC':\n",
    "        model = create_lstm_model(input_shape, layers=1, units_1=100, units_2=50, dropout_rate=0.2, learning_rate=0.001, optimizer='adam')\n",
    "        model.fit(X, y, epochs=50, batch_size=32, validation_data=(X_val, y_val), callbacks=callbacks)\n",
    "    \n",
    "    elif coin == 'ETH':\n",
    "        model = create_lstm_model(input_shape, layers=1, units_1=100, units_2=50, dropout_rate=0.2, learning_rate=0.001, optimizer='adam')\n",
    "        model.fit(X, y, epochs=50, batch_size=64, validation_data=(X_val, y_val), callbacks=callbacks)\n",
    "    elif coin == 'SOL':\n",
    "        model = create_lstm_model(input_shape, layers=1, units_1=100, units_2=50, dropout_rate=0.4, learning_rate=0.001, optimizer='adam')\n",
    "        model.fit(X, y, epochs=50, batch_size=16, validation_data=(X_val, y_val), callbacks=callbacks)\n",
    "    elif coin == 'XRP':\n",
    "        model = create_lstm_model(input_shape, layers=1, units_1=100, units_2=50, dropout_rate=0.4, learning_rate=0.001, optimizer='adam')\n",
    "        model.fit(X, y, epochs=50, batch_size=32, validation_data=(X_val, y_val), callbacks=callbacks)\n",
    "    \n",
    "    # Predict and rescale returns\n",
    "    y_pred_scaled = model.predict(X_val)\n",
    "    y_pred = return_scaler.inverse_transform(y_pred_scaled)\n",
    "    y_val = return_scaler_val.inverse_transform(y_val.reshape(-1, 1))\n",
    "    \n",
    "    return model, y_val, y_pred, dates_val, close_prices_val\n",
    "\n"
   ]
  },
  {
   "cell_type": "code",
   "execution_count": 231,
   "metadata": {},
   "outputs": [],
   "source": [
    "file_path1 = \"./data_with_indicators/crypto_prices_1m_with_indicators.csv\"\n",
    "file_path2 = \"./data_with_indicators/crypto_prices_1m_validation_with_indicators.csv\"\n",
    "df, feature_cols = load_and_preprocess_data(file_path1)\n",
    "validation, feature_cols = load_and_preprocess_data(file_path2)"
   ]
  },
  {
   "cell_type": "code",
   "execution_count": 232,
   "metadata": {},
   "outputs": [],
   "source": [
    "\n",
    "all_trades_val = []\n",
    "unique_coins = ['BTC', 'ETH', 'SOL', 'XRP']\n"
   ]
  },
  {
   "cell_type": "code",
   "execution_count": 233,
   "metadata": {},
   "outputs": [
    {
     "name": "stdout",
     "output_type": "stream",
     "text": [
      "Processing BTC...\n",
      "Epoch 1/50\n"
     ]
    },
    {
     "name": "stderr",
     "output_type": "stream",
     "text": [
      "2025-03-30 20:00:53.306010: E tensorflow/core/framework/node_def_util.cc:680] NodeDef mentions attribute use_unbounded_threadpool which is not in the op definition: Op<name=MapDataset; signature=input_dataset:variant, other_arguments: -> handle:variant; attr=f:func; attr=Targuments:list(type),min=0; attr=output_types:list(type),min=1; attr=output_shapes:list(shape),min=1; attr=use_inter_op_parallelism:bool,default=true; attr=preserve_cardinality:bool,default=false; attr=force_synchronous:bool,default=false; attr=metadata:string,default=\"\"> This may be expected if your graph generating binary is newer  than this binary. Unknown attributes will be ignored. NodeDef: {{node ParallelMapDatasetV2/_15}}\n",
      "2025-03-30 20:00:53.307428: E tensorflow/core/framework/node_def_util.cc:680] NodeDef mentions attribute use_unbounded_threadpool which is not in the op definition: Op<name=MapDataset; signature=input_dataset:variant, other_arguments: -> handle:variant; attr=f:func; attr=Targuments:list(type),min=0; attr=output_types:list(type),min=1; attr=output_shapes:list(shape),min=1; attr=use_inter_op_parallelism:bool,default=true; attr=preserve_cardinality:bool,default=false; attr=force_synchronous:bool,default=false; attr=metadata:string,default=\"\"> This may be expected if your graph generating binary is newer  than this binary. Unknown attributes will be ignored. NodeDef: {{node ParallelMapDatasetV2/_15}}\n"
     ]
    },
    {
     "name": "stdout",
     "output_type": "stream",
     "text": [
      "\u001b[1m2649/2654\u001b[0m \u001b[32m━━━━━━━━━━━━━━━━━━━\u001b[0m\u001b[37m━\u001b[0m \u001b[1m0s\u001b[0m 6ms/step - loss: 0.0062 - mae: 0.0462"
     ]
    },
    {
     "name": "stderr",
     "output_type": "stream",
     "text": [
      "2025-03-30 20:01:11.720174: E tensorflow/core/framework/node_def_util.cc:680] NodeDef mentions attribute use_unbounded_threadpool which is not in the op definition: Op<name=MapDataset; signature=input_dataset:variant, other_arguments: -> handle:variant; attr=f:func; attr=Targuments:list(type),min=0; attr=output_types:list(type),min=1; attr=output_shapes:list(shape),min=1; attr=use_inter_op_parallelism:bool,default=true; attr=preserve_cardinality:bool,default=false; attr=force_synchronous:bool,default=false; attr=metadata:string,default=\"\"> This may be expected if your graph generating binary is newer  than this binary. Unknown attributes will be ignored. NodeDef: {{node ParallelMapDatasetV2/_15}}\n",
      "2025-03-30 20:01:11.720586: E tensorflow/core/framework/node_def_util.cc:680] NodeDef mentions attribute use_unbounded_threadpool which is not in the op definition: Op<name=MapDataset; signature=input_dataset:variant, other_arguments: -> handle:variant; attr=f:func; attr=Targuments:list(type),min=0; attr=output_types:list(type),min=1; attr=output_shapes:list(shape),min=1; attr=use_inter_op_parallelism:bool,default=true; attr=preserve_cardinality:bool,default=false; attr=force_synchronous:bool,default=false; attr=metadata:string,default=\"\"> This may be expected if your graph generating binary is newer  than this binary. Unknown attributes will be ignored. NodeDef: {{node ParallelMapDatasetV2/_15}}\n"
     ]
    },
    {
     "name": "stdout",
     "output_type": "stream",
     "text": [
      "\u001b[1m2654/2654\u001b[0m \u001b[32m━━━━━━━━━━━━━━━━━━━━\u001b[0m\u001b[37m\u001b[0m \u001b[1m20s\u001b[0m 7ms/step - loss: 0.0062 - mae: 0.0462 - val_loss: 0.0047 - val_mae: 0.0614 - learning_rate: 0.0010\n",
      "Epoch 2/50\n",
      "\u001b[1m2654/2654\u001b[0m \u001b[32m━━━━━━━━━━━━━━━━━━━━\u001b[0m\u001b[37m\u001b[0m \u001b[1m17s\u001b[0m 6ms/step - loss: 6.7476e-04 - mae: 0.0188 - val_loss: 0.0062 - val_mae: 0.0724 - learning_rate: 0.0010\n",
      "Epoch 3/50\n",
      "\u001b[1m2654/2654\u001b[0m \u001b[32m━━━━━━━━━━━━━━━━━━━━\u001b[0m\u001b[37m\u001b[0m \u001b[1m18s\u001b[0m 7ms/step - loss: 4.8993e-04 - mae: 0.0148 - val_loss: 0.0053 - val_mae: 0.0665 - learning_rate: 0.0010\n",
      "Epoch 4/50\n",
      "\u001b[1m2654/2654\u001b[0m \u001b[32m━━━━━━━━━━━━━━━━━━━━\u001b[0m\u001b[37m\u001b[0m \u001b[1m17s\u001b[0m 6ms/step - loss: 4.4907e-04 - mae: 0.0137 - val_loss: 0.0055 - val_mae: 0.0674 - learning_rate: 0.0010\n",
      "Epoch 5/50\n",
      "\u001b[1m2654/2654\u001b[0m \u001b[32m━━━━━━━━━━━━━━━━━━━━\u001b[0m\u001b[37m\u001b[0m \u001b[1m19s\u001b[0m 7ms/step - loss: 4.3828e-04 - mae: 0.0133 - val_loss: 0.0056 - val_mae: 0.0686 - learning_rate: 5.0000e-04\n",
      "Epoch 6/50\n",
      "\u001b[1m2654/2654\u001b[0m \u001b[32m━━━━━━━━━━━━━━━━━━━━\u001b[0m\u001b[37m\u001b[0m \u001b[1m17s\u001b[0m 7ms/step - loss: 4.3732e-04 - mae: 0.0132 - val_loss: 0.0058 - val_mae: 0.0699 - learning_rate: 5.0000e-04\n",
      "\u001b[1m  57/1079\u001b[0m \u001b[32m━\u001b[0m\u001b[37m━━━━━━━━━━━━━━━━━━━\u001b[0m \u001b[1m1s\u001b[0m 2ms/step"
     ]
    },
    {
     "name": "stderr",
     "output_type": "stream",
     "text": [
      "2025-03-30 20:02:41.252521: E tensorflow/core/framework/node_def_util.cc:680] NodeDef mentions attribute use_unbounded_threadpool which is not in the op definition: Op<name=MapDataset; signature=input_dataset:variant, other_arguments: -> handle:variant; attr=f:func; attr=Targuments:list(type),min=0; attr=output_types:list(type),min=1; attr=output_shapes:list(shape),min=1; attr=use_inter_op_parallelism:bool,default=true; attr=preserve_cardinality:bool,default=false; attr=force_synchronous:bool,default=false; attr=metadata:string,default=\"\"> This may be expected if your graph generating binary is newer  than this binary. Unknown attributes will be ignored. NodeDef: {{node ParallelMapDatasetV2/_14}}\n",
      "2025-03-30 20:02:41.252937: E tensorflow/core/framework/node_def_util.cc:680] NodeDef mentions attribute use_unbounded_threadpool which is not in the op definition: Op<name=MapDataset; signature=input_dataset:variant, other_arguments: -> handle:variant; attr=f:func; attr=Targuments:list(type),min=0; attr=output_types:list(type),min=1; attr=output_shapes:list(shape),min=1; attr=use_inter_op_parallelism:bool,default=true; attr=preserve_cardinality:bool,default=false; attr=force_synchronous:bool,default=false; attr=metadata:string,default=\"\"> This may be expected if your graph generating binary is newer  than this binary. Unknown attributes will be ignored. NodeDef: {{node ParallelMapDatasetV2/_14}}\n"
     ]
    },
    {
     "name": "stdout",
     "output_type": "stream",
     "text": [
      "\u001b[1m1079/1079\u001b[0m \u001b[32m━━━━━━━━━━━━━━━━━━━━\u001b[0m\u001b[37m\u001b[0m \u001b[1m2s\u001b[0m 2ms/step\n"
     ]
    }
   ],
   "source": [
    "coin = 'BTC'\n",
    "print(f\"Processing {coin}...\")\n",
    "b_model_val, b_y_val, b_y_pred, b_dates_val, b_close_prices_val = train_and_evaluate_model_validation(df, feature_cols, validation, coin)\n"
   ]
  },
  {
   "cell_type": "code",
   "execution_count": 234,
   "metadata": {},
   "outputs": [],
   "source": [
    "btc_trades_val = log_trades(b_dates_val, b_y_val.flatten(), b_y_pred.flatten(), b_close_prices_val, coin)\n",
    "all_trades_val.append(btc_trades_val)"
   ]
  },
  {
   "cell_type": "code",
   "execution_count": 235,
   "metadata": {},
   "outputs": [
    {
     "name": "stdout",
     "output_type": "stream",
     "text": [
      "Processing ETH...\n",
      "Epoch 1/50\n",
      "\u001b[1m1326/1327\u001b[0m \u001b[32m━━━━━━━━━━━━━━━━━━━\u001b[0m\u001b[37m━\u001b[0m \u001b[1m0s\u001b[0m 9ms/step - loss: 0.0054 - mae: 0.0487"
     ]
    },
    {
     "name": "stderr",
     "output_type": "stream",
     "text": [
      "2025-03-30 20:02:56.971938: E tensorflow/core/framework/node_def_util.cc:680] NodeDef mentions attribute use_unbounded_threadpool which is not in the op definition: Op<name=MapDataset; signature=input_dataset:variant, other_arguments: -> handle:variant; attr=f:func; attr=Targuments:list(type),min=0; attr=output_types:list(type),min=1; attr=output_shapes:list(shape),min=1; attr=use_inter_op_parallelism:bool,default=true; attr=preserve_cardinality:bool,default=false; attr=force_synchronous:bool,default=false; attr=metadata:string,default=\"\"> This may be expected if your graph generating binary is newer  than this binary. Unknown attributes will be ignored. NodeDef: {{node ParallelMapDatasetV2/_15}}\n",
      "2025-03-30 20:02:56.972290: E tensorflow/core/framework/node_def_util.cc:680] NodeDef mentions attribute use_unbounded_threadpool which is not in the op definition: Op<name=MapDataset; signature=input_dataset:variant, other_arguments: -> handle:variant; attr=f:func; attr=Targuments:list(type),min=0; attr=output_types:list(type),min=1; attr=output_shapes:list(shape),min=1; attr=use_inter_op_parallelism:bool,default=true; attr=preserve_cardinality:bool,default=false; attr=force_synchronous:bool,default=false; attr=metadata:string,default=\"\"> This may be expected if your graph generating binary is newer  than this binary. Unknown attributes will be ignored. NodeDef: {{node ParallelMapDatasetV2/_15}}\n"
     ]
    },
    {
     "name": "stdout",
     "output_type": "stream",
     "text": [
      "\u001b[1m1327/1327\u001b[0m \u001b[32m━━━━━━━━━━━━━━━━━━━━\u001b[0m\u001b[37m\u001b[0m \u001b[1m14s\u001b[0m 10ms/step - loss: 0.0054 - mae: 0.0487 - val_loss: 0.1247 - val_mae: 0.3525 - learning_rate: 0.0010\n",
      "Epoch 2/50\n",
      "\u001b[1m1327/1327\u001b[0m \u001b[32m━━━━━━━━━━━━━━━━━━━━\u001b[0m\u001b[37m\u001b[0m \u001b[1m13s\u001b[0m 10ms/step - loss: 7.9473e-04 - mae: 0.0223 - val_loss: 0.1271 - val_mae: 0.3560 - learning_rate: 0.0010\n",
      "Epoch 3/50\n",
      "\u001b[1m1327/1327\u001b[0m \u001b[32m━━━━━━━━━━━━━━━━━━━━\u001b[0m\u001b[37m\u001b[0m \u001b[1m13s\u001b[0m 10ms/step - loss: 3.9781e-04 - mae: 0.0156 - val_loss: 0.1289 - val_mae: 0.3585 - learning_rate: 0.0010\n",
      "Epoch 4/50\n",
      "\u001b[1m1327/1327\u001b[0m \u001b[32m━━━━━━━━━━━━━━━━━━━━\u001b[0m\u001b[37m\u001b[0m \u001b[1m13s\u001b[0m 10ms/step - loss: 1.7543e-04 - mae: 0.0100 - val_loss: 0.1275 - val_mae: 0.3565 - learning_rate: 0.0010\n",
      "Epoch 5/50\n",
      "\u001b[1m1327/1327\u001b[0m \u001b[32m━━━━━━━━━━━━━━━━━━━━\u001b[0m\u001b[37m\u001b[0m \u001b[1m13s\u001b[0m 10ms/step - loss: 9.4887e-05 - mae: 0.0068 - val_loss: 0.1228 - val_mae: 0.3499 - learning_rate: 5.0000e-04\n",
      "Epoch 6/50\n",
      "\u001b[1m1327/1327\u001b[0m \u001b[32m━━━━━━━━━━━━━━━━━━━━\u001b[0m\u001b[37m\u001b[0m \u001b[1m13s\u001b[0m 9ms/step - loss: 7.7702e-05 - mae: 0.0059 - val_loss: 0.1218 - val_mae: 0.3485 - learning_rate: 5.0000e-04\n",
      "Epoch 7/50\n",
      "\u001b[1m1327/1327\u001b[0m \u001b[32m━━━━━━━━━━━━━━━━━━━━\u001b[0m\u001b[37m\u001b[0m \u001b[1m13s\u001b[0m 9ms/step - loss: 7.1615e-05 - mae: 0.0055 - val_loss: 0.1211 - val_mae: 0.3475 - learning_rate: 5.0000e-04\n",
      "Epoch 8/50\n",
      "\u001b[1m1327/1327\u001b[0m \u001b[32m━━━━━━━━━━━━━━━━━━━━\u001b[0m\u001b[37m\u001b[0m \u001b[1m12s\u001b[0m 9ms/step - loss: 6.9601e-05 - mae: 0.0053 - val_loss: 0.1216 - val_mae: 0.3481 - learning_rate: 5.0000e-04\n",
      "Epoch 9/50\n",
      "\u001b[1m1327/1327\u001b[0m \u001b[32m━━━━━━━━━━━━━━━━━━━━\u001b[0m\u001b[37m\u001b[0m \u001b[1m13s\u001b[0m 9ms/step - loss: 6.8908e-05 - mae: 0.0053 - val_loss: 0.1209 - val_mae: 0.3471 - learning_rate: 5.0000e-04\n",
      "Epoch 10/50\n",
      "\u001b[1m1327/1327\u001b[0m \u001b[32m━━━━━━━━━━━━━━━━━━━━\u001b[0m\u001b[37m\u001b[0m \u001b[1m12s\u001b[0m 9ms/step - loss: 6.8133e-05 - mae: 0.0052 - val_loss: 0.1202 - val_mae: 0.3461 - learning_rate: 5.0000e-04\n",
      "Epoch 11/50\n",
      "\u001b[1m1327/1327\u001b[0m \u001b[32m━━━━━━━━━━━━━━━━━━━━\u001b[0m\u001b[37m\u001b[0m \u001b[1m13s\u001b[0m 9ms/step - loss: 6.7755e-05 - mae: 0.0052 - val_loss: 0.1193 - val_mae: 0.3449 - learning_rate: 5.0000e-04\n",
      "Epoch 12/50\n",
      "\u001b[1m1327/1327\u001b[0m \u001b[32m━━━━━━━━━━━━━━━━━━━━\u001b[0m\u001b[37m\u001b[0m \u001b[1m12s\u001b[0m 9ms/step - loss: 6.7193e-05 - mae: 0.0051 - val_loss: 0.1190 - val_mae: 0.3444 - learning_rate: 5.0000e-04\n",
      "Epoch 13/50\n",
      "\u001b[1m1327/1327\u001b[0m \u001b[32m━━━━━━━━━━━━━━━━━━━━\u001b[0m\u001b[37m\u001b[0m \u001b[1m12s\u001b[0m 9ms/step - loss: 6.6750e-05 - mae: 0.0051 - val_loss: 0.1191 - val_mae: 0.3445 - learning_rate: 5.0000e-04\n",
      "Epoch 14/50\n",
      "\u001b[1m1327/1327\u001b[0m \u001b[32m━━━━━━━━━━━━━━━━━━━━\u001b[0m\u001b[37m\u001b[0m \u001b[1m13s\u001b[0m 9ms/step - loss: 6.6668e-05 - mae: 0.0051 - val_loss: 0.1190 - val_mae: 0.3444 - learning_rate: 5.0000e-04\n",
      "Epoch 15/50\n",
      "\u001b[1m1327/1327\u001b[0m \u001b[32m━━━━━━━━━━━━━━━━━━━━\u001b[0m\u001b[37m\u001b[0m \u001b[1m13s\u001b[0m 10ms/step - loss: 6.6345e-05 - mae: 0.0051 - val_loss: 0.1186 - val_mae: 0.3439 - learning_rate: 5.0000e-04\n",
      "Epoch 16/50\n",
      "\u001b[1m1327/1327\u001b[0m \u001b[32m━━━━━━━━━━━━━━━━━━━━\u001b[0m\u001b[37m\u001b[0m \u001b[1m13s\u001b[0m 10ms/step - loss: 6.6181e-05 - mae: 0.0051 - val_loss: 0.1184 - val_mae: 0.3435 - learning_rate: 5.0000e-04\n",
      "Epoch 17/50\n",
      "\u001b[1m1327/1327\u001b[0m \u001b[32m━━━━━━━━━━━━━━━━━━━━\u001b[0m\u001b[37m\u001b[0m \u001b[1m12s\u001b[0m 9ms/step - loss: 6.6077e-05 - mae: 0.0051 - val_loss: 0.1181 - val_mae: 0.3430 - learning_rate: 5.0000e-04\n",
      "Epoch 18/50\n",
      "\u001b[1m1327/1327\u001b[0m \u001b[32m━━━━━━━━━━━━━━━━━━━━\u001b[0m\u001b[37m\u001b[0m \u001b[1m12s\u001b[0m 9ms/step - loss: 6.5989e-05 - mae: 0.0051 - val_loss: 0.1177 - val_mae: 0.3425 - learning_rate: 5.0000e-04\n",
      "Epoch 19/50\n",
      "\u001b[1m1327/1327\u001b[0m \u001b[32m━━━━━━━━━━━━━━━━━━━━\u001b[0m\u001b[37m\u001b[0m \u001b[1m12s\u001b[0m 9ms/step - loss: 6.5896e-05 - mae: 0.0051 - val_loss: 0.1177 - val_mae: 0.3425 - learning_rate: 5.0000e-04\n",
      "Epoch 20/50\n",
      "\u001b[1m1327/1327\u001b[0m \u001b[32m━━━━━━━━━━━━━━━━━━━━\u001b[0m\u001b[37m\u001b[0m \u001b[1m13s\u001b[0m 10ms/step - loss: 6.5880e-05 - mae: 0.0051 - val_loss: 0.1175 - val_mae: 0.3422 - learning_rate: 5.0000e-04\n",
      "Epoch 21/50\n",
      "\u001b[1m1327/1327\u001b[0m \u001b[32m━━━━━━━━━━━━━━━━━━━━\u001b[0m\u001b[37m\u001b[0m \u001b[1m13s\u001b[0m 10ms/step - loss: 6.5714e-05 - mae: 0.0051 - val_loss: 0.1174 - val_mae: 0.3421 - learning_rate: 5.0000e-04\n",
      "Epoch 22/50\n",
      "\u001b[1m1327/1327\u001b[0m \u001b[32m━━━━━━━━━━━━━━━━━━━━\u001b[0m\u001b[37m\u001b[0m \u001b[1m12s\u001b[0m 9ms/step - loss: 6.5764e-05 - mae: 0.0051 - val_loss: 0.1173 - val_mae: 0.3420 - learning_rate: 5.0000e-04\n",
      "Epoch 23/50\n",
      "\u001b[1m1327/1327\u001b[0m \u001b[32m━━━━━━━━━━━━━━━━━━━━\u001b[0m\u001b[37m\u001b[0m \u001b[1m13s\u001b[0m 9ms/step - loss: 6.5978e-05 - mae: 0.0051 - val_loss: 0.1174 - val_mae: 0.3420 - learning_rate: 5.0000e-04\n",
      "Epoch 24/50\n",
      "\u001b[1m1327/1327\u001b[0m \u001b[32m━━━━━━━━━━━━━━━━━━━━\u001b[0m\u001b[37m\u001b[0m \u001b[1m12s\u001b[0m 9ms/step - loss: 6.5796e-05 - mae: 0.0051 - val_loss: 0.1174 - val_mae: 0.3420 - learning_rate: 5.0000e-04\n",
      "Epoch 25/50\n",
      "\u001b[1m1327/1327\u001b[0m \u001b[32m━━━━━━━━━━━━━━━━━━━━\u001b[0m\u001b[37m\u001b[0m \u001b[1m12s\u001b[0m 9ms/step - loss: 6.5739e-05 - mae: 0.0050 - val_loss: 0.1170 - val_mae: 0.3416 - learning_rate: 2.5000e-04\n",
      "Epoch 26/50\n",
      "\u001b[1m1327/1327\u001b[0m \u001b[32m━━━━━━━━━━━━━━━━━━━━\u001b[0m\u001b[37m\u001b[0m \u001b[1m13s\u001b[0m 9ms/step - loss: 6.5623e-05 - mae: 0.0050 - val_loss: 0.1170 - val_mae: 0.3415 - learning_rate: 2.5000e-04\n",
      "Epoch 27/50\n",
      "\u001b[1m1327/1327\u001b[0m \u001b[32m━━━━━━━━━━━━━━━━━━━━\u001b[0m\u001b[37m\u001b[0m \u001b[1m12s\u001b[0m 9ms/step - loss: 6.5540e-05 - mae: 0.0050 - val_loss: 0.1171 - val_mae: 0.3417 - learning_rate: 2.5000e-04\n",
      "Epoch 28/50\n",
      "\u001b[1m1327/1327\u001b[0m \u001b[32m━━━━━━━━━━━━━━━━━━━━\u001b[0m\u001b[37m\u001b[0m \u001b[1m13s\u001b[0m 9ms/step - loss: 6.5529e-05 - mae: 0.0050 - val_loss: 0.1171 - val_mae: 0.3416 - learning_rate: 2.5000e-04\n",
      "Epoch 29/50\n",
      "\u001b[1m1327/1327\u001b[0m \u001b[32m━━━━━━━━━━━━━━━━━━━━\u001b[0m\u001b[37m\u001b[0m \u001b[1m13s\u001b[0m 9ms/step - loss: 6.5328e-05 - mae: 0.0050 - val_loss: 0.1169 - val_mae: 0.3413 - learning_rate: 1.2500e-04\n",
      "Epoch 30/50\n",
      "\u001b[1m1327/1327\u001b[0m \u001b[32m━━━━━━━━━━━━━━━━━━━━\u001b[0m\u001b[37m\u001b[0m \u001b[1m12s\u001b[0m 9ms/step - loss: 6.5430e-05 - mae: 0.0050 - val_loss: 0.1169 - val_mae: 0.3413 - learning_rate: 1.2500e-04\n",
      "Epoch 31/50\n",
      "\u001b[1m1327/1327\u001b[0m \u001b[32m━━━━━━━━━━━━━━━━━━━━\u001b[0m\u001b[37m\u001b[0m \u001b[1m13s\u001b[0m 9ms/step - loss: 6.5466e-05 - mae: 0.0050 - val_loss: 0.1168 - val_mae: 0.3412 - learning_rate: 1.2500e-04\n",
      "Epoch 32/50\n",
      "\u001b[1m1327/1327\u001b[0m \u001b[32m━━━━━━━━━━━━━━━━━━━━\u001b[0m\u001b[37m\u001b[0m \u001b[1m13s\u001b[0m 10ms/step - loss: 6.5364e-05 - mae: 0.0050 - val_loss: 0.1168 - val_mae: 0.3412 - learning_rate: 1.2500e-04\n",
      "Epoch 33/50\n",
      "\u001b[1m1327/1327\u001b[0m \u001b[32m━━━━━━━━━━━━━━━━━━━━\u001b[0m\u001b[37m\u001b[0m \u001b[1m14s\u001b[0m 10ms/step - loss: 6.5371e-05 - mae: 0.0050 - val_loss: 0.1167 - val_mae: 0.3411 - learning_rate: 1.2500e-04\n",
      "Epoch 34/50\n",
      "\u001b[1m1327/1327\u001b[0m \u001b[32m━━━━━━━━━━━━━━━━━━━━\u001b[0m\u001b[37m\u001b[0m \u001b[1m14s\u001b[0m 10ms/step - loss: 6.5269e-05 - mae: 0.0050 - val_loss: 0.1166 - val_mae: 0.3409 - learning_rate: 1.2500e-04\n",
      "Epoch 35/50\n",
      "\u001b[1m1327/1327\u001b[0m \u001b[32m━━━━━━━━━━━━━━━━━━━━\u001b[0m\u001b[37m\u001b[0m \u001b[1m14s\u001b[0m 10ms/step - loss: 6.5301e-05 - mae: 0.0050 - val_loss: 0.1166 - val_mae: 0.3409 - learning_rate: 1.2500e-04\n",
      "Epoch 36/50\n",
      "\u001b[1m1327/1327\u001b[0m \u001b[32m━━━━━━━━━━━━━━━━━━━━\u001b[0m\u001b[37m\u001b[0m \u001b[1m13s\u001b[0m 10ms/step - loss: 6.5367e-05 - mae: 0.0050 - val_loss: 0.1167 - val_mae: 0.3410 - learning_rate: 1.2500e-04\n",
      "Epoch 37/50\n",
      "\u001b[1m1327/1327\u001b[0m \u001b[32m━━━━━━━━━━━━━━━━━━━━\u001b[0m\u001b[37m\u001b[0m \u001b[1m13s\u001b[0m 10ms/step - loss: 6.5165e-05 - mae: 0.0050 - val_loss: 0.1167 - val_mae: 0.3410 - learning_rate: 1.2500e-04\n",
      "Epoch 38/50\n",
      "\u001b[1m1327/1327\u001b[0m \u001b[32m━━━━━━━━━━━━━━━━━━━━\u001b[0m\u001b[37m\u001b[0m \u001b[1m12s\u001b[0m 9ms/step - loss: 6.5352e-05 - mae: 0.0050 - val_loss: 0.1167 - val_mae: 0.3411 - learning_rate: 6.2500e-05\n",
      "Epoch 39/50\n",
      "\u001b[1m1327/1327\u001b[0m \u001b[32m━━━━━━━━━━━━━━━━━━━━\u001b[0m\u001b[37m\u001b[0m \u001b[1m12s\u001b[0m 9ms/step - loss: 6.5136e-05 - mae: 0.0050 - val_loss: 0.1167 - val_mae: 0.3411 - learning_rate: 6.2500e-05\n",
      "Epoch 40/50\n",
      "\u001b[1m1327/1327\u001b[0m \u001b[32m━━━━━━━━━━━━━━━━━━━━\u001b[0m\u001b[37m\u001b[0m \u001b[1m12s\u001b[0m 9ms/step - loss: 6.5365e-05 - mae: 0.0050 - val_loss: 0.1167 - val_mae: 0.3410 - learning_rate: 6.2500e-05\n",
      "\u001b[1m  63/1079\u001b[0m \u001b[32m━\u001b[0m\u001b[37m━━━━━━━━━━━━━━━━━━━\u001b[0m \u001b[1m1s\u001b[0m 2ms/step"
     ]
    },
    {
     "name": "stderr",
     "output_type": "stream",
     "text": [
      "2025-03-30 20:11:13.278199: E tensorflow/core/framework/node_def_util.cc:680] NodeDef mentions attribute use_unbounded_threadpool which is not in the op definition: Op<name=MapDataset; signature=input_dataset:variant, other_arguments: -> handle:variant; attr=f:func; attr=Targuments:list(type),min=0; attr=output_types:list(type),min=1; attr=output_shapes:list(shape),min=1; attr=use_inter_op_parallelism:bool,default=true; attr=preserve_cardinality:bool,default=false; attr=force_synchronous:bool,default=false; attr=metadata:string,default=\"\"> This may be expected if your graph generating binary is newer  than this binary. Unknown attributes will be ignored. NodeDef: {{node ParallelMapDatasetV2/_14}}\n",
      "2025-03-30 20:11:13.278548: E tensorflow/core/framework/node_def_util.cc:680] NodeDef mentions attribute use_unbounded_threadpool which is not in the op definition: Op<name=MapDataset; signature=input_dataset:variant, other_arguments: -> handle:variant; attr=f:func; attr=Targuments:list(type),min=0; attr=output_types:list(type),min=1; attr=output_shapes:list(shape),min=1; attr=use_inter_op_parallelism:bool,default=true; attr=preserve_cardinality:bool,default=false; attr=force_synchronous:bool,default=false; attr=metadata:string,default=\"\"> This may be expected if your graph generating binary is newer  than this binary. Unknown attributes will be ignored. NodeDef: {{node ParallelMapDatasetV2/_14}}\n"
     ]
    },
    {
     "name": "stdout",
     "output_type": "stream",
     "text": [
      "\u001b[1m1079/1079\u001b[0m \u001b[32m━━━━━━━━━━━━━━━━━━━━\u001b[0m\u001b[37m\u001b[0m \u001b[1m2s\u001b[0m 2ms/step\n"
     ]
    }
   ],
   "source": [
    "coin = 'ETH'\n",
    "print(f\"Processing {coin}...\")\n",
    "e_model_val, e_y_val, e_y_pred, e_dates_val, e_close_prices_val = train_and_evaluate_model_validation(df, feature_cols, validation, coin)\n"
   ]
  },
  {
   "cell_type": "code",
   "execution_count": 236,
   "metadata": {},
   "outputs": [],
   "source": [
    "# Log trades and update cumulative returns\n",
    "eth_trades_val = log_trades(e_dates_val, e_y_val.flatten(), e_y_pred.flatten(), e_close_prices_val, coin)\n",
    "all_trades_val.append(eth_trades_val)"
   ]
  },
  {
   "cell_type": "code",
   "execution_count": 237,
   "metadata": {},
   "outputs": [
    {
     "name": "stdout",
     "output_type": "stream",
     "text": [
      "Processing SOL...\n",
      "Epoch 1/50\n",
      "\u001b[1m5304/5308\u001b[0m \u001b[32m━━━━━━━━━━━━━━━━━━━\u001b[0m\u001b[37m━\u001b[0m \u001b[1m0s\u001b[0m 4ms/step - loss: 0.0091 - mae: 0.0566"
     ]
    },
    {
     "name": "stderr",
     "output_type": "stream",
     "text": [
      "2025-03-30 20:11:39.076235: E tensorflow/core/framework/node_def_util.cc:680] NodeDef mentions attribute use_unbounded_threadpool which is not in the op definition: Op<name=MapDataset; signature=input_dataset:variant, other_arguments: -> handle:variant; attr=f:func; attr=Targuments:list(type),min=0; attr=output_types:list(type),min=1; attr=output_shapes:list(shape),min=1; attr=use_inter_op_parallelism:bool,default=true; attr=preserve_cardinality:bool,default=false; attr=force_synchronous:bool,default=false; attr=metadata:string,default=\"\"> This may be expected if your graph generating binary is newer  than this binary. Unknown attributes will be ignored. NodeDef: {{node ParallelMapDatasetV2/_15}}\n",
      "2025-03-30 20:11:39.076623: E tensorflow/core/framework/node_def_util.cc:680] NodeDef mentions attribute use_unbounded_threadpool which is not in the op definition: Op<name=MapDataset; signature=input_dataset:variant, other_arguments: -> handle:variant; attr=f:func; attr=Targuments:list(type),min=0; attr=output_types:list(type),min=1; attr=output_shapes:list(shape),min=1; attr=use_inter_op_parallelism:bool,default=true; attr=preserve_cardinality:bool,default=false; attr=force_synchronous:bool,default=false; attr=metadata:string,default=\"\"> This may be expected if your graph generating binary is newer  than this binary. Unknown attributes will be ignored. NodeDef: {{node ParallelMapDatasetV2/_15}}\n"
     ]
    },
    {
     "name": "stdout",
     "output_type": "stream",
     "text": [
      "\u001b[1m5308/5308\u001b[0m \u001b[32m━━━━━━━━━━━━━━━━━━━━\u001b[0m\u001b[37m\u001b[0m \u001b[1m26s\u001b[0m 5ms/step - loss: 0.0091 - mae: 0.0566 - val_loss: 0.0115 - val_mae: 0.1043 - learning_rate: 0.0010\n",
      "Epoch 2/50\n",
      "\u001b[1m5308/5308\u001b[0m \u001b[32m━━━━━━━━━━━━━━━━━━━━\u001b[0m\u001b[37m\u001b[0m \u001b[1m25s\u001b[0m 5ms/step - loss: 0.0013 - mae: 0.0241 - val_loss: 0.0101 - val_mae: 0.0974 - learning_rate: 0.0010\n",
      "Epoch 3/50\n",
      "\u001b[1m5308/5308\u001b[0m \u001b[32m━━━━━━━━━━━━━━━━━━━━\u001b[0m\u001b[37m\u001b[0m \u001b[1m25s\u001b[0m 5ms/step - loss: 0.0013 - mae: 0.0231 - val_loss: 0.0095 - val_mae: 0.0945 - learning_rate: 0.0010\n",
      "Epoch 4/50\n",
      "\u001b[1m5308/5308\u001b[0m \u001b[32m━━━━━━━━━━━━━━━━━━━━\u001b[0m\u001b[37m\u001b[0m \u001b[1m25s\u001b[0m 5ms/step - loss: 0.0013 - mae: 0.0230 - val_loss: 0.0094 - val_mae: 0.0941 - learning_rate: 0.0010\n",
      "Epoch 5/50\n",
      "\u001b[1m5308/5308\u001b[0m \u001b[32m━━━━━━━━━━━━━━━━━━━━\u001b[0m\u001b[37m\u001b[0m \u001b[1m25s\u001b[0m 5ms/step - loss: 0.0013 - mae: 0.0230 - val_loss: 0.0094 - val_mae: 0.0939 - learning_rate: 0.0010\n",
      "Epoch 6/50\n",
      "\u001b[1m5308/5308\u001b[0m \u001b[32m━━━━━━━━━━━━━━━━━━━━\u001b[0m\u001b[37m\u001b[0m \u001b[1m25s\u001b[0m 5ms/step - loss: 0.0013 - mae: 0.0230 - val_loss: 0.0095 - val_mae: 0.0942 - learning_rate: 0.0010\n",
      "Epoch 7/50\n",
      "\u001b[1m5308/5308\u001b[0m \u001b[32m━━━━━━━━━━━━━━━━━━━━\u001b[0m\u001b[37m\u001b[0m \u001b[1m25s\u001b[0m 5ms/step - loss: 0.0013 - mae: 0.0230 - val_loss: 0.0094 - val_mae: 0.0940 - learning_rate: 0.0010\n",
      "Epoch 8/50\n",
      "\u001b[1m5308/5308\u001b[0m \u001b[32m━━━━━━━━━━━━━━━━━━━━\u001b[0m\u001b[37m\u001b[0m \u001b[1m25s\u001b[0m 5ms/step - loss: 0.0013 - mae: 0.0230 - val_loss: 0.0095 - val_mae: 0.0941 - learning_rate: 0.0010\n",
      "Epoch 9/50\n",
      "\u001b[1m5308/5308\u001b[0m \u001b[32m━━━━━━━━━━━━━━━━━━━━\u001b[0m\u001b[37m\u001b[0m \u001b[1m25s\u001b[0m 5ms/step - loss: 0.0013 - mae: 0.0229 - val_loss: 0.0090 - val_mae: 0.0918 - learning_rate: 5.0000e-04\n",
      "Epoch 10/50\n",
      "\u001b[1m5308/5308\u001b[0m \u001b[32m━━━━━━━━━━━━━━━━━━━━\u001b[0m\u001b[37m\u001b[0m \u001b[1m27s\u001b[0m 5ms/step - loss: 0.0013 - mae: 0.0229 - val_loss: 0.0090 - val_mae: 0.0918 - learning_rate: 5.0000e-04\n",
      "Epoch 11/50\n",
      "\u001b[1m5308/5308\u001b[0m \u001b[32m━━━━━━━━━━━━━━━━━━━━\u001b[0m\u001b[37m\u001b[0m \u001b[1m25s\u001b[0m 5ms/step - loss: 0.0013 - mae: 0.0229 - val_loss: 0.0090 - val_mae: 0.0919 - learning_rate: 5.0000e-04\n",
      "Epoch 12/50\n",
      "\u001b[1m5308/5308\u001b[0m \u001b[32m━━━━━━━━━━━━━━━━━━━━\u001b[0m\u001b[37m\u001b[0m \u001b[1m25s\u001b[0m 5ms/step - loss: 0.0013 - mae: 0.0229 - val_loss: 0.0090 - val_mae: 0.0918 - learning_rate: 5.0000e-04\n",
      "Epoch 13/50\n",
      "\u001b[1m5308/5308\u001b[0m \u001b[32m━━━━━━━━━━━━━━━━━━━━\u001b[0m\u001b[37m\u001b[0m \u001b[1m25s\u001b[0m 5ms/step - loss: 0.0013 - mae: 0.0229 - val_loss: 0.0086 - val_mae: 0.0895 - learning_rate: 2.5000e-04\n",
      "Epoch 14/50\n",
      "\u001b[1m5308/5308\u001b[0m \u001b[32m━━━━━━━━━━━━━━━━━━━━\u001b[0m\u001b[37m\u001b[0m \u001b[1m26s\u001b[0m 5ms/step - loss: 0.0013 - mae: 0.0229 - val_loss: 0.0086 - val_mae: 0.0897 - learning_rate: 2.5000e-04\n",
      "Epoch 15/50\n",
      "\u001b[1m5308/5308\u001b[0m \u001b[32m━━━━━━━━━━━━━━━━━━━━\u001b[0m\u001b[37m\u001b[0m \u001b[1m26s\u001b[0m 5ms/step - loss: 0.0013 - mae: 0.0229 - val_loss: 0.0086 - val_mae: 0.0896 - learning_rate: 2.5000e-04\n",
      "Epoch 16/50\n",
      "\u001b[1m5308/5308\u001b[0m \u001b[32m━━━━━━━━━━━━━━━━━━━━\u001b[0m\u001b[37m\u001b[0m \u001b[1m27s\u001b[0m 5ms/step - loss: 0.0013 - mae: 0.0229 - val_loss: 0.0086 - val_mae: 0.0897 - learning_rate: 2.5000e-04\n",
      "Epoch 17/50\n",
      "\u001b[1m5308/5308\u001b[0m \u001b[32m━━━━━━━━━━━━━━━━━━━━\u001b[0m\u001b[37m\u001b[0m \u001b[1m25s\u001b[0m 5ms/step - loss: 0.0013 - mae: 0.0229 - val_loss: 0.0084 - val_mae: 0.0886 - learning_rate: 1.2500e-04\n",
      "Epoch 18/50\n",
      "\u001b[1m5308/5308\u001b[0m \u001b[32m━━━━━━━━━━━━━━━━━━━━\u001b[0m\u001b[37m\u001b[0m \u001b[1m25s\u001b[0m 5ms/step - loss: 0.0013 - mae: 0.0229 - val_loss: 0.0084 - val_mae: 0.0886 - learning_rate: 1.2500e-04\n",
      "Epoch 19/50\n",
      "\u001b[1m5308/5308\u001b[0m \u001b[32m━━━━━━━━━━━━━━━━━━━━\u001b[0m\u001b[37m\u001b[0m \u001b[1m25s\u001b[0m 5ms/step - loss: 0.0013 - mae: 0.0229 - val_loss: 0.0085 - val_mae: 0.0887 - learning_rate: 1.2500e-04\n",
      "Epoch 20/50\n",
      "\u001b[1m5308/5308\u001b[0m \u001b[32m━━━━━━━━━━━━━━━━━━━━\u001b[0m\u001b[37m\u001b[0m \u001b[1m25s\u001b[0m 5ms/step - loss: 0.0013 - mae: 0.0229 - val_loss: 0.0085 - val_mae: 0.0887 - learning_rate: 1.2500e-04\n",
      "Epoch 21/50\n",
      "\u001b[1m5308/5308\u001b[0m \u001b[32m━━━━━━━━━━━━━━━━━━━━\u001b[0m\u001b[37m\u001b[0m \u001b[1m25s\u001b[0m 5ms/step - loss: 0.0013 - mae: 0.0229 - val_loss: 0.0084 - val_mae: 0.0883 - learning_rate: 6.2500e-05\n",
      "Epoch 22/50\n",
      "\u001b[1m5308/5308\u001b[0m \u001b[32m━━━━━━━━━━━━━━━━━━━━\u001b[0m\u001b[37m\u001b[0m \u001b[1m27s\u001b[0m 5ms/step - loss: 0.0013 - mae: 0.0229 - val_loss: 0.0084 - val_mae: 0.0884 - learning_rate: 6.2500e-05\n",
      "Epoch 23/50\n",
      "\u001b[1m5308/5308\u001b[0m \u001b[32m━━━━━━━━━━━━━━━━━━━━\u001b[0m\u001b[37m\u001b[0m \u001b[1m26s\u001b[0m 5ms/step - loss: 0.0013 - mae: 0.0229 - val_loss: 0.0084 - val_mae: 0.0884 - learning_rate: 6.2500e-05\n",
      "Epoch 24/50\n",
      "\u001b[1m5308/5308\u001b[0m \u001b[32m━━━━━━━━━━━━━━━━━━━━\u001b[0m\u001b[37m\u001b[0m \u001b[1m25s\u001b[0m 5ms/step - loss: 0.0013 - mae: 0.0229 - val_loss: 0.0084 - val_mae: 0.0881 - learning_rate: 3.1250e-05\n",
      "Epoch 25/50\n",
      "\u001b[1m5308/5308\u001b[0m \u001b[32m━━━━━━━━━━━━━━━━━━━━\u001b[0m\u001b[37m\u001b[0m \u001b[1m25s\u001b[0m 5ms/step - loss: 0.0013 - mae: 0.0229 - val_loss: 0.0083 - val_mae: 0.0881 - learning_rate: 3.1250e-05\n",
      "Epoch 26/50\n",
      "\u001b[1m5308/5308\u001b[0m \u001b[32m━━━━━━━━━━━━━━━━━━━━\u001b[0m\u001b[37m\u001b[0m \u001b[1m25s\u001b[0m 5ms/step - loss: 0.0013 - mae: 0.0229 - val_loss: 0.0083 - val_mae: 0.0881 - learning_rate: 3.1250e-05\n",
      "Epoch 27/50\n",
      "\u001b[1m5308/5308\u001b[0m \u001b[32m━━━━━━━━━━━━━━━━━━━━\u001b[0m\u001b[37m\u001b[0m \u001b[1m26s\u001b[0m 5ms/step - loss: 0.0013 - mae: 0.0229 - val_loss: 0.0083 - val_mae: 0.0880 - learning_rate: 1.5625e-05\n",
      "Epoch 28/50\n",
      "\u001b[1m5308/5308\u001b[0m \u001b[32m━━━━━━━━━━━━━━━━━━━━\u001b[0m\u001b[37m\u001b[0m \u001b[1m27s\u001b[0m 5ms/step - loss: 0.0013 - mae: 0.0229 - val_loss: 0.0083 - val_mae: 0.0880 - learning_rate: 1.5625e-05\n",
      "Epoch 29/50\n",
      "\u001b[1m5308/5308\u001b[0m \u001b[32m━━━━━━━━━━━━━━━━━━━━\u001b[0m\u001b[37m\u001b[0m \u001b[1m26s\u001b[0m 5ms/step - loss: 0.0012 - mae: 0.0229 - val_loss: 0.0083 - val_mae: 0.0880 - learning_rate: 1.5625e-05\n",
      "Epoch 30/50\n",
      "\u001b[1m5308/5308\u001b[0m \u001b[32m━━━━━━━━━━━━━━━━━━━━\u001b[0m\u001b[37m\u001b[0m \u001b[1m26s\u001b[0m 5ms/step - loss: 0.0013 - mae: 0.0229 - val_loss: 0.0083 - val_mae: 0.0881 - learning_rate: 7.8125e-06\n",
      "Epoch 31/50\n",
      "\u001b[1m5308/5308\u001b[0m \u001b[32m━━━━━━━━━━━━━━━━━━━━\u001b[0m\u001b[37m\u001b[0m \u001b[1m25s\u001b[0m 5ms/step - loss: 0.0012 - mae: 0.0229 - val_loss: 0.0083 - val_mae: 0.0881 - learning_rate: 7.8125e-06\n",
      "Epoch 32/50\n",
      "\u001b[1m5308/5308\u001b[0m \u001b[32m━━━━━━━━━━━━━━━━━━━━\u001b[0m\u001b[37m\u001b[0m \u001b[1m26s\u001b[0m 5ms/step - loss: 0.0012 - mae: 0.0229 - val_loss: 0.0083 - val_mae: 0.0881 - learning_rate: 7.8125e-06\n",
      "Epoch 33/50\n",
      "\u001b[1m5308/5308\u001b[0m \u001b[32m━━━━━━━━━━━━━━━━━━━━\u001b[0m\u001b[37m\u001b[0m \u001b[1m26s\u001b[0m 5ms/step - loss: 0.0013 - mae: 0.0229 - val_loss: 0.0084 - val_mae: 0.0882 - learning_rate: 3.9063e-06\n",
      "Epoch 34/50\n",
      "\u001b[1m5308/5308\u001b[0m \u001b[32m━━━━━━━━━━━━━━━━━━━━\u001b[0m\u001b[37m\u001b[0m \u001b[1m26s\u001b[0m 5ms/step - loss: 0.0012 - mae: 0.0229 - val_loss: 0.0084 - val_mae: 0.0882 - learning_rate: 3.9063e-06\n",
      "\u001b[1m  65/1079\u001b[0m \u001b[32m━\u001b[0m\u001b[37m━━━━━━━━━━━━━━━━━━━\u001b[0m \u001b[1m1s\u001b[0m 2ms/step"
     ]
    },
    {
     "name": "stderr",
     "output_type": "stream",
     "text": [
      "2025-03-30 20:25:46.854413: E tensorflow/core/framework/node_def_util.cc:680] NodeDef mentions attribute use_unbounded_threadpool which is not in the op definition: Op<name=MapDataset; signature=input_dataset:variant, other_arguments: -> handle:variant; attr=f:func; attr=Targuments:list(type),min=0; attr=output_types:list(type),min=1; attr=output_shapes:list(shape),min=1; attr=use_inter_op_parallelism:bool,default=true; attr=preserve_cardinality:bool,default=false; attr=force_synchronous:bool,default=false; attr=metadata:string,default=\"\"> This may be expected if your graph generating binary is newer  than this binary. Unknown attributes will be ignored. NodeDef: {{node ParallelMapDatasetV2/_14}}\n",
      "2025-03-30 20:25:46.854764: E tensorflow/core/framework/node_def_util.cc:680] NodeDef mentions attribute use_unbounded_threadpool which is not in the op definition: Op<name=MapDataset; signature=input_dataset:variant, other_arguments: -> handle:variant; attr=f:func; attr=Targuments:list(type),min=0; attr=output_types:list(type),min=1; attr=output_shapes:list(shape),min=1; attr=use_inter_op_parallelism:bool,default=true; attr=preserve_cardinality:bool,default=false; attr=force_synchronous:bool,default=false; attr=metadata:string,default=\"\"> This may be expected if your graph generating binary is newer  than this binary. Unknown attributes will be ignored. NodeDef: {{node ParallelMapDatasetV2/_14}}\n"
     ]
    },
    {
     "name": "stdout",
     "output_type": "stream",
     "text": [
      "\u001b[1m1079/1079\u001b[0m \u001b[32m━━━━━━━━━━━━━━━━━━━━\u001b[0m\u001b[37m\u001b[0m \u001b[1m2s\u001b[0m 2ms/step\n"
     ]
    }
   ],
   "source": [
    "coin = 'SOL'\n",
    "print(f\"Processing {coin}...\")\n",
    "s_model_val, s_y_val, s_y_pred, s_dates_val, s_close_prices_val = train_and_evaluate_model_validation(df, feature_cols, validation, coin)\n"
   ]
  },
  {
   "cell_type": "code",
   "execution_count": 238,
   "metadata": {},
   "outputs": [],
   "source": [
    "# Log trades and update cumulative returns\n",
    "sol_trades_val = log_trades(s_dates_val, s_y_val.flatten(), s_y_pred.flatten(), s_close_prices_val, coin)\n",
    "all_trades_val.append(sol_trades_val)"
   ]
  },
  {
   "cell_type": "code",
   "execution_count": 239,
   "metadata": {},
   "outputs": [
    {
     "name": "stdout",
     "output_type": "stream",
     "text": [
      "Processing XRP...\n",
      "Epoch 1/50\n",
      "\u001b[1m2654/2654\u001b[0m \u001b[32m━━━━━━━━━━━━━━━━━━━━\u001b[0m\u001b[37m\u001b[0m \u001b[1m0s\u001b[0m 6ms/step - loss: 0.0094 - mae: 0.0565"
     ]
    },
    {
     "name": "stderr",
     "output_type": "stream",
     "text": [
      "2025-03-30 20:26:06.124524: E tensorflow/core/framework/node_def_util.cc:680] NodeDef mentions attribute use_unbounded_threadpool which is not in the op definition: Op<name=MapDataset; signature=input_dataset:variant, other_arguments: -> handle:variant; attr=f:func; attr=Targuments:list(type),min=0; attr=output_types:list(type),min=1; attr=output_shapes:list(shape),min=1; attr=use_inter_op_parallelism:bool,default=true; attr=preserve_cardinality:bool,default=false; attr=force_synchronous:bool,default=false; attr=metadata:string,default=\"\"> This may be expected if your graph generating binary is newer  than this binary. Unknown attributes will be ignored. NodeDef: {{node ParallelMapDatasetV2/_15}}\n",
      "2025-03-30 20:26:06.124891: E tensorflow/core/framework/node_def_util.cc:680] NodeDef mentions attribute use_unbounded_threadpool which is not in the op definition: Op<name=MapDataset; signature=input_dataset:variant, other_arguments: -> handle:variant; attr=f:func; attr=Targuments:list(type),min=0; attr=output_types:list(type),min=1; attr=output_shapes:list(shape),min=1; attr=use_inter_op_parallelism:bool,default=true; attr=preserve_cardinality:bool,default=false; attr=force_synchronous:bool,default=false; attr=metadata:string,default=\"\"> This may be expected if your graph generating binary is newer  than this binary. Unknown attributes will be ignored. NodeDef: {{node ParallelMapDatasetV2/_15}}\n"
     ]
    },
    {
     "name": "stdout",
     "output_type": "stream",
     "text": [
      "\u001b[1m2654/2654\u001b[0m \u001b[32m━━━━━━━━━━━━━━━━━━━━\u001b[0m\u001b[37m\u001b[0m \u001b[1m18s\u001b[0m 7ms/step - loss: 0.0094 - mae: 0.0565 - val_loss: 5.7545e-04 - val_mae: 0.0149 - learning_rate: 0.0010\n",
      "Epoch 2/50\n",
      "\u001b[1m2654/2654\u001b[0m \u001b[32m━━━━━━━━━━━━━━━━━━━━\u001b[0m\u001b[37m\u001b[0m \u001b[1m17s\u001b[0m 6ms/step - loss: 3.6063e-04 - mae: 0.0142 - val_loss: 6.0972e-04 - val_mae: 0.0160 - learning_rate: 0.0010\n",
      "Epoch 3/50\n",
      "\u001b[1m2654/2654\u001b[0m \u001b[32m━━━━━━━━━━━━━━━━━━━━\u001b[0m\u001b[37m\u001b[0m \u001b[1m16s\u001b[0m 6ms/step - loss: 1.6621e-04 - mae: 0.0086 - val_loss: 6.7105e-04 - val_mae: 0.0176 - learning_rate: 0.0010\n",
      "Epoch 4/50\n",
      "\u001b[1m2654/2654\u001b[0m \u001b[32m━━━━━━━━━━━━━━━━━━━━\u001b[0m\u001b[37m\u001b[0m \u001b[1m17s\u001b[0m 6ms/step - loss: 1.5930e-04 - mae: 0.0083 - val_loss: 6.1262e-04 - val_mae: 0.0161 - learning_rate: 0.0010\n",
      "Epoch 5/50\n",
      "\u001b[1m2654/2654\u001b[0m \u001b[32m━━━━━━━━━━━━━━━━━━━━\u001b[0m\u001b[37m\u001b[0m \u001b[1m16s\u001b[0m 6ms/step - loss: 1.5304e-04 - mae: 0.0080 - val_loss: 6.4540e-04 - val_mae: 0.0169 - learning_rate: 5.0000e-04\n",
      "Epoch 6/50\n",
      "\u001b[1m2654/2654\u001b[0m \u001b[32m━━━━━━━━━━━━━━━━━━━━\u001b[0m\u001b[37m\u001b[0m \u001b[1m16s\u001b[0m 6ms/step - loss: 1.5195e-04 - mae: 0.0080 - val_loss: 6.5606e-04 - val_mae: 0.0172 - learning_rate: 5.0000e-04\n",
      "\u001b[1m  63/1079\u001b[0m \u001b[32m━\u001b[0m\u001b[37m━━━━━━━━━━━━━━━━━━━\u001b[0m \u001b[1m1s\u001b[0m 2ms/step"
     ]
    },
    {
     "name": "stderr",
     "output_type": "stream",
     "text": [
      "2025-03-30 20:27:30.187607: E tensorflow/core/framework/node_def_util.cc:680] NodeDef mentions attribute use_unbounded_threadpool which is not in the op definition: Op<name=MapDataset; signature=input_dataset:variant, other_arguments: -> handle:variant; attr=f:func; attr=Targuments:list(type),min=0; attr=output_types:list(type),min=1; attr=output_shapes:list(shape),min=1; attr=use_inter_op_parallelism:bool,default=true; attr=preserve_cardinality:bool,default=false; attr=force_synchronous:bool,default=false; attr=metadata:string,default=\"\"> This may be expected if your graph generating binary is newer  than this binary. Unknown attributes will be ignored. NodeDef: {{node ParallelMapDatasetV2/_14}}\n",
      "2025-03-30 20:27:30.187941: E tensorflow/core/framework/node_def_util.cc:680] NodeDef mentions attribute use_unbounded_threadpool which is not in the op definition: Op<name=MapDataset; signature=input_dataset:variant, other_arguments: -> handle:variant; attr=f:func; attr=Targuments:list(type),min=0; attr=output_types:list(type),min=1; attr=output_shapes:list(shape),min=1; attr=use_inter_op_parallelism:bool,default=true; attr=preserve_cardinality:bool,default=false; attr=force_synchronous:bool,default=false; attr=metadata:string,default=\"\"> This may be expected if your graph generating binary is newer  than this binary. Unknown attributes will be ignored. NodeDef: {{node ParallelMapDatasetV2/_14}}\n"
     ]
    },
    {
     "name": "stdout",
     "output_type": "stream",
     "text": [
      "\u001b[1m1079/1079\u001b[0m \u001b[32m━━━━━━━━━━━━━━━━━━━━\u001b[0m\u001b[37m\u001b[0m \u001b[1m2s\u001b[0m 2ms/step\n"
     ]
    }
   ],
   "source": [
    "coin = 'XRP'\n",
    "print(f\"Processing {coin}...\")\n",
    "xrp_model_val, xrp_y_val, xrp_y_pred, xrp_dates_val, xrp_close_prices_val = train_and_evaluate_model_validation(df, feature_cols, validation, coin)\n"
   ]
  },
  {
   "cell_type": "code",
   "execution_count": 240,
   "metadata": {},
   "outputs": [],
   "source": [
    "# Log trades and update cumulative returns\n",
    "xrp_trades_val = log_trades(xrp_dates_val, xrp_y_val.flatten(), xrp_y_pred.flatten(), xrp_close_prices_val, coin)\n",
    "all_trades_val.append(xrp_trades_val)"
   ]
  },
  {
   "cell_type": "code",
   "execution_count": 241,
   "metadata": {},
   "outputs": [],
   "source": [
    "#all_trades = [btc_trades, eth_trades, sol_trades, xrp_trades]"
   ]
  },
  {
   "cell_type": "code",
   "execution_count": 242,
   "metadata": {},
   "outputs": [
    {
     "data": {
      "image/png": "[encoded data removed]",
      "text/plain": [
       "<Figure size 1200x600 with 1 Axes>"
      ]
     },
     "metadata": {},
     "output_type": "display_data"
    }
   ],
   "source": [
    "\n",
    "# Combine all trades into a single DataFrame\n",
    "all_trades_val_df = pd.concat(all_trades_val, ignore_index=True)\n",
    "\n",
    "# Plot cumulative returns for all stocks\n",
    "plot_cumulative_returns(all_trades_val_df)"
   ]
  },
  {
   "cell_type": "code",
   "execution_count": 243,
   "metadata": {},
   "outputs": [],
   "source": [
    "all_trades_val_df['Rolling_Risk'] = all_trades_val_df.groupby('Coin')['Actual_Return'].transform(lambda x: x.rolling(window=10).std())\n",
    "all_trades_val_df['Rolling_Average'] = all_trades_val_df.groupby('Coin')['Actual_Return'].transform(lambda x: x.rolling(window=10).mean())\n"
   ]
  },
  {
   "cell_type": "code",
   "execution_count": 244,
   "metadata": {},
   "outputs": [],
   "source": [
    "all_trades_val_df.to_csv(\"returns.csv\")"
   ]
  },
  {
   "cell_type": "code",
   "execution_count": 245,
   "metadata": {},
   "outputs": [
    {
     "name": "stdout",
     "output_type": "stream",
     "text": [
      "  Coin  Buy & Hold Return (%)  Trading Strategy Return (%)\n",
      "0  BTC                   2.08                         3.89\n",
      "1  ETH                   2.94                        26.42\n",
      "2  SOL                   5.80                        24.78\n",
      "3  XRP                  -0.48                        30.73\n"
     ]
    }
   ],
   "source": [
    "\n",
    "\n",
    "# Function to calculate returns for both strategies during the test period\n",
    "def calculate_strategy_returns_validation(df, all_trades_val_df):\n",
    "    results = []\n",
    "\n",
    "    for coin in df['Coin'].unique():\n",
    "        df_coin = df[df['Coin'] == coin].sort_values('Datetime')\n",
    "\n",
    "        # Split data (80% train, 20% test)\n",
    "        split_index = int(len(df_coin) * 0.8)\n",
    "        df_test = df_coin.iloc[split_index:]  # Select last 20%\n",
    "\n",
    "        if df_test.empty:\n",
    "            continue  # Skip if no test data\n",
    "\n",
    "        # Buy & Hold Strategy Return\n",
    "        initial_price = df_test['Close'].iloc[0]\n",
    "        final_price = df_test['Close'].iloc[-1]\n",
    "        buy_and_hold_return = (final_price / initial_price) - 1\n",
    "\n",
    "        # Trading Strategy Return (from the logged trades)\n",
    "        df_trades = all_trades_val_df[all_trades_val_df['Coin'] == coin]\n",
    "        strategy_return = df_trades['Cumulative_Return'].iloc[-1] if not df_trades.empty else None\n",
    "\n",
    "        results.append({\n",
    "            \"Coin\": coin,\n",
    "            \"Buy & Hold Return (%)\": round(buy_and_hold_return * 100, 2),\n",
    "            \"Trading Strategy Return (%)\": round(strategy_return * 100, 2) if strategy_return is not None else None\n",
    "        })\n",
    "\n",
    "    return pd.DataFrame(results)\n",
    "\n",
    "# Check if trading results exist\n",
    "if 'all_trades_df' in globals():\n",
    "    strategy_returns_df = calculate_strategy_returns(validation, all_trades_val_df)\n",
    "    print(strategy_returns_df)\n",
    "else:\n",
    "    print(\"Trading strategy results are missing. Please re-run the trading model first.\")\n",
    "\n",
    "\n"
   ]
  },
  {
   "cell_type": "code",
   "execution_count": null,
   "metadata": {},
   "outputs": [],
   "source": []
  }
 ],
 "metadata": {
  "kernelspec": {
   "display_name": "base",
   "language": "python",
   "name": "python3"
  },
  "language_info": {
   "codemirror_mode": {
    "name": "ipython",
    "version": 3
   },
   "file_extension": ".py",
   "mimetype": "text/x-python",
   "name": "python",
   "nbconvert_exporter": "python",
   "pygments_lexer": "ipython3",
   "version": "3.12.9"
  }
 },
 "nbformat": 4,
 "nbformat_minor": 2
}
