{
 "cells": [
  {
   "cell_type": "code",
   "execution_count": 4,
   "metadata": {},
   "outputs": [],
   "source": [
    "import pandas as pd\n",
    "import numpy as np\n",
    "import tensorflow as tf \n",
    "import random\n",
    "from tensorflow.keras.models import Sequential\n",
    "from tensorflow.keras.layers import LSTM, Dense, Dropout, Input\n",
    "from tensorflow.keras.callbacks import EarlyStopping, ReduceLROnPlateau\n",
    "from sklearn.preprocessing import MinMaxScaler\n",
    "import matplotlib.pyplot as plt\n",
    "from scikeras.wrappers import KerasRegressor\n"
   ]
  },
  {
   "cell_type": "markdown",
   "metadata": {},
   "source": [
    "##### Model to include best params & sentiment scores"
   ]
  },
  {
   "cell_type": "markdown",
   "metadata": {},
   "source": [
    "Load sentiment scores"
   ]
  },
  {
   "cell_type": "code",
   "execution_count": 5,
   "metadata": {},
   "outputs": [],
   "source": [
    "# Load both sentiment files\n",
    "sent1 = pd.read_csv('../curr_news/aggregated_daily_sentiment.csv')\n",
    "sent2 = pd.read_csv('../historic_news/aggregated_daily_sentiment.csv')\n",
    "\n",
    "# Combine them in order: part 1 comes before part 2\n",
    "sentiment = pd.concat([sent1, sent2], ignore_index=True)\n",
    "\n",
    "# Rename and parse dates\n",
    "sentiment.rename(columns={'Unnamed: 0': 'Datetime'}, inplace=True)\n",
    "sentiment['Datetime'] = pd.to_datetime(sentiment['Datetime'])\n",
    "\n",
    "# Reshape to long format: Date | Token | Sentiment\n",
    "sentiment = sentiment.melt(id_vars='Datetime', var_name='Token', value_name='Sentiment')\n",
    "sentiment['Datetime'] = sentiment['Datetime'].dt.normalize()\n",
    "sentiment['Datetime'] = sentiment['Datetime'].dt.tz_localize(None)\n",
    "\n"
   ]
  },
  {
   "cell_type": "code",
   "execution_count": 6,
   "metadata": {},
   "outputs": [],
   "source": [
    "# Set random seeds for reproducibility\n",
    "np.random.seed(42)\n",
    "tf.random.set_seed(42)\n",
    "random.seed(42)\n",
    "tf.keras.utils.set_random_seed(42)\n",
    "tf.config.experimental.enable_op_determinism() \n",
    "\n",
    "\n",
    "#Code for Hyperparameter Tuning\n",
    "def load_and_preprocess_data(file_path, sentiment=sentiment):\n",
    "    df = pd.read_csv(file_path)\n",
    "    df['Datetime'] = df['Date']\n",
    "    df['Datetime'] = pd.to_datetime(df['Datetime'])\n",
    "    df.sort_values(['Token', 'Datetime'], inplace=True)\n",
    "    # Prepare crypto data date column\n",
    "    df['Datetime'] = df['Datetime'].dt.normalize()\n",
    "    df['Datetime'] = df['Datetime'].dt.tz_localize(None)\n",
    "\n",
    "    # Merge daily sentiment into intraday stock data\n",
    "    df = pd.merge(df, sentiment, how='left', on=['Datetime', 'Token'])\n",
    "\n",
    "    # Fill any missing sentiment values with neutral (0)\n",
    "    df['Sentiment'] = df['Sentiment'].fillna(0)\n",
    "        \n",
    "    df['Return'] = df.groupby('Token')['Close'].pct_change().shift(-1)  # Next period return as target\n",
    "    non_features = ['Datetime', 'Token', 'Date', 'Return']\n",
    "    feature_cols = [x for x in list(df.columns) if x not in non_features]\n",
    "    df = df[feature_cols + non_features].dropna()\n",
    "    df.dropna(inplace=True)\n",
    "    \n",
    "    return df, feature_cols\n",
    "\n",
    "# Prepare sequences for LSTM training\n",
    "def prepare_sequences(df, feature_cols, sequence_length=20):\n",
    "    #feature_scaler = RobustScaler()\n",
    "    #return_scaler = RobustScaler()\n",
    "    feature_scaler = MinMaxScaler(feature_range=(0, 1))\n",
    "    return_scaler = MinMaxScaler(feature_range=(0, 1))\n",
    "    \n",
    "    X_scaled = feature_scaler.fit_transform(df[feature_cols])\n",
    "    y_scaled = return_scaler.fit_transform(df[['Return']])\n",
    "    \n",
    "    X_sequences, y_sequences, dates, close_prices = [], [], df['Datetime'].values[sequence_length:], df['Close'].values[sequence_length:]\n",
    "    \n",
    "    for i in range(len(X_scaled) - sequence_length):\n",
    "        X_sequences.append(X_scaled[i:i+sequence_length])\n",
    "        y_sequences.append(y_scaled[i+sequence_length])\n",
    "    \n",
    "    return np.array(X_sequences), np.array(y_sequences), dates, close_prices, return_scaler\n",
    "\n",
    "# Split data into training and testing sets\n",
    "def split_data(X, y, dates, close_prices, train_ratio=0.8):\n",
    "    split_index = int(len(X) * train_ratio)\n",
    "    return X[:split_index], X[split_index:], y[:split_index], y[split_index:], dates[split_index:], close_prices[split_index:]\n",
    "\n",
    "\n",
    "\n",
    "# Function to create model for GridSearchCV\n",
    "def create_lstm_model(input_shape, layers=1, units_1=50, units_2=50, dropout_rate=0.2, learning_rate=0.001, optimizer='adam'):\n",
    "    model = Sequential()  # Add this line to initialize the model\n",
    "    # Explicitly define the input layer\n",
    "    model.add(Input(shape=input_shape))  # Fix: Define input layer separately\n",
    "    # First LSTM layer\n",
    "    if layers == 1:\n",
    "        \n",
    "        model.add(LSTM(units=units_1))\n",
    "    else:\n",
    "        model.add(LSTM(units=units_1, return_sequences=True))\n",
    "        model.add(Dropout(dropout_rate))\n",
    "        \n",
    "        # Additional LSTM layers\n",
    "        for i in range(layers-2):\n",
    "            model.add(LSTM(units=units_2, return_sequences=True))\n",
    "            model.add(Dropout(dropout_rate))\n",
    "        \n",
    "        # Final LSTM layer\n",
    "        model.add(LSTM(units=units_2))\n",
    "\n",
    "    model.add(Dropout(dropout_rate))\n",
    "    model.add(Dense(units=1))  # Output layer\n",
    "    # Convert optimizer string to actual optimizer instance\n",
    "    optimizer_instance = {\n",
    "        'adam': tf.keras.optimizers.Adam(learning_rate=learning_rate),\n",
    "        'rmsprop': tf.keras.optimizers.RMSprop(learning_rate=learning_rate),\n",
    "        'sgd': tf.keras.optimizers.SGD(learning_rate=learning_rate, momentum=0.9)\n",
    "    }[optimizer]\n",
    "    model.compile(optimizer=optimizer_instance,\n",
    "                    loss='mse',\n",
    "                    metrics=['mae'])\n",
    "    return model\n",
    "# Function to train and evaluate the model\n",
    "def train_and_evaluate_model(df, feature_cols, Token):\n",
    "    df_Token = df[df['Token'] == Token]\n",
    "    X, y, dates, close_prices, return_scaler = prepare_sequences(df_Token, feature_cols)\n",
    "\n",
    "    # Train-test split (first 80% train, last 20% test)\n",
    "    X_train, X_test, y_train, y_test, dates_test, close_prices_test = split_data(X, y, dates, close_prices)\n",
    "    \n",
    "    # Hyperparameter tuning\n",
    "    input_shape = (X_train.shape[1], X_train.shape[2])\n",
    "    # Learning rate adjustment and early stopping\n",
    "    callbacks = [\n",
    "        EarlyStopping(monitor='val_loss', patience=5, restore_best_weights=True),\n",
    "        ReduceLROnPlateau(monitor='val_loss', factor=0.5, patience=3, min_lr=1e-6)\n",
    "    ]\n",
    "    if Token == 'BTC':\n",
    "        model = create_lstm_model(input_shape, layers=1, units_1=100, units_2=50, dropout_rate=0.2, learning_rate=0.001, optimizer='adam')\n",
    "        model.fit(X_train, y_train, epochs=50, batch_size=32, validation_data=(X_test, y_test), callbacks=callbacks)\n",
    "    \n",
    "    elif Token == 'ETH':\n",
    "        model = create_lstm_model(input_shape, layers=1, units_1=100, units_2=50, dropout_rate=0.2, learning_rate=0.001, optimizer='adam')\n",
    "        model.fit(X_train, y_train, epochs=50, batch_size=64, validation_data=(X_test, y_test), callbacks=callbacks)\n",
    "    elif Token == 'SOL':\n",
    "        model = create_lstm_model(input_shape, layers=1, units_1=100, units_2=50, dropout_rate=0.4, learning_rate=0.001, optimizer='adam')\n",
    "        model.fit(X_train, y_train, epochs=50, batch_size=16, validation_data=(X_test, y_test), callbacks=callbacks)\n",
    "    elif Token == 'XRP':\n",
    "        model = create_lstm_model(input_shape, layers=1, units_1=100, units_2=50, dropout_rate=0.4, learning_rate=0.001, optimizer='adam')\n",
    "        model.fit(X_train, y_train, epochs=50, batch_size=32, validation_data=(X_test, y_test), callbacks=callbacks)\n",
    "    \n",
    "    # Predict and rescale returns\n",
    "    y_pred_scaled = model.predict(X_test)\n",
    "    y_pred = return_scaler.inverse_transform(y_pred_scaled)\n",
    "    y_test = return_scaler.inverse_transform(y_test.reshape(-1, 1))\n",
    "    \n",
    "    return model, y_test, y_pred, dates_test, close_prices_test \n",
    "\n"
   ]
  },
  {
   "cell_type": "code",
   "execution_count": 7,
   "metadata": {},
   "outputs": [],
   "source": [
    "# Function to log trades and calculate cumulative return\n",
    "def log_trades(dates, actual_returns, predicted_returns, close_prices, Token):\n",
    "    positions = ['LONG' if pred > 0 else 'SHORT' for pred in predicted_returns.flatten()]\n",
    "    '''\n",
    "    fee = 1e-3  # Trading fee (0.1% on Binance)\n",
    "    strategy_returns = np.zeros_like(actual_returns.flatten())\n",
    "\n",
    "    prev_position = None\n",
    "    for i in range(len(actual_returns)):\n",
    "        curr_position = positions[i]\n",
    "\n",
    "        # Determine base return based on position\n",
    "        if curr_position == 'LONG':\n",
    "            ret = actual_returns[i]\n",
    "        elif curr_position == 'SHORT':\n",
    "            ret = -actual_returns[i]\n",
    "        else:\n",
    "            ret = 0\n",
    "\n",
    "        # Apply fee only if position changed\n",
    "        if prev_position is not None and curr_position != prev_position:\n",
    "            ret -= fee\n",
    "\n",
    "        strategy_returns[i] = ret\n",
    "        prev_position = curr_position\n",
    "    \n",
    "    # Compute cumulative return\n",
    "    cumulative_return = np.cumprod(1 + strategy_returns) - 1'\n",
    "    '''\n",
    "    cumulative_return = np.cumprod(1 + (actual_returns * (np.array(positions) == 'LONG') - actual_returns * (np.array(positions) == 'SHORT'))) - 1\n",
    "    trades = pd.DataFrame({\n",
    "        'Date': dates,\n",
    "        'Stock_Close_Price': close_prices,\n",
    "        'Predicted_Return': predicted_returns.flatten(),\n",
    "        'Actual_Return': actual_returns,\n",
    "        'Position': positions,\n",
    "        'Cumulative_Return': cumulative_return,\n",
    "        'Token': Token\n",
    "    })\n",
    "    \n",
    "    return trades \n",
    "\n",
    "# Function to plot cumulative returns for each stock\n",
    "def plot_cumulative_returns(all_trades_df):\n",
    "    plt.figure(figsize=(12, 6))\n",
    "    for Token in all_trades_df['Token'].unique():\n",
    "        df_Token = all_trades_df[all_trades_df['Token'] == Token]\n",
    "        plt.plot(df_Token['Date'], df_Token['Cumulative_Return'], label=Token)\n",
    "    \n",
    "    plt.xlabel('Date')\n",
    "    plt.ylabel('Cumulative Return')\n",
    "    plt.title('Cumulative Returns for Each Cryptocurrency')\n",
    "    plt.legend()\n",
    "    plt.xticks(rotation=45)\n",
    "    plt.show()"
   ]
  },
  {
   "cell_type": "code",
   "execution_count": 8,
   "metadata": {},
   "outputs": [],
   "source": [
    "file_path = \"./data_with_indicators/crypto_prices_1m_with_indicators.csv\"\n",
    "df, feature_cols = load_and_preprocess_data(file_path)"
   ]
  },
  {
   "cell_type": "code",
   "execution_count": 9,
   "metadata": {},
   "outputs": [],
   "source": [
    "\n",
    "all_trades = []\n",
    "unique_Tokens = ['BTC', 'ETH', 'SOL', 'XRP']\n"
   ]
  },
  {
   "cell_type": "code",
   "execution_count": 10,
   "metadata": {},
   "outputs": [
    {
     "name": "stdout",
     "output_type": "stream",
     "text": [
      "Processing BTC...\n",
      "Epoch 1/50\n"
     ]
    },
    {
     "name": "stderr",
     "output_type": "stream",
     "text": [
      "2025-04-01 22:10:14.732553: E tensorflow/core/framework/node_def_util.cc:676] NodeDef mentions attribute use_unbounded_threadpool which is not in the op definition: Op<name=MapDataset; signature=input_dataset:variant, other_arguments: -> handle:variant; attr=f:func; attr=Targuments:list(type),min=0; attr=output_types:list(type),min=1; attr=output_shapes:list(shape),min=1; attr=use_inter_op_parallelism:bool,default=true; attr=preserve_cardinality:bool,default=false; attr=force_synchronous:bool,default=false; attr=metadata:string,default=\"\"> This may be expected if your graph generating binary is newer  than this binary. Unknown attributes will be ignored. NodeDef: {{node ParallelMapDatasetV2/_15}}\n",
      "2025-04-01 22:10:14.733259: E tensorflow/core/framework/node_def_util.cc:676] NodeDef mentions attribute use_unbounded_threadpool which is not in the op definition: Op<name=MapDataset; signature=input_dataset:variant, other_arguments: -> handle:variant; attr=f:func; attr=Targuments:list(type),min=0; attr=output_types:list(type),min=1; attr=output_shapes:list(shape),min=1; attr=use_inter_op_parallelism:bool,default=true; attr=preserve_cardinality:bool,default=false; attr=force_synchronous:bool,default=false; attr=metadata:string,default=\"\"> This may be expected if your graph generating binary is newer  than this binary. Unknown attributes will be ignored. NodeDef: {{node ParallelMapDatasetV2/_15}}\n"
     ]
    },
    {
     "name": "stdout",
     "output_type": "stream",
     "text": [
      "\u001b[1m2950/2951\u001b[0m \u001b[32m━━━━━━━━━━━━━━━━━━━\u001b[0m\u001b[37m━\u001b[0m \u001b[1m0s\u001b[0m 5ms/step - loss: 0.0055 - mae: 0.0440"
     ]
    },
    {
     "name": "stderr",
     "output_type": "stream",
     "text": [
      "2025-04-01 22:10:30.805325: E tensorflow/core/framework/node_def_util.cc:676] NodeDef mentions attribute use_unbounded_threadpool which is not in the op definition: Op<name=MapDataset; signature=input_dataset:variant, other_arguments: -> handle:variant; attr=f:func; attr=Targuments:list(type),min=0; attr=output_types:list(type),min=1; attr=output_shapes:list(shape),min=1; attr=use_inter_op_parallelism:bool,default=true; attr=preserve_cardinality:bool,default=false; attr=force_synchronous:bool,default=false; attr=metadata:string,default=\"\"> This may be expected if your graph generating binary is newer  than this binary. Unknown attributes will be ignored. NodeDef: {{node ParallelMapDatasetV2/_15}}\n",
      "2025-04-01 22:10:30.805705: E tensorflow/core/framework/node_def_util.cc:676] NodeDef mentions attribute use_unbounded_threadpool which is not in the op definition: Op<name=MapDataset; signature=input_dataset:variant, other_arguments: -> handle:variant; attr=f:func; attr=Targuments:list(type),min=0; attr=output_types:list(type),min=1; attr=output_shapes:list(shape),min=1; attr=use_inter_op_parallelism:bool,default=true; attr=preserve_cardinality:bool,default=false; attr=force_synchronous:bool,default=false; attr=metadata:string,default=\"\"> This may be expected if your graph generating binary is newer  than this binary. Unknown attributes will be ignored. NodeDef: {{node ParallelMapDatasetV2/_15}}\n"
     ]
    },
    {
     "name": "stdout",
     "output_type": "stream",
     "text": [
      "\u001b[1m2951/2951\u001b[0m \u001b[32m━━━━━━━━━━━━━━━━━━━━\u001b[0m\u001b[37m\u001b[0m \u001b[1m18s\u001b[0m 6ms/step - loss: 0.0055 - mae: 0.0440 - val_loss: 4.7347e-04 - val_mae: 0.0144 - learning_rate: 0.0010\n",
      "Epoch 2/50\n",
      "\u001b[1m2951/2951\u001b[0m \u001b[32m━━━━━━━━━━━━━━━━━━━━\u001b[0m\u001b[37m\u001b[0m \u001b[1m17s\u001b[0m 6ms/step - loss: 6.6858e-04 - mae: 0.0185 - val_loss: 4.6105e-04 - val_mae: 0.0140 - learning_rate: 0.0010\n",
      "Epoch 3/50\n",
      "\u001b[1m2951/2951\u001b[0m \u001b[32m━━━━━━━━━━━━━━━━━━━━\u001b[0m\u001b[37m\u001b[0m \u001b[1m15s\u001b[0m 5ms/step - loss: 5.1140e-04 - mae: 0.0149 - val_loss: 4.5635e-04 - val_mae: 0.0139 - learning_rate: 0.0010\n",
      "Epoch 4/50\n",
      "\u001b[1m2951/2951\u001b[0m \u001b[32m━━━━━━━━━━━━━━━━━━━━\u001b[0m\u001b[37m\u001b[0m \u001b[1m15s\u001b[0m 5ms/step - loss: 4.8490e-04 - mae: 0.0142 - val_loss: 4.7961e-04 - val_mae: 0.0147 - learning_rate: 0.0010\n",
      "Epoch 5/50\n",
      "\u001b[1m2951/2951\u001b[0m \u001b[32m━━━━━━━━━━━━━━━━━━━━\u001b[0m\u001b[37m\u001b[0m \u001b[1m16s\u001b[0m 5ms/step - loss: 4.7515e-04 - mae: 0.0139 - val_loss: 4.5535e-04 - val_mae: 0.0139 - learning_rate: 5.0000e-04\n",
      "Epoch 6/50\n",
      "\u001b[1m2951/2951\u001b[0m \u001b[32m━━━━━━━━━━━━━━━━━━━━\u001b[0m\u001b[37m\u001b[0m \u001b[1m16s\u001b[0m 5ms/step - loss: 4.7354e-04 - mae: 0.0138 - val_loss: 4.5544e-04 - val_mae: 0.0139 - learning_rate: 5.0000e-04\n",
      "Epoch 7/50\n",
      "\u001b[1m2951/2951\u001b[0m \u001b[32m━━━━━━━━━━━━━━━━━━━━\u001b[0m\u001b[37m\u001b[0m \u001b[1m16s\u001b[0m 5ms/step - loss: 4.7278e-04 - mae: 0.0138 - val_loss: 4.5493e-04 - val_mae: 0.0138 - learning_rate: 5.0000e-04\n",
      "Epoch 8/50\n",
      "\u001b[1m2951/2951\u001b[0m \u001b[32m━━━━━━━━━━━━━━━━━━━━\u001b[0m\u001b[37m\u001b[0m \u001b[1m15s\u001b[0m 5ms/step - loss: 4.7192e-04 - mae: 0.0137 - val_loss: 4.5498e-04 - val_mae: 0.0139 - learning_rate: 2.5000e-04\n",
      "Epoch 9/50\n",
      "\u001b[1m2951/2951\u001b[0m \u001b[32m━━━━━━━━━━━━━━━━━━━━\u001b[0m\u001b[37m\u001b[0m \u001b[1m17s\u001b[0m 6ms/step - loss: 4.7192e-04 - mae: 0.0137 - val_loss: 4.5491e-04 - val_mae: 0.0139 - learning_rate: 2.5000e-04\n",
      "Epoch 10/50\n",
      "\u001b[1m2951/2951\u001b[0m \u001b[32m━━━━━━━━━━━━━━━━━━━━\u001b[0m\u001b[37m\u001b[0m \u001b[1m16s\u001b[0m 5ms/step - loss: 4.7185e-04 - mae: 0.0137 - val_loss: 4.5490e-04 - val_mae: 0.0139 - learning_rate: 2.5000e-04\n",
      "Epoch 11/50\n",
      "\u001b[1m2951/2951\u001b[0m \u001b[32m━━━━━━━━━━━━━━━━━━━━\u001b[0m\u001b[37m\u001b[0m \u001b[1m16s\u001b[0m 5ms/step - loss: 4.7157e-04 - mae: 0.0137 - val_loss: 4.5463e-04 - val_mae: 0.0138 - learning_rate: 1.2500e-04\n",
      "Epoch 12/50\n",
      "\u001b[1m2951/2951\u001b[0m \u001b[32m━━━━━━━━━━━━━━━━━━━━\u001b[0m\u001b[37m\u001b[0m \u001b[1m17s\u001b[0m 6ms/step - loss: 4.7154e-04 - mae: 0.0137 - val_loss: 4.5461e-04 - val_mae: 0.0138 - learning_rate: 1.2500e-04\n",
      "Epoch 13/50\n",
      "\u001b[1m2951/2951\u001b[0m \u001b[32m━━━━━━━━━━━━━━━━━━━━\u001b[0m\u001b[37m\u001b[0m \u001b[1m15s\u001b[0m 5ms/step - loss: 4.7153e-04 - mae: 0.0137 - val_loss: 4.5472e-04 - val_mae: 0.0139 - learning_rate: 1.2500e-04\n",
      "Epoch 14/50\n",
      "\u001b[1m2951/2951\u001b[0m \u001b[32m━━━━━━━━━━━━━━━━━━━━\u001b[0m\u001b[37m\u001b[0m \u001b[1m15s\u001b[0m 5ms/step - loss: 4.7135e-04 - mae: 0.0137 - val_loss: 4.5450e-04 - val_mae: 0.0138 - learning_rate: 6.2500e-05\n",
      "Epoch 15/50\n",
      "\u001b[1m2951/2951\u001b[0m \u001b[32m━━━━━━━━━━━━━━━━━━━━\u001b[0m\u001b[37m\u001b[0m \u001b[1m16s\u001b[0m 5ms/step - loss: 4.7124e-04 - mae: 0.0137 - val_loss: 4.5453e-04 - val_mae: 0.0138 - learning_rate: 6.2500e-05\n",
      "Epoch 16/50\n",
      "\u001b[1m2951/2951\u001b[0m \u001b[32m━━━━━━━━━━━━━━━━━━━━\u001b[0m\u001b[37m\u001b[0m \u001b[1m16s\u001b[0m 5ms/step - loss: 4.7132e-04 - mae: 0.0137 - val_loss: 4.5457e-04 - val_mae: 0.0138 - learning_rate: 6.2500e-05\n",
      "Epoch 17/50\n",
      "\u001b[1m2951/2951\u001b[0m \u001b[32m━━━━━━━━━━━━━━━━━━━━\u001b[0m\u001b[37m\u001b[0m \u001b[1m15s\u001b[0m 5ms/step - loss: 4.7125e-04 - mae: 0.0137 - val_loss: 4.5449e-04 - val_mae: 0.0138 - learning_rate: 3.1250e-05\n",
      "Epoch 18/50\n",
      "\u001b[1m2951/2951\u001b[0m \u001b[32m━━━━━━━━━━━━━━━━━━━━\u001b[0m\u001b[37m\u001b[0m \u001b[1m15s\u001b[0m 5ms/step - loss: 4.7128e-04 - mae: 0.0137 - val_loss: 4.5451e-04 - val_mae: 0.0138 - learning_rate: 3.1250e-05\n",
      "Epoch 19/50\n",
      "\u001b[1m2951/2951\u001b[0m \u001b[32m━━━━━━━━━━━━━━━━━━━━\u001b[0m\u001b[37m\u001b[0m \u001b[1m17s\u001b[0m 6ms/step - loss: 4.7121e-04 - mae: 0.0137 - val_loss: 4.5455e-04 - val_mae: 0.0138 - learning_rate: 3.1250e-05\n",
      "Epoch 20/50\n",
      "\u001b[1m2951/2951\u001b[0m \u001b[32m━━━━━━━━━━━━━━━━━━━━\u001b[0m\u001b[37m\u001b[0m \u001b[1m18s\u001b[0m 6ms/step - loss: 4.7128e-04 - mae: 0.0137 - val_loss: 4.5453e-04 - val_mae: 0.0138 - learning_rate: 1.5625e-05\n",
      "Epoch 21/50\n",
      "\u001b[1m2951/2951\u001b[0m \u001b[32m━━━━━━━━━━━━━━━━━━━━\u001b[0m\u001b[37m\u001b[0m \u001b[1m16s\u001b[0m 6ms/step - loss: 4.7119e-04 - mae: 0.0137 - val_loss: 4.5453e-04 - val_mae: 0.0138 - learning_rate: 1.5625e-05\n",
      "Epoch 22/50\n",
      "\u001b[1m2951/2951\u001b[0m \u001b[32m━━━━━━━━━━━━━━━━━━━━\u001b[0m\u001b[37m\u001b[0m \u001b[1m16s\u001b[0m 5ms/step - loss: 4.7110e-04 - mae: 0.0137 - val_loss: 4.5455e-04 - val_mae: 0.0138 - learning_rate: 1.5625e-05\n",
      "\u001b[1m 58/738\u001b[0m \u001b[32m━\u001b[0m\u001b[37m━━━━━━━━━━━━━━━━━━━\u001b[0m \u001b[1m1s\u001b[0m 2ms/step"
     ]
    },
    {
     "name": "stderr",
     "output_type": "stream",
     "text": [
      "2025-04-01 22:16:03.748338: E tensorflow/core/framework/node_def_util.cc:676] NodeDef mentions attribute use_unbounded_threadpool which is not in the op definition: Op<name=MapDataset; signature=input_dataset:variant, other_arguments: -> handle:variant; attr=f:func; attr=Targuments:list(type),min=0; attr=output_types:list(type),min=1; attr=output_shapes:list(shape),min=1; attr=use_inter_op_parallelism:bool,default=true; attr=preserve_cardinality:bool,default=false; attr=force_synchronous:bool,default=false; attr=metadata:string,default=\"\"> This may be expected if your graph generating binary is newer  than this binary. Unknown attributes will be ignored. NodeDef: {{node ParallelMapDatasetV2/_14}}\n",
      "2025-04-01 22:16:03.748682: E tensorflow/core/framework/node_def_util.cc:676] NodeDef mentions attribute use_unbounded_threadpool which is not in the op definition: Op<name=MapDataset; signature=input_dataset:variant, other_arguments: -> handle:variant; attr=f:func; attr=Targuments:list(type),min=0; attr=output_types:list(type),min=1; attr=output_shapes:list(shape),min=1; attr=use_inter_op_parallelism:bool,default=true; attr=preserve_cardinality:bool,default=false; attr=force_synchronous:bool,default=false; attr=metadata:string,default=\"\"> This may be expected if your graph generating binary is newer  than this binary. Unknown attributes will be ignored. NodeDef: {{node ParallelMapDatasetV2/_14}}\n"
     ]
    },
    {
     "name": "stdout",
     "output_type": "stream",
     "text": [
      "\u001b[1m738/738\u001b[0m \u001b[32m━━━━━━━━━━━━━━━━━━━━\u001b[0m\u001b[37m\u001b[0m \u001b[1m2s\u001b[0m 2ms/step\n"
     ]
    }
   ],
   "source": [
    "Token = 'BTC'\n",
    "print(f\"Processing {Token}...\")\n",
    "b_model, b_y_test, b_y_pred, b_dates_test, b_close_prices_test = train_and_evaluate_model(df, feature_cols, Token)\n"
   ]
  },
  {
   "cell_type": "code",
   "execution_count": 11,
   "metadata": {},
   "outputs": [],
   "source": [
    "btc_trades = log_trades(b_dates_test, b_y_test.flatten(), b_y_pred.flatten(), b_close_prices_test, Token)\n",
    "all_trades.append(btc_trades)"
   ]
  },
  {
   "cell_type": "code",
   "execution_count": 12,
   "metadata": {},
   "outputs": [
    {
     "name": "stdout",
     "output_type": "stream",
     "text": [
      "Processing ETH...\n",
      "Epoch 1/50\n",
      "\u001b[1m1475/1476\u001b[0m \u001b[32m━━━━━━━━━━━━━━━━━━━\u001b[0m\u001b[37m━\u001b[0m \u001b[1m0s\u001b[0m 8ms/step - loss: 0.0061 - mae: 0.0508"
     ]
    },
    {
     "name": "stderr",
     "output_type": "stream",
     "text": [
      "2025-04-01 22:16:18.251249: E tensorflow/core/framework/node_def_util.cc:676] NodeDef mentions attribute use_unbounded_threadpool which is not in the op definition: Op<name=MapDataset; signature=input_dataset:variant, other_arguments: -> handle:variant; attr=f:func; attr=Targuments:list(type),min=0; attr=output_types:list(type),min=1; attr=output_shapes:list(shape),min=1; attr=use_inter_op_parallelism:bool,default=true; attr=preserve_cardinality:bool,default=false; attr=force_synchronous:bool,default=false; attr=metadata:string,default=\"\"> This may be expected if your graph generating binary is newer  than this binary. Unknown attributes will be ignored. NodeDef: {{node ParallelMapDatasetV2/_15}}\n",
      "2025-04-01 22:16:18.251589: E tensorflow/core/framework/node_def_util.cc:676] NodeDef mentions attribute use_unbounded_threadpool which is not in the op definition: Op<name=MapDataset; signature=input_dataset:variant, other_arguments: -> handle:variant; attr=f:func; attr=Targuments:list(type),min=0; attr=output_types:list(type),min=1; attr=output_shapes:list(shape),min=1; attr=use_inter_op_parallelism:bool,default=true; attr=preserve_cardinality:bool,default=false; attr=force_synchronous:bool,default=false; attr=metadata:string,default=\"\"> This may be expected if your graph generating binary is newer  than this binary. Unknown attributes will be ignored. NodeDef: {{node ParallelMapDatasetV2/_15}}\n"
     ]
    },
    {
     "name": "stdout",
     "output_type": "stream",
     "text": [
      "\u001b[1m1476/1476\u001b[0m \u001b[32m━━━━━━━━━━━━━━━━━━━━\u001b[0m\u001b[37m\u001b[0m \u001b[1m13s\u001b[0m 8ms/step - loss: 0.0061 - mae: 0.0507 - val_loss: 3.3406e-04 - val_mae: 0.0167 - learning_rate: 0.0010\n",
      "Epoch 2/50\n",
      "\u001b[1m1476/1476\u001b[0m \u001b[32m━━━━━━━━━━━━━━━━━━━━\u001b[0m\u001b[37m\u001b[0m \u001b[1m12s\u001b[0m 8ms/step - loss: 8.0801e-04 - mae: 0.0225 - val_loss: 2.2254e-04 - val_mae: 0.0132 - learning_rate: 0.0010\n",
      "Epoch 3/50\n",
      "\u001b[1m1476/1476\u001b[0m \u001b[32m━━━━━━━━━━━━━━━━━━━━\u001b[0m\u001b[37m\u001b[0m \u001b[1m12s\u001b[0m 8ms/step - loss: 3.7807e-04 - mae: 0.0152 - val_loss: 1.0249e-04 - val_mae: 0.0078 - learning_rate: 0.0010\n",
      "Epoch 4/50\n",
      "\u001b[1m1476/1476\u001b[0m \u001b[32m━━━━━━━━━━━━━━━━━━━━\u001b[0m\u001b[37m\u001b[0m \u001b[1m11s\u001b[0m 7ms/step - loss: 1.5604e-04 - mae: 0.0094 - val_loss: 7.2375e-05 - val_mae: 0.0060 - learning_rate: 0.0010\n",
      "Epoch 5/50\n",
      "\u001b[1m1476/1476\u001b[0m \u001b[32m━━━━━━━━━━━━━━━━━━━━\u001b[0m\u001b[37m\u001b[0m \u001b[1m10s\u001b[0m 7ms/step - loss: 8.6101e-05 - mae: 0.0064 - val_loss: 7.7699e-05 - val_mae: 0.0064 - learning_rate: 0.0010\n",
      "Epoch 6/50\n",
      "\u001b[1m1476/1476\u001b[0m \u001b[32m━━━━━━━━━━━━━━━━━━━━\u001b[0m\u001b[37m\u001b[0m \u001b[1m11s\u001b[0m 7ms/step - loss: 7.3318e-05 - mae: 0.0056 - val_loss: 8.3283e-05 - val_mae: 0.0067 - learning_rate: 0.0010\n",
      "Epoch 7/50\n",
      "\u001b[1m1476/1476\u001b[0m \u001b[32m━━━━━━━━━━━━━━━━━━━━\u001b[0m\u001b[37m\u001b[0m \u001b[1m11s\u001b[0m 8ms/step - loss: 6.9508e-05 - mae: 0.0054 - val_loss: 7.3342e-05 - val_mae: 0.0061 - learning_rate: 5.0000e-04\n",
      "Epoch 8/50\n",
      "\u001b[1m1476/1476\u001b[0m \u001b[32m━━━━━━━━━━━━━━━━━━━━\u001b[0m\u001b[37m\u001b[0m \u001b[1m12s\u001b[0m 8ms/step - loss: 6.9292e-05 - mae: 0.0054 - val_loss: 7.9772e-05 - val_mae: 0.0065 - learning_rate: 5.0000e-04\n",
      "Epoch 9/50\n",
      "\u001b[1m1476/1476\u001b[0m \u001b[32m━━━━━━━━━━━━━━━━━━━━\u001b[0m\u001b[37m\u001b[0m \u001b[1m11s\u001b[0m 7ms/step - loss: 6.9041e-05 - mae: 0.0053 - val_loss: 9.5763e-05 - val_mae: 0.0075 - learning_rate: 5.0000e-04\n",
      "\u001b[1m 65/738\u001b[0m \u001b[32m━\u001b[0m\u001b[37m━━━━━━━━━━━━━━━━━━━\u001b[0m \u001b[1m1s\u001b[0m 2ms/step"
     ]
    },
    {
     "name": "stderr",
     "output_type": "stream",
     "text": [
      "2025-04-01 22:17:48.068006: E tensorflow/core/framework/node_def_util.cc:676] NodeDef mentions attribute use_unbounded_threadpool which is not in the op definition: Op<name=MapDataset; signature=input_dataset:variant, other_arguments: -> handle:variant; attr=f:func; attr=Targuments:list(type),min=0; attr=output_types:list(type),min=1; attr=output_shapes:list(shape),min=1; attr=use_inter_op_parallelism:bool,default=true; attr=preserve_cardinality:bool,default=false; attr=force_synchronous:bool,default=false; attr=metadata:string,default=\"\"> This may be expected if your graph generating binary is newer  than this binary. Unknown attributes will be ignored. NodeDef: {{node ParallelMapDatasetV2/_14}}\n",
      "2025-04-01 22:17:48.068316: E tensorflow/core/framework/node_def_util.cc:676] NodeDef mentions attribute use_unbounded_threadpool which is not in the op definition: Op<name=MapDataset; signature=input_dataset:variant, other_arguments: -> handle:variant; attr=f:func; attr=Targuments:list(type),min=0; attr=output_types:list(type),min=1; attr=output_shapes:list(shape),min=1; attr=use_inter_op_parallelism:bool,default=true; attr=preserve_cardinality:bool,default=false; attr=force_synchronous:bool,default=false; attr=metadata:string,default=\"\"> This may be expected if your graph generating binary is newer  than this binary. Unknown attributes will be ignored. NodeDef: {{node ParallelMapDatasetV2/_14}}\n"
     ]
    },
    {
     "name": "stdout",
     "output_type": "stream",
     "text": [
      "\u001b[1m738/738\u001b[0m \u001b[32m━━━━━━━━━━━━━━━━━━━━\u001b[0m\u001b[37m\u001b[0m \u001b[1m1s\u001b[0m 2ms/step\n"
     ]
    }
   ],
   "source": [
    "Token = 'ETH'\n",
    "print(f\"Processing {Token}...\")\n",
    "e_model, e_y_test, e_y_pred, e_dates_test, e_close_prices_test = train_and_evaluate_model(df, feature_cols, Token)\n"
   ]
  },
  {
   "cell_type": "code",
   "execution_count": 13,
   "metadata": {},
   "outputs": [],
   "source": [
    "# Log trades and update cumulative returns\n",
    "eth_trades = log_trades(e_dates_test, e_y_test.flatten(), e_y_pred.flatten(), e_close_prices_test, Token)\n",
    "all_trades.append(eth_trades)"
   ]
  },
  {
   "cell_type": "code",
   "execution_count": 14,
   "metadata": {},
   "outputs": [
    {
     "name": "stdout",
     "output_type": "stream",
     "text": [
      "Processing SOL...\n",
      "Epoch 1/50\n",
      "\u001b[1m5893/5902\u001b[0m \u001b[32m━━━━━━━━━━━━━━━━━━━\u001b[0m\u001b[37m━\u001b[0m \u001b[1m0s\u001b[0m 4ms/step - loss: 0.0068 - mae: 0.0468"
     ]
    },
    {
     "name": "stderr",
     "output_type": "stream",
     "text": [
      "2025-04-01 22:18:13.043833: E tensorflow/core/framework/node_def_util.cc:676] NodeDef mentions attribute use_unbounded_threadpool which is not in the op definition: Op<name=MapDataset; signature=input_dataset:variant, other_arguments: -> handle:variant; attr=f:func; attr=Targuments:list(type),min=0; attr=output_types:list(type),min=1; attr=output_shapes:list(shape),min=1; attr=use_inter_op_parallelism:bool,default=true; attr=preserve_cardinality:bool,default=false; attr=force_synchronous:bool,default=false; attr=metadata:string,default=\"\"> This may be expected if your graph generating binary is newer  than this binary. Unknown attributes will be ignored. NodeDef: {{node ParallelMapDatasetV2/_15}}\n",
      "2025-04-01 22:18:13.044157: E tensorflow/core/framework/node_def_util.cc:676] NodeDef mentions attribute use_unbounded_threadpool which is not in the op definition: Op<name=MapDataset; signature=input_dataset:variant, other_arguments: -> handle:variant; attr=f:func; attr=Targuments:list(type),min=0; attr=output_types:list(type),min=1; attr=output_shapes:list(shape),min=1; attr=use_inter_op_parallelism:bool,default=true; attr=preserve_cardinality:bool,default=false; attr=force_synchronous:bool,default=false; attr=metadata:string,default=\"\"> This may be expected if your graph generating binary is newer  than this binary. Unknown attributes will be ignored. NodeDef: {{node ParallelMapDatasetV2/_15}}\n"
     ]
    },
    {
     "name": "stdout",
     "output_type": "stream",
     "text": [
      "\u001b[1m5902/5902\u001b[0m \u001b[32m━━━━━━━━━━━━━━━━━━━━\u001b[0m\u001b[37m\u001b[0m \u001b[1m25s\u001b[0m 4ms/step - loss: 0.0068 - mae: 0.0468 - val_loss: 4.5267e-04 - val_mae: 0.0146 - learning_rate: 0.0010\n",
      "Epoch 2/50\n",
      "\u001b[1m5902/5902\u001b[0m \u001b[32m━━━━━━━━━━━━━━━━━━━━\u001b[0m\u001b[37m\u001b[0m \u001b[1m26s\u001b[0m 4ms/step - loss: 7.4483e-04 - mae: 0.0180 - val_loss: 4.4913e-04 - val_mae: 0.0145 - learning_rate: 0.0010\n",
      "Epoch 3/50\n",
      "\u001b[1m5902/5902\u001b[0m \u001b[32m━━━━━━━━━━━━━━━━━━━━\u001b[0m\u001b[37m\u001b[0m \u001b[1m27s\u001b[0m 5ms/step - loss: 7.1813e-04 - mae: 0.0174 - val_loss: 4.4636e-04 - val_mae: 0.0144 - learning_rate: 0.0010\n",
      "Epoch 4/50\n",
      "\u001b[1m5902/5902\u001b[0m \u001b[32m━━━━━━━━━━━━━━━━━━━━\u001b[0m\u001b[37m\u001b[0m \u001b[1m23s\u001b[0m 4ms/step - loss: 7.1520e-04 - mae: 0.0173 - val_loss: 4.4633e-04 - val_mae: 0.0144 - learning_rate: 0.0010\n",
      "Epoch 5/50\n",
      "\u001b[1m5902/5902\u001b[0m \u001b[32m━━━━━━━━━━━━━━━━━━━━\u001b[0m\u001b[37m\u001b[0m \u001b[1m23s\u001b[0m 4ms/step - loss: 7.1355e-04 - mae: 0.0173 - val_loss: 4.4694e-04 - val_mae: 0.0144 - learning_rate: 5.0000e-04\n",
      "Epoch 6/50\n",
      "\u001b[1m5902/5902\u001b[0m \u001b[32m━━━━━━━━━━━━━━━━━━━━\u001b[0m\u001b[37m\u001b[0m \u001b[1m26s\u001b[0m 4ms/step - loss: 7.1359e-04 - mae: 0.0173 - val_loss: 4.4690e-04 - val_mae: 0.0144 - learning_rate: 5.0000e-04\n",
      "Epoch 7/50\n",
      "\u001b[1m5902/5902\u001b[0m \u001b[32m━━━━━━━━━━━━━━━━━━━━\u001b[0m\u001b[37m\u001b[0m \u001b[1m26s\u001b[0m 4ms/step - loss: 7.1352e-04 - mae: 0.0173 - val_loss: 4.4746e-04 - val_mae: 0.0145 - learning_rate: 5.0000e-04\n",
      "Epoch 8/50\n",
      "\u001b[1m5902/5902\u001b[0m \u001b[32m━━━━━━━━━━━━━━━━━━━━\u001b[0m\u001b[37m\u001b[0m \u001b[1m26s\u001b[0m 4ms/step - loss: 7.1273e-04 - mae: 0.0173 - val_loss: 4.4728e-04 - val_mae: 0.0145 - learning_rate: 2.5000e-04\n",
      "Epoch 9/50\n",
      "\u001b[1m5902/5902\u001b[0m \u001b[32m━━━━━━━━━━━━━━━━━━━━\u001b[0m\u001b[37m\u001b[0m \u001b[1m23s\u001b[0m 4ms/step - loss: 7.1251e-04 - mae: 0.0173 - val_loss: 4.4771e-04 - val_mae: 0.0145 - learning_rate: 2.5000e-04\n",
      "\u001b[1m 46/738\u001b[0m \u001b[32m━\u001b[0m\u001b[37m━━━━━━━━━━━━━━━━━━━\u001b[0m \u001b[1m1s\u001b[0m 2ms/step"
     ]
    },
    {
     "name": "stderr",
     "output_type": "stream",
     "text": [
      "2025-04-01 22:21:35.030422: E tensorflow/core/framework/node_def_util.cc:676] NodeDef mentions attribute use_unbounded_threadpool which is not in the op definition: Op<name=MapDataset; signature=input_dataset:variant, other_arguments: -> handle:variant; attr=f:func; attr=Targuments:list(type),min=0; attr=output_types:list(type),min=1; attr=output_shapes:list(shape),min=1; attr=use_inter_op_parallelism:bool,default=true; attr=preserve_cardinality:bool,default=false; attr=force_synchronous:bool,default=false; attr=metadata:string,default=\"\"> This may be expected if your graph generating binary is newer  than this binary. Unknown attributes will be ignored. NodeDef: {{node ParallelMapDatasetV2/_14}}\n",
      "2025-04-01 22:21:35.030810: E tensorflow/core/framework/node_def_util.cc:676] NodeDef mentions attribute use_unbounded_threadpool which is not in the op definition: Op<name=MapDataset; signature=input_dataset:variant, other_arguments: -> handle:variant; attr=f:func; attr=Targuments:list(type),min=0; attr=output_types:list(type),min=1; attr=output_shapes:list(shape),min=1; attr=use_inter_op_parallelism:bool,default=true; attr=preserve_cardinality:bool,default=false; attr=force_synchronous:bool,default=false; attr=metadata:string,default=\"\"> This may be expected if your graph generating binary is newer  than this binary. Unknown attributes will be ignored. NodeDef: {{node ParallelMapDatasetV2/_14}}\n"
     ]
    },
    {
     "name": "stdout",
     "output_type": "stream",
     "text": [
      "\u001b[1m738/738\u001b[0m \u001b[32m━━━━━━━━━━━━━━━━━━━━\u001b[0m\u001b[37m\u001b[0m \u001b[1m2s\u001b[0m 2ms/step\n"
     ]
    }
   ],
   "source": [
    "Token = 'SOL'\n",
    "print(f\"Processing {Token}...\")\n",
    "s_model, s_y_test, s_y_pred, s_dates_test, s_close_prices_test = train_and_evaluate_model(df, feature_cols, Token)\n"
   ]
  },
  {
   "cell_type": "code",
   "execution_count": 15,
   "metadata": {},
   "outputs": [],
   "source": [
    "# Log trades and update cumulative returns\n",
    "sol_trades = log_trades(s_dates_test, s_y_test.flatten(), s_y_pred.flatten(), s_close_prices_test, Token)\n",
    "all_trades.append(sol_trades)"
   ]
  },
  {
   "cell_type": "code",
   "execution_count": 16,
   "metadata": {},
   "outputs": [
    {
     "name": "stdout",
     "output_type": "stream",
     "text": [
      "Processing XRP...\n",
      "Epoch 1/50\n",
      "\u001b[1m2943/2951\u001b[0m \u001b[32m━━━━━━━━━━━━━━━━━━━\u001b[0m\u001b[37m━\u001b[0m \u001b[1m0s\u001b[0m 6ms/step - loss: 0.0086 - mae: 0.0536"
     ]
    },
    {
     "name": "stderr",
     "output_type": "stream",
     "text": [
      "2025-04-01 22:21:55.128362: E tensorflow/core/framework/node_def_util.cc:676] NodeDef mentions attribute use_unbounded_threadpool which is not in the op definition: Op<name=MapDataset; signature=input_dataset:variant, other_arguments: -> handle:variant; attr=f:func; attr=Targuments:list(type),min=0; attr=output_types:list(type),min=1; attr=output_shapes:list(shape),min=1; attr=use_inter_op_parallelism:bool,default=true; attr=preserve_cardinality:bool,default=false; attr=force_synchronous:bool,default=false; attr=metadata:string,default=\"\"> This may be expected if your graph generating binary is newer  than this binary. Unknown attributes will be ignored. NodeDef: {{node ParallelMapDatasetV2/_15}}\n",
      "2025-04-01 22:21:55.128703: E tensorflow/core/framework/node_def_util.cc:676] NodeDef mentions attribute use_unbounded_threadpool which is not in the op definition: Op<name=MapDataset; signature=input_dataset:variant, other_arguments: -> handle:variant; attr=f:func; attr=Targuments:list(type),min=0; attr=output_types:list(type),min=1; attr=output_shapes:list(shape),min=1; attr=use_inter_op_parallelism:bool,default=true; attr=preserve_cardinality:bool,default=false; attr=force_synchronous:bool,default=false; attr=metadata:string,default=\"\"> This may be expected if your graph generating binary is newer  than this binary. Unknown attributes will be ignored. NodeDef: {{node ParallelMapDatasetV2/_15}}\n"
     ]
    },
    {
     "name": "stdout",
     "output_type": "stream",
     "text": [
      "\u001b[1m2951/2951\u001b[0m \u001b[32m━━━━━━━━━━━━━━━━━━━━\u001b[0m\u001b[37m\u001b[0m \u001b[1m19s\u001b[0m 6ms/step - loss: 0.0086 - mae: 0.0535 - val_loss: 1.1023e-04 - val_mae: 0.0070 - learning_rate: 0.0010\n",
      "Epoch 2/50\n",
      "\u001b[1m2951/2951\u001b[0m \u001b[32m━━━━━━━━━━━━━━━━━━━━\u001b[0m\u001b[37m\u001b[0m \u001b[1m15s\u001b[0m 5ms/step - loss: 2.9843e-04 - mae: 0.0125 - val_loss: 1.3113e-04 - val_mae: 0.0081 - learning_rate: 0.0010\n",
      "Epoch 3/50\n",
      "\u001b[1m2951/2951\u001b[0m \u001b[32m━━━━━━━━━━━━━━━━━━━━\u001b[0m\u001b[37m\u001b[0m \u001b[1m15s\u001b[0m 5ms/step - loss: 1.8021e-04 - mae: 0.0088 - val_loss: 1.0802e-04 - val_mae: 0.0068 - learning_rate: 0.0010\n",
      "Epoch 4/50\n",
      "\u001b[1m2951/2951\u001b[0m \u001b[32m━━━━━━━━━━━━━━━━━━━━\u001b[0m\u001b[37m\u001b[0m \u001b[1m17s\u001b[0m 6ms/step - loss: 1.7291e-04 - mae: 0.0085 - val_loss: 1.2697e-04 - val_mae: 0.0079 - learning_rate: 0.0010\n",
      "Epoch 5/50\n",
      "\u001b[1m2951/2951\u001b[0m \u001b[32m━━━━━━━━━━━━━━━━━━━━\u001b[0m\u001b[37m\u001b[0m \u001b[1m16s\u001b[0m 5ms/step - loss: 1.6702e-04 - mae: 0.0082 - val_loss: 1.1475e-04 - val_mae: 0.0072 - learning_rate: 5.0000e-04\n",
      "Epoch 6/50\n",
      "\u001b[1m2951/2951\u001b[0m \u001b[32m━━━━━━━━━━━━━━━━━━━━\u001b[0m\u001b[37m\u001b[0m \u001b[1m15s\u001b[0m 5ms/step - loss: 1.6599e-04 - mae: 0.0081 - val_loss: 1.1023e-04 - val_mae: 0.0069 - learning_rate: 5.0000e-04\n",
      "Epoch 7/50\n",
      "\u001b[1m2951/2951\u001b[0m \u001b[32m━━━━━━━━━━━━━━━━━━━━\u001b[0m\u001b[37m\u001b[0m \u001b[1m15s\u001b[0m 5ms/step - loss: 1.6531e-04 - mae: 0.0081 - val_loss: 1.0867e-04 - val_mae: 0.0069 - learning_rate: 5.0000e-04\n",
      "Epoch 8/50\n",
      "\u001b[1m2951/2951\u001b[0m \u001b[32m━━━━━━━━━━━━━━━━━━━━\u001b[0m\u001b[37m\u001b[0m \u001b[1m15s\u001b[0m 5ms/step - loss: 1.6461e-04 - mae: 0.0081 - val_loss: 1.0808e-04 - val_mae: 0.0068 - learning_rate: 2.5000e-04\n",
      "\u001b[1m 60/738\u001b[0m \u001b[32m━\u001b[0m\u001b[37m━━━━━━━━━━━━━━━━━━━\u001b[0m \u001b[1m1s\u001b[0m 2ms/step"
     ]
    },
    {
     "name": "stderr",
     "output_type": "stream",
     "text": [
      "2025-04-01 22:23:42.860105: E tensorflow/core/framework/node_def_util.cc:676] NodeDef mentions attribute use_unbounded_threadpool which is not in the op definition: Op<name=MapDataset; signature=input_dataset:variant, other_arguments: -> handle:variant; attr=f:func; attr=Targuments:list(type),min=0; attr=output_types:list(type),min=1; attr=output_shapes:list(shape),min=1; attr=use_inter_op_parallelism:bool,default=true; attr=preserve_cardinality:bool,default=false; attr=force_synchronous:bool,default=false; attr=metadata:string,default=\"\"> This may be expected if your graph generating binary is newer  than this binary. Unknown attributes will be ignored. NodeDef: {{node ParallelMapDatasetV2/_14}}\n",
      "2025-04-01 22:23:42.860422: E tensorflow/core/framework/node_def_util.cc:676] NodeDef mentions attribute use_unbounded_threadpool which is not in the op definition: Op<name=MapDataset; signature=input_dataset:variant, other_arguments: -> handle:variant; attr=f:func; attr=Targuments:list(type),min=0; attr=output_types:list(type),min=1; attr=output_shapes:list(shape),min=1; attr=use_inter_op_parallelism:bool,default=true; attr=preserve_cardinality:bool,default=false; attr=force_synchronous:bool,default=false; attr=metadata:string,default=\"\"> This may be expected if your graph generating binary is newer  than this binary. Unknown attributes will be ignored. NodeDef: {{node ParallelMapDatasetV2/_14}}\n"
     ]
    },
    {
     "name": "stdout",
     "output_type": "stream",
     "text": [
      "\u001b[1m738/738\u001b[0m \u001b[32m━━━━━━━━━━━━━━━━━━━━\u001b[0m\u001b[37m\u001b[0m \u001b[1m2s\u001b[0m 2ms/step\n"
     ]
    }
   ],
   "source": [
    "Token = 'XRP'\n",
    "print(f\"Processing {Token}...\")\n",
    "xrp_model, xrp_y_test, xrp_y_pred, xrp_dates_test, xrp_close_prices_test = train_and_evaluate_model(df, feature_cols, Token)\n"
   ]
  },
  {
   "cell_type": "code",
   "execution_count": 17,
   "metadata": {},
   "outputs": [],
   "source": [
    "# Log trades and update cumulative returns\n",
    "xrp_trades = log_trades(xrp_dates_test, xrp_y_test.flatten(), xrp_y_pred.flatten(), xrp_close_prices_test, Token)\n",
    "all_trades.append(xrp_trades)"
   ]
  },
  {
   "cell_type": "code",
   "execution_count": 18,
   "metadata": {},
   "outputs": [],
   "source": [
    "all_trades = [btc_trades, eth_trades, sol_trades, xrp_trades]"
   ]
  },
  {
   "cell_type": "code",
   "execution_count": 19,
   "metadata": {},
   "outputs": [
    {
     "data": {
      "image/png": "[encoded data removed]",
      "text/plain": [
       "<Figure size 1200x600 with 1 Axes>"
      ]
     },
     "metadata": {},
     "output_type": "display_data"
    }
   ],
   "source": [
    "\n",
    "# Combine all trades into a single DataFrame\n",
    "all_trades_df = pd.concat(all_trades, ignore_index=True)\n",
    "\n",
    "# Plot cumulative returns for all stocks\n",
    "plot_cumulative_returns(all_trades_df)"
   ]
  },
  {
   "cell_type": "code",
   "execution_count": 20,
   "metadata": {},
   "outputs": [],
   "source": [
    "all_trades_df['Rolling_Risk'] = all_trades_df.groupby('Token')['Actual_Return'].transform(lambda x: x.rolling(window=10).std())\n",
    "all_trades_df['Rolling_Average'] = all_trades_df.groupby('Token')['Actual_Return'].transform(lambda x: x.rolling(window=10).mean())\n"
   ]
  },
  {
   "cell_type": "code",
   "execution_count": 21,
   "metadata": {},
   "outputs": [],
   "source": [
    "all_trades_df.to_csv(\"returns.csv\")"
   ]
  },
  {
   "cell_type": "code",
   "execution_count": 22,
   "metadata": {},
   "outputs": [
    {
     "data": {
      "image/png": "[encoded data removed]",
      "text/plain": [
       "<Figure size 1200x600 with 1 Axes>"
      ]
     },
     "metadata": {},
     "output_type": "display_data"
    }
   ],
   "source": [
    "# Reload the dataset\n",
    "file_path = \"./data_with_indicators/crypto_prices_1m_with_indicators.csv\"\n",
    "df, feature_cols = load_and_preprocess_data(file_path)\n",
    "\n",
    "# Function to plot Buy & Hold strategy for the test period (last 20% of the dataset)\n",
    "def plot_buy_and_hold_test_period(df):\n",
    "    plt.figure(figsize=(12, 6))\n",
    "\n",
    "    for Token in df['Token'].unique():\n",
    "        df_Token = df[df['Token'] == Token].sort_values('Datetime')\n",
    "\n",
    "        # Split data (80% train, 20% test)\n",
    "        split_index = int(len(df_Token) * 0.8)\n",
    "        df_test = df_Token.iloc[split_index:]  # Select last 20%\n",
    "\n",
    "        if df_test.empty:\n",
    "            continue  # Skip if no test data\n",
    "\n",
    "        initial_price = df_test['Close'].iloc[0]\n",
    "        buy_and_hold_returns = df_test['Close'] / initial_price  # Normalize returns\n",
    "\n",
    "        plt.plot(df_test['Datetime'], buy_and_hold_returns, label=f'Buy & Hold {Token}')\n",
    "\n",
    "    plt.xlabel('Date')\n",
    "    plt.ylabel('Cumulative Return')\n",
    "    plt.title('Buy & Hold Strategy (Test Period)')\n",
    "    plt.legend()\n",
    "    plt.xticks(rotation=45)\n",
    "    plt.show()\n",
    "\n",
    "# Plot the Buy & Hold strategy for the test period\n",
    "plot_buy_and_hold_test_period(df) "
   ]
  },
  {
   "cell_type": "code",
   "execution_count": 23,
   "metadata": {},
   "outputs": [
    {
     "name": "stdout",
     "output_type": "stream",
     "text": [
      "  Token  Buy & Hold Return (%)  Trading Strategy Return (%)\n",
      "0   BTC                  -1.00                         2.16\n",
      "1   ETH                  -5.83                         5.65\n",
      "2   SOL                  -6.45                        11.55\n",
      "3   XRP                   1.36                         6.83\n"
     ]
    }
   ],
   "source": [
    "# Function to calculate returns for both strategies during the test period\n",
    "def calculate_strategy_returns(df, all_trades_df):\n",
    "    results = []\n",
    "\n",
    "    for Token in df['Token'].unique():\n",
    "        df_Token = df[df['Token'] == Token].sort_values('Datetime')\n",
    "\n",
    "        # Split data (80% train, 20% test)\n",
    "        split_index = int(len(df_Token) * 0.8)\n",
    "        df_test = df_Token.iloc[split_index:]  # Select last 20%\n",
    "\n",
    "        if df_test.empty:\n",
    "            continue  # Skip if no test data\n",
    "\n",
    "        # Buy & Hold Strategy Return\n",
    "        initial_price = df_test['Close'].iloc[0]\n",
    "        final_price = df_test['Close'].iloc[-1]\n",
    "        buy_and_hold_return = (final_price / initial_price) - 1\n",
    "\n",
    "        # Trading Strategy Return (from the logged trades)\n",
    "        df_trades = all_trades_df[all_trades_df['Token'] == Token]\n",
    "        strategy_return = df_trades['Cumulative_Return'].iloc[-1] if not df_trades.empty else None\n",
    "\n",
    "        results.append({\n",
    "            \"Token\": Token,\n",
    "            \"Buy & Hold Return (%)\": round(buy_and_hold_return * 100, 2),\n",
    "            \"Trading Strategy Return (%)\": round(strategy_return * 100, 2) if strategy_return is not None else None\n",
    "        })\n",
    "\n",
    "    return pd.DataFrame(results)\n",
    "\n",
    "# Check if trading results exist\n",
    "if 'all_trades_df' in globals():\n",
    "    strategy_returns_df = calculate_strategy_returns(df, all_trades_df)\n",
    "    print(strategy_returns_df)\n",
    "else:\n",
    "    print(\"Trading strategy results are missing. Please re-run the trading model first.\")\n",
    "\n",
    "\n"
   ]
  },
  {
   "cell_type": "code",
   "execution_count": 24,
   "metadata": {},
   "outputs": [],
   "source": [
    "# Sensitivity analysis function\n",
    "def run_sensitivity_analysis(df):\n",
    "    \"\"\"\n",
    "    Perform sensitivity analysis by adjusting the predicted returns and evaluating final cumulative return.\n",
    "    \"\"\"\n",
    "    sensitivity_factors = [0.5, 0.8, 0.9, 1.0, 1.1, 1.2, 1.5]\n",
    "    results = []\n",
    "\n",
    "    for factor in sensitivity_factors:\n",
    "        df_temp = df.copy()\n",
    "        df_temp['Adj_Predicted_Return'] = df_temp['Predicted_Return'] * factor\n",
    "\n",
    "        positions = np.where(df_temp['Adj_Predicted_Return'] > 0, 'LONG', 'SHORT')\n",
    "        strategy_returns = np.zeros_like(df_temp['Actual_Return'])\n",
    "\n",
    "        for i in range(len(df_temp)):\n",
    "            curr_position = positions[i]\n",
    "            actual_ret = df_temp.loc[i, 'Actual_Return']\n",
    "\n",
    "            if curr_position == 'LONG':\n",
    "                ret = actual_ret\n",
    "            elif curr_position == 'SHORT':\n",
    "                ret = -actual_ret\n",
    "            else:\n",
    "                ret = 0\n",
    "\n",
    "            strategy_returns[i] = ret\n",
    "\n",
    "        cumulative_return = np.cumprod(1 + strategy_returns)[-1]\n",
    "        results.append((factor, cumulative_return))\n",
    "\n",
    "    df_sensitivity = pd.DataFrame(results, columns=[\"Adjustment_Factor\", \"Final_Cumulative_Return\"])\n",
    "    return df_sensitivity"
   ]
  },
  {
   "cell_type": "code",
   "execution_count": 25,
   "metadata": {},
   "outputs": [
    {
     "data": {
      "text/html": [
       "<div>\n",
       "<style scoped>\n",
       "    .dataframe tbody tr th:only-of-type {\n",
       "        vertical-align: middle;\n",
       "    }\n",
       "\n",
       "    .dataframe tbody tr th {\n",
       "        vertical-align: top;\n",
       "    }\n",
       "\n",
       "    .dataframe thead th {\n",
       "        text-align: right;\n",
       "    }\n",
       "</style>\n",
       "<table border=\"1\" class=\"dataframe\">\n",
       "  <thead>\n",
       "    <tr style=\"text-align: right;\">\n",
       "      <th></th>\n",
       "      <th>Adjustment_Factor</th>\n",
       "      <th>Final_Cumulative_Return</th>\n",
       "    </tr>\n",
       "  </thead>\n",
       "  <tbody>\n",
       "    <tr>\n",
       "      <th>0</th>\n",
       "      <td>0.5</td>\n",
       "      <td>1.021554</td>\n",
       "    </tr>\n",
       "    <tr>\n",
       "      <th>1</th>\n",
       "      <td>0.8</td>\n",
       "      <td>1.021554</td>\n",
       "    </tr>\n",
       "    <tr>\n",
       "      <th>2</th>\n",
       "      <td>0.9</td>\n",
       "      <td>1.021554</td>\n",
       "    </tr>\n",
       "    <tr>\n",
       "      <th>3</th>\n",
       "      <td>1.0</td>\n",
       "      <td>1.021554</td>\n",
       "    </tr>\n",
       "    <tr>\n",
       "      <th>4</th>\n",
       "      <td>1.1</td>\n",
       "      <td>1.021554</td>\n",
       "    </tr>\n",
       "    <tr>\n",
       "      <th>5</th>\n",
       "      <td>1.2</td>\n",
       "      <td>1.021554</td>\n",
       "    </tr>\n",
       "    <tr>\n",
       "      <th>6</th>\n",
       "      <td>1.5</td>\n",
       "      <td>1.021554</td>\n",
       "    </tr>\n",
       "  </tbody>\n",
       "</table>\n",
       "</div>"
      ],
      "text/plain": [
       "   Adjustment_Factor  Final_Cumulative_Return\n",
       "0                0.5                 1.021554\n",
       "1                0.8                 1.021554\n",
       "2                0.9                 1.021554\n",
       "3                1.0                 1.021554\n",
       "4                1.1                 1.021554\n",
       "5                1.2                 1.021554\n",
       "6                1.5                 1.021554"
      ]
     },
     "execution_count": 25,
     "metadata": {},
     "output_type": "execute_result"
    }
   ],
   "source": [
    "btc_sensitivity = run_sensitivity_analysis(btc_trades)\n",
    "btc_sensitivity"
   ]
  },
  {
   "cell_type": "code",
   "execution_count": 26,
   "metadata": {},
   "outputs": [
    {
     "data": {
      "text/html": [
       "<div>\n",
       "<style scoped>\n",
       "    .dataframe tbody tr th:only-of-type {\n",
       "        vertical-align: middle;\n",
       "    }\n",
       "\n",
       "    .dataframe tbody tr th {\n",
       "        vertical-align: top;\n",
       "    }\n",
       "\n",
       "    .dataframe thead th {\n",
       "        text-align: right;\n",
       "    }\n",
       "</style>\n",
       "<table border=\"1\" class=\"dataframe\">\n",
       "  <thead>\n",
       "    <tr style=\"text-align: right;\">\n",
       "      <th></th>\n",
       "      <th>Adjustment_Factor</th>\n",
       "      <th>Final_Cumulative_Return</th>\n",
       "    </tr>\n",
       "  </thead>\n",
       "  <tbody>\n",
       "    <tr>\n",
       "      <th>0</th>\n",
       "      <td>0.5</td>\n",
       "      <td>1.056515</td>\n",
       "    </tr>\n",
       "    <tr>\n",
       "      <th>1</th>\n",
       "      <td>0.8</td>\n",
       "      <td>1.056515</td>\n",
       "    </tr>\n",
       "    <tr>\n",
       "      <th>2</th>\n",
       "      <td>0.9</td>\n",
       "      <td>1.056515</td>\n",
       "    </tr>\n",
       "    <tr>\n",
       "      <th>3</th>\n",
       "      <td>1.0</td>\n",
       "      <td>1.056515</td>\n",
       "    </tr>\n",
       "    <tr>\n",
       "      <th>4</th>\n",
       "      <td>1.1</td>\n",
       "      <td>1.056515</td>\n",
       "    </tr>\n",
       "    <tr>\n",
       "      <th>5</th>\n",
       "      <td>1.2</td>\n",
       "      <td>1.056515</td>\n",
       "    </tr>\n",
       "    <tr>\n",
       "      <th>6</th>\n",
       "      <td>1.5</td>\n",
       "      <td>1.056515</td>\n",
       "    </tr>\n",
       "  </tbody>\n",
       "</table>\n",
       "</div>"
      ],
      "text/plain": [
       "   Adjustment_Factor  Final_Cumulative_Return\n",
       "0                0.5                 1.056515\n",
       "1                0.8                 1.056515\n",
       "2                0.9                 1.056515\n",
       "3                1.0                 1.056515\n",
       "4                1.1                 1.056515\n",
       "5                1.2                 1.056515\n",
       "6                1.5                 1.056515"
      ]
     },
     "execution_count": 26,
     "metadata": {},
     "output_type": "execute_result"
    }
   ],
   "source": [
    "eth_sensitivity = run_sensitivity_analysis(eth_trades)\n",
    "eth_sensitivity"
   ]
  },
  {
   "cell_type": "code",
   "execution_count": 27,
   "metadata": {},
   "outputs": [
    {
     "data": {
      "text/html": [
       "<div>\n",
       "<style scoped>\n",
       "    .dataframe tbody tr th:only-of-type {\n",
       "        vertical-align: middle;\n",
       "    }\n",
       "\n",
       "    .dataframe tbody tr th {\n",
       "        vertical-align: top;\n",
       "    }\n",
       "\n",
       "    .dataframe thead th {\n",
       "        text-align: right;\n",
       "    }\n",
       "</style>\n",
       "<table border=\"1\" class=\"dataframe\">\n",
       "  <thead>\n",
       "    <tr style=\"text-align: right;\">\n",
       "      <th></th>\n",
       "      <th>Adjustment_Factor</th>\n",
       "      <th>Final_Cumulative_Return</th>\n",
       "    </tr>\n",
       "  </thead>\n",
       "  <tbody>\n",
       "    <tr>\n",
       "      <th>0</th>\n",
       "      <td>0.5</td>\n",
       "      <td>1.115499</td>\n",
       "    </tr>\n",
       "    <tr>\n",
       "      <th>1</th>\n",
       "      <td>0.8</td>\n",
       "      <td>1.115499</td>\n",
       "    </tr>\n",
       "    <tr>\n",
       "      <th>2</th>\n",
       "      <td>0.9</td>\n",
       "      <td>1.115499</td>\n",
       "    </tr>\n",
       "    <tr>\n",
       "      <th>3</th>\n",
       "      <td>1.0</td>\n",
       "      <td>1.115499</td>\n",
       "    </tr>\n",
       "    <tr>\n",
       "      <th>4</th>\n",
       "      <td>1.1</td>\n",
       "      <td>1.115499</td>\n",
       "    </tr>\n",
       "    <tr>\n",
       "      <th>5</th>\n",
       "      <td>1.2</td>\n",
       "      <td>1.115499</td>\n",
       "    </tr>\n",
       "    <tr>\n",
       "      <th>6</th>\n",
       "      <td>1.5</td>\n",
       "      <td>1.115499</td>\n",
       "    </tr>\n",
       "  </tbody>\n",
       "</table>\n",
       "</div>"
      ],
      "text/plain": [
       "   Adjustment_Factor  Final_Cumulative_Return\n",
       "0                0.5                 1.115499\n",
       "1                0.8                 1.115499\n",
       "2                0.9                 1.115499\n",
       "3                1.0                 1.115499\n",
       "4                1.1                 1.115499\n",
       "5                1.2                 1.115499\n",
       "6                1.5                 1.115499"
      ]
     },
     "execution_count": 27,
     "metadata": {},
     "output_type": "execute_result"
    }
   ],
   "source": [
    "sol_sensitivity = run_sensitivity_analysis(sol_trades)\n",
    "sol_sensitivity"
   ]
  },
  {
   "cell_type": "code",
   "execution_count": 28,
   "metadata": {},
   "outputs": [
    {
     "data": {
      "text/html": [
       "<div>\n",
       "<style scoped>\n",
       "    .dataframe tbody tr th:only-of-type {\n",
       "        vertical-align: middle;\n",
       "    }\n",
       "\n",
       "    .dataframe tbody tr th {\n",
       "        vertical-align: top;\n",
       "    }\n",
       "\n",
       "    .dataframe thead th {\n",
       "        text-align: right;\n",
       "    }\n",
       "</style>\n",
       "<table border=\"1\" class=\"dataframe\">\n",
       "  <thead>\n",
       "    <tr style=\"text-align: right;\">\n",
       "      <th></th>\n",
       "      <th>Adjustment_Factor</th>\n",
       "      <th>Final_Cumulative_Return</th>\n",
       "    </tr>\n",
       "  </thead>\n",
       "  <tbody>\n",
       "    <tr>\n",
       "      <th>0</th>\n",
       "      <td>0.5</td>\n",
       "      <td>1.068258</td>\n",
       "    </tr>\n",
       "    <tr>\n",
       "      <th>1</th>\n",
       "      <td>0.8</td>\n",
       "      <td>1.068258</td>\n",
       "    </tr>\n",
       "    <tr>\n",
       "      <th>2</th>\n",
       "      <td>0.9</td>\n",
       "      <td>1.068258</td>\n",
       "    </tr>\n",
       "    <tr>\n",
       "      <th>3</th>\n",
       "      <td>1.0</td>\n",
       "      <td>1.068258</td>\n",
       "    </tr>\n",
       "    <tr>\n",
       "      <th>4</th>\n",
       "      <td>1.1</td>\n",
       "      <td>1.068258</td>\n",
       "    </tr>\n",
       "    <tr>\n",
       "      <th>5</th>\n",
       "      <td>1.2</td>\n",
       "      <td>1.068258</td>\n",
       "    </tr>\n",
       "    <tr>\n",
       "      <th>6</th>\n",
       "      <td>1.5</td>\n",
       "      <td>1.068258</td>\n",
       "    </tr>\n",
       "  </tbody>\n",
       "</table>\n",
       "</div>"
      ],
      "text/plain": [
       "   Adjustment_Factor  Final_Cumulative_Return\n",
       "0                0.5                 1.068258\n",
       "1                0.8                 1.068258\n",
       "2                0.9                 1.068258\n",
       "3                1.0                 1.068258\n",
       "4                1.1                 1.068258\n",
       "5                1.2                 1.068258\n",
       "6                1.5                 1.068258"
      ]
     },
     "execution_count": 28,
     "metadata": {},
     "output_type": "execute_result"
    }
   ],
   "source": [
    "xrp_sensitivity = run_sensitivity_analysis(xrp_trades)\n",
    "xrp_sensitivity"
   ]
  },
  {
   "cell_type": "code",
   "execution_count": 29,
   "metadata": {},
   "outputs": [],
   "source": [
    "# Stress testing function\n",
    "def run_stress_testing(df):\n",
    "    \"\"\"\n",
    "    Perform stress tests by simulating various market shock scenarios.\n",
    "    \"\"\"\n",
    "    scenarios = {\n",
    "        'Crash': df['Actual_Return'] - 0.00005,  \n",
    "        'Volatility_Spike': df['Actual_Return'] + np.random.normal(0, 0.00002, size=len(df)),\n",
    "        'Prediction_Inverted': -df['Predicted_Return'],\n",
    "        'Zero_Prediction': np.zeros_like(df['Predicted_Return']), \n",
    "        'Normal': df['Actual_Return']\n",
    "    }\n",
    "\n",
    "    results = []\n",
    "    for scenario_name, shock in scenarios.items():\n",
    "        df_temp = df.copy()\n",
    "\n",
    "        if 'Prediction' in scenario_name:\n",
    "            df_temp['Adj_Predicted_Return'] = shock\n",
    "        else:\n",
    "            df_temp['Adj_Predicted_Return'] = df_temp['Predicted_Return']\n",
    "            df_temp['Actual_Return'] = shock\n",
    "\n",
    "        positions = np.where(df_temp['Adj_Predicted_Return'] > 0, 'LONG', 'SHORT')\n",
    "        strategy_returns = np.zeros_like(df_temp['Actual_Return'])\n",
    "\n",
    "        for i in range(len(df_temp)):\n",
    "            curr_position = positions[i]\n",
    "            actual_ret = df_temp.loc[i, 'Actual_Return']\n",
    "\n",
    "            if curr_position == 'LONG':\n",
    "                ret = actual_ret\n",
    "            elif curr_position == 'SHORT':\n",
    "                ret = -actual_ret\n",
    "            else:\n",
    "                ret = 0\n",
    "\n",
    "            strategy_returns[i] = ret\n",
    "\n",
    "        cumulative_return = np.cumprod(1 + strategy_returns)[-1]\n",
    "        results.append((scenario_name, cumulative_return))\n",
    "\n",
    "    df_stress = pd.DataFrame(results, columns=[\"Scenario\", \"Final_Cumulative_Return\"])\n",
    "    return df_stress "
   ]
  },
  {
   "cell_type": "code",
   "execution_count": 30,
   "metadata": {},
   "outputs": [
    {
     "data": {
      "text/html": [
       "<div>\n",
       "<style scoped>\n",
       "    .dataframe tbody tr th:only-of-type {\n",
       "        vertical-align: middle;\n",
       "    }\n",
       "\n",
       "    .dataframe tbody tr th {\n",
       "        vertical-align: top;\n",
       "    }\n",
       "\n",
       "    .dataframe thead th {\n",
       "        text-align: right;\n",
       "    }\n",
       "</style>\n",
       "<table border=\"1\" class=\"dataframe\">\n",
       "  <thead>\n",
       "    <tr style=\"text-align: right;\">\n",
       "      <th></th>\n",
       "      <th>Scenario</th>\n",
       "      <th>Final_Cumulative_Return</th>\n",
       "    </tr>\n",
       "  </thead>\n",
       "  <tbody>\n",
       "    <tr>\n",
       "      <th>0</th>\n",
       "      <td>Crash</td>\n",
       "      <td>1.677231</td>\n",
       "    </tr>\n",
       "    <tr>\n",
       "      <th>1</th>\n",
       "      <td>Volatility_Spike</td>\n",
       "      <td>1.024924</td>\n",
       "    </tr>\n",
       "    <tr>\n",
       "      <th>2</th>\n",
       "      <td>Prediction_Inverted</td>\n",
       "      <td>0.964592</td>\n",
       "    </tr>\n",
       "    <tr>\n",
       "      <th>3</th>\n",
       "      <td>Zero_Prediction</td>\n",
       "      <td>1.017906</td>\n",
       "    </tr>\n",
       "    <tr>\n",
       "      <th>4</th>\n",
       "      <td>Normal</td>\n",
       "      <td>1.021554</td>\n",
       "    </tr>\n",
       "  </tbody>\n",
       "</table>\n",
       "</div>"
      ],
      "text/plain": [
       "              Scenario  Final_Cumulative_Return\n",
       "0                Crash                 1.677231\n",
       "1     Volatility_Spike                 1.024924\n",
       "2  Prediction_Inverted                 0.964592\n",
       "3      Zero_Prediction                 1.017906\n",
       "4               Normal                 1.021554"
      ]
     },
     "execution_count": 30,
     "metadata": {},
     "output_type": "execute_result"
    }
   ],
   "source": [
    "btc_stress_test = run_stress_testing(btc_trades)\n",
    "btc_stress_test"
   ]
  },
  {
   "cell_type": "code",
   "execution_count": 31,
   "metadata": {},
   "outputs": [
    {
     "data": {
      "text/html": [
       "<div>\n",
       "<style scoped>\n",
       "    .dataframe tbody tr th:only-of-type {\n",
       "        vertical-align: middle;\n",
       "    }\n",
       "\n",
       "    .dataframe tbody tr th {\n",
       "        vertical-align: top;\n",
       "    }\n",
       "\n",
       "    .dataframe thead th {\n",
       "        text-align: right;\n",
       "    }\n",
       "</style>\n",
       "<table border=\"1\" class=\"dataframe\">\n",
       "  <thead>\n",
       "    <tr style=\"text-align: right;\">\n",
       "      <th></th>\n",
       "      <th>Scenario</th>\n",
       "      <th>Final_Cumulative_Return</th>\n",
       "    </tr>\n",
       "  </thead>\n",
       "  <tbody>\n",
       "    <tr>\n",
       "      <th>0</th>\n",
       "      <td>Crash</td>\n",
       "      <td>3.436640</td>\n",
       "    </tr>\n",
       "    <tr>\n",
       "      <th>1</th>\n",
       "      <td>Volatility_Spike</td>\n",
       "      <td>1.058325</td>\n",
       "    </tr>\n",
       "    <tr>\n",
       "      <th>2</th>\n",
       "      <td>Prediction_Inverted</td>\n",
       "      <td>0.920213</td>\n",
       "    </tr>\n",
       "    <tr>\n",
       "      <th>3</th>\n",
       "      <td>Zero_Prediction</td>\n",
       "      <td>1.052418</td>\n",
       "    </tr>\n",
       "    <tr>\n",
       "      <th>4</th>\n",
       "      <td>Normal</td>\n",
       "      <td>1.056515</td>\n",
       "    </tr>\n",
       "  </tbody>\n",
       "</table>\n",
       "</div>"
      ],
      "text/plain": [
       "              Scenario  Final_Cumulative_Return\n",
       "0                Crash                 3.436640\n",
       "1     Volatility_Spike                 1.058325\n",
       "2  Prediction_Inverted                 0.920213\n",
       "3      Zero_Prediction                 1.052418\n",
       "4               Normal                 1.056515"
      ]
     },
     "execution_count": 31,
     "metadata": {},
     "output_type": "execute_result"
    }
   ],
   "source": [
    "eth_stress_test = run_stress_testing(eth_trades)\n",
    "eth_stress_test"
   ]
  },
  {
   "cell_type": "code",
   "execution_count": 32,
   "metadata": {},
   "outputs": [
    {
     "data": {
      "text/html": [
       "<div>\n",
       "<style scoped>\n",
       "    .dataframe tbody tr th:only-of-type {\n",
       "        vertical-align: middle;\n",
       "    }\n",
       "\n",
       "    .dataframe tbody tr th {\n",
       "        vertical-align: top;\n",
       "    }\n",
       "\n",
       "    .dataframe thead th {\n",
       "        text-align: right;\n",
       "    }\n",
       "</style>\n",
       "<table border=\"1\" class=\"dataframe\">\n",
       "  <thead>\n",
       "    <tr style=\"text-align: right;\">\n",
       "      <th></th>\n",
       "      <th>Scenario</th>\n",
       "      <th>Final_Cumulative_Return</th>\n",
       "    </tr>\n",
       "  </thead>\n",
       "  <tbody>\n",
       "    <tr>\n",
       "      <th>0</th>\n",
       "      <td>Crash</td>\n",
       "      <td>2.812070</td>\n",
       "    </tr>\n",
       "    <tr>\n",
       "      <th>1</th>\n",
       "      <td>Volatility_Spike</td>\n",
       "      <td>1.114517</td>\n",
       "    </tr>\n",
       "    <tr>\n",
       "      <th>2</th>\n",
       "      <td>Prediction_Inverted</td>\n",
       "      <td>0.862728</td>\n",
       "    </tr>\n",
       "    <tr>\n",
       "      <th>3</th>\n",
       "      <td>Zero_Prediction</td>\n",
       "      <td>1.037988</td>\n",
       "    </tr>\n",
       "    <tr>\n",
       "      <th>4</th>\n",
       "      <td>Normal</td>\n",
       "      <td>1.115499</td>\n",
       "    </tr>\n",
       "  </tbody>\n",
       "</table>\n",
       "</div>"
      ],
      "text/plain": [
       "              Scenario  Final_Cumulative_Return\n",
       "0                Crash                 2.812070\n",
       "1     Volatility_Spike                 1.114517\n",
       "2  Prediction_Inverted                 0.862728\n",
       "3      Zero_Prediction                 1.037988\n",
       "4               Normal                 1.115499"
      ]
     },
     "execution_count": 32,
     "metadata": {},
     "output_type": "execute_result"
    }
   ],
   "source": [
    "sol_stress_test = run_stress_testing(sol_trades)\n",
    "sol_stress_test"
   ]
  },
  {
   "cell_type": "code",
   "execution_count": 33,
   "metadata": {},
   "outputs": [
    {
     "data": {
      "text/html": [
       "<div>\n",
       "<style scoped>\n",
       "    .dataframe tbody tr th:only-of-type {\n",
       "        vertical-align: middle;\n",
       "    }\n",
       "\n",
       "    .dataframe tbody tr th {\n",
       "        vertical-align: top;\n",
       "    }\n",
       "\n",
       "    .dataframe thead th {\n",
       "        text-align: right;\n",
       "    }\n",
       "</style>\n",
       "<table border=\"1\" class=\"dataframe\">\n",
       "  <thead>\n",
       "    <tr style=\"text-align: right;\">\n",
       "      <th></th>\n",
       "      <th>Scenario</th>\n",
       "      <th>Final_Cumulative_Return</th>\n",
       "    </tr>\n",
       "  </thead>\n",
       "  <tbody>\n",
       "    <tr>\n",
       "      <th>0</th>\n",
       "      <td>Crash</td>\n",
       "      <td>1.783630</td>\n",
       "    </tr>\n",
       "    <tr>\n",
       "      <th>1</th>\n",
       "      <td>Volatility_Spike</td>\n",
       "      <td>1.063545</td>\n",
       "    </tr>\n",
       "    <tr>\n",
       "      <th>2</th>\n",
       "      <td>Prediction_Inverted</td>\n",
       "      <td>0.893525</td>\n",
       "    </tr>\n",
       "    <tr>\n",
       "      <th>3</th>\n",
       "      <td>Zero_Prediction</td>\n",
       "      <td>0.982853</td>\n",
       "    </tr>\n",
       "    <tr>\n",
       "      <th>4</th>\n",
       "      <td>Normal</td>\n",
       "      <td>1.068258</td>\n",
       "    </tr>\n",
       "  </tbody>\n",
       "</table>\n",
       "</div>"
      ],
      "text/plain": [
       "              Scenario  Final_Cumulative_Return\n",
       "0                Crash                 1.783630\n",
       "1     Volatility_Spike                 1.063545\n",
       "2  Prediction_Inverted                 0.893525\n",
       "3      Zero_Prediction                 0.982853\n",
       "4               Normal                 1.068258"
      ]
     },
     "execution_count": 33,
     "metadata": {},
     "output_type": "execute_result"
    }
   ],
   "source": [
    "xrp_stress_test = run_stress_testing(xrp_trades)\n",
    "xrp_stress_test"
   ]
  },
  {
   "cell_type": "markdown",
   "metadata": {},
   "source": [
    "##### Test on validation period"
   ]
  },
  {
   "cell_type": "markdown",
   "metadata": {},
   "source": [
    "Train using entire training set & validate using March-Apr data"
   ]
  },
  {
   "cell_type": "code",
   "execution_count": 36,
   "metadata": {},
   "outputs": [],
   "source": [
    "# Load both sentiment files\n",
    "curr_sentiment = pd.read_csv('../curr_news/aggregated_daily_sentiment.csv')\n",
    "\n",
    "\n",
    "# Rename and parse dates\n",
    "curr_sentiment.rename(columns={'Unnamed: 0': 'Datetime'}, inplace=True)\n",
    "curr_sentiment['Datetime'] = pd.to_datetime(sentiment['Datetime'])\n",
    "\n",
    "# Reshape to long format: Date | Token | Sentiment\n",
    "curr_sentiment = curr_sentiment.melt(id_vars='Datetime', var_name='Token', value_name='Sentiment')\n",
    "\n",
    "\n"
   ]
  },
  {
   "cell_type": "code",
   "execution_count": 37,
   "metadata": {},
   "outputs": [
    {
     "data": {
      "text/html": [
       "<div>\n",
       "<style scoped>\n",
       "    .dataframe tbody tr th:only-of-type {\n",
       "        vertical-align: middle;\n",
       "    }\n",
       "\n",
       "    .dataframe tbody tr th {\n",
       "        vertical-align: top;\n",
       "    }\n",
       "\n",
       "    .dataframe thead th {\n",
       "        text-align: right;\n",
       "    }\n",
       "</style>\n",
       "<table border=\"1\" class=\"dataframe\">\n",
       "  <thead>\n",
       "    <tr style=\"text-align: right;\">\n",
       "      <th></th>\n",
       "      <th>Datetime</th>\n",
       "      <th>Token</th>\n",
       "      <th>Sentiment</th>\n",
       "    </tr>\n",
       "  </thead>\n",
       "  <tbody>\n",
       "    <tr>\n",
       "      <th>0</th>\n",
       "      <td>2025-02-25</td>\n",
       "      <td>BCH</td>\n",
       "      <td>0.000000</td>\n",
       "    </tr>\n",
       "    <tr>\n",
       "      <th>1</th>\n",
       "      <td>2025-02-26</td>\n",
       "      <td>BCH</td>\n",
       "      <td>0.000000</td>\n",
       "    </tr>\n",
       "    <tr>\n",
       "      <th>2</th>\n",
       "      <td>2025-02-27</td>\n",
       "      <td>BCH</td>\n",
       "      <td>0.999995</td>\n",
       "    </tr>\n",
       "    <tr>\n",
       "      <th>3</th>\n",
       "      <td>2025-02-28</td>\n",
       "      <td>BCH</td>\n",
       "      <td>0.999972</td>\n",
       "    </tr>\n",
       "    <tr>\n",
       "      <th>4</th>\n",
       "      <td>2025-03-01</td>\n",
       "      <td>BCH</td>\n",
       "      <td>0.983238</td>\n",
       "    </tr>\n",
       "    <tr>\n",
       "      <th>...</th>\n",
       "      <td>...</td>\n",
       "      <td>...</td>\n",
       "      <td>...</td>\n",
       "    </tr>\n",
       "    <tr>\n",
       "      <th>1097</th>\n",
       "      <td>2025-03-21</td>\n",
       "      <td>HD</td>\n",
       "      <td>0.356482</td>\n",
       "    </tr>\n",
       "    <tr>\n",
       "      <th>1098</th>\n",
       "      <td>2025-03-22</td>\n",
       "      <td>HD</td>\n",
       "      <td>0.333129</td>\n",
       "    </tr>\n",
       "    <tr>\n",
       "      <th>1099</th>\n",
       "      <td>2025-03-23</td>\n",
       "      <td>HD</td>\n",
       "      <td>0.000000</td>\n",
       "    </tr>\n",
       "    <tr>\n",
       "      <th>1100</th>\n",
       "      <td>2025-03-24</td>\n",
       "      <td>HD</td>\n",
       "      <td>0.093289</td>\n",
       "    </tr>\n",
       "    <tr>\n",
       "      <th>1101</th>\n",
       "      <td>2025-03-25</td>\n",
       "      <td>HD</td>\n",
       "      <td>0.186285</td>\n",
       "    </tr>\n",
       "  </tbody>\n",
       "</table>\n",
       "<p>1102 rows × 3 columns</p>\n",
       "</div>"
      ],
      "text/plain": [
       "       Datetime Token  Sentiment\n",
       "0    2025-02-25   BCH   0.000000\n",
       "1    2025-02-26   BCH   0.000000\n",
       "2    2025-02-27   BCH   0.999995\n",
       "3    2025-02-28   BCH   0.999972\n",
       "4    2025-03-01   BCH   0.983238\n",
       "...         ...   ...        ...\n",
       "1097 2025-03-21    HD   0.356482\n",
       "1098 2025-03-22    HD   0.333129\n",
       "1099 2025-03-23    HD   0.000000\n",
       "1100 2025-03-24    HD   0.093289\n",
       "1101 2025-03-25    HD   0.186285\n",
       "\n",
       "[1102 rows x 3 columns]"
      ]
     },
     "execution_count": 37,
     "metadata": {},
     "output_type": "execute_result"
    }
   ],
   "source": [
    "curr_sentiment"
   ]
  },
  {
   "cell_type": "code",
   "execution_count": 38,
   "metadata": {},
   "outputs": [],
   "source": [
    "# Set random seeds for reproducibility\n",
    "np.random.seed(42)\n",
    "tf.random.set_seed(42)\n",
    "random.seed(42)\n",
    "tf.keras.utils.set_random_seed(42)\n",
    "tf.config.experimental.enable_op_determinism() \n",
    "\n",
    "\n",
    "#Code for Hyperparameter Tuning\n",
    "def load_and_preprocess_data(file_path, sentiment=curr_sentiment):\n",
    "    df = pd.read_csv(file_path)\n",
    "    df['Datetime'] = df['Date']\n",
    "    df['Datetime'] = pd.to_datetime(df['Datetime'])\n",
    "    df.sort_values(['Token', 'Datetime'], inplace=True)\n",
    "    dates = list(df['Datetime'].copy()) # Maintain list of minute indices\n",
    "    # Prepare crypto data date column\n",
    "    df['Datetime'] = df['Datetime'].dt.normalize()\n",
    "    df['Datetime'] = df['Datetime'].dt.tz_localize(None)\n",
    "\n",
    "    # Merge daily sentiment into intraday stock data\n",
    "    df = df.merge(sentiment, how='left', on=['Datetime', 'Token'])\n",
    "\n",
    "    # then assign back the original datetime column\n",
    "    df['Datetime'] = dates \n",
    "    df['Datetime'] = pd.to_datetime(df['Datetime'])\n",
    "    # Fill any missing sentiment values with neutral (0)\n",
    "    df['Sentiment'] = df['Sentiment'].fillna(0)\n",
    "        \n",
    "    df['Return'] = df.groupby('Token')['Close'].pct_change().shift(-1)  # Next period return as target\n",
    "    non_features = ['Datetime', 'Token', 'Date', 'Return']\n",
    "    feature_cols = [x for x in list(df.columns) if x not in non_features]\n",
    "    df = df[feature_cols + non_features].dropna()\n",
    "    df.dropna(inplace=True)\n",
    "    df = df[df['Datetime'] <= '2025-03-25']\n",
    "    \n",
    "    return df, feature_cols\n",
    "\n",
    "# Prepare sequences for LSTM training\n",
    "def prepare_sequences(df, feature_cols, sequence_length=20):\n",
    "    \n",
    "    feature_scaler = MinMaxScaler(feature_range=(0, 1))\n",
    "    return_scaler = MinMaxScaler(feature_range=(0, 1))\n",
    "    \n",
    "    X_scaled = feature_scaler.fit_transform(df[feature_cols])\n",
    "    y_scaled = return_scaler.fit_transform(df[['Return']])\n",
    "    \n",
    "    X_sequences, y_sequences, dates, close_prices = [], [], df['Datetime'].values[sequence_length:], df['Close'].values[sequence_length:]\n",
    "    \n",
    "    for i in range(len(X_scaled) - sequence_length):\n",
    "        X_sequences.append(X_scaled[i:i+sequence_length])\n",
    "        y_sequences.append(y_scaled[i+sequence_length])\n",
    "    \n",
    "    return np.array(X_sequences), np.array(y_sequences), dates, close_prices, return_scaler\n",
    "\n",
    "# Split data into training and testing sets\n",
    "def split_data(X, y, dates, close_prices, train_ratio=0.8):\n",
    "    split_index = int(len(X) * train_ratio)\n",
    "    return X[:split_index], X[split_index:], y[:split_index], y[split_index:], dates[split_index:], close_prices[split_index:]\n",
    "\n",
    "\n",
    "\n",
    "# Function to create model for GridSearchCV\n",
    "def create_lstm_model(input_shape, layers=1, units_1=50, units_2=50, dropout_rate=0.2, learning_rate=0.001, optimizer='adam'):\n",
    "    model = Sequential()  # Add this line to initialize the model\n",
    "    # Explicitly define the input layer\n",
    "    model.add(Input(shape=input_shape))  # Fix: Define input layer separately\n",
    "    # First LSTM layer\n",
    "    if layers == 1:\n",
    "        \n",
    "        model.add(LSTM(units=units_1))\n",
    "    else:\n",
    "        model.add(LSTM(units=units_1, return_sequences=True))\n",
    "        model.add(Dropout(dropout_rate))\n",
    "        \n",
    "        # Additional LSTM layers\n",
    "        for i in range(layers-2):\n",
    "            model.add(LSTM(units=units_2, return_sequences=True))\n",
    "            model.add(Dropout(dropout_rate))\n",
    "        \n",
    "        # Final LSTM layer\n",
    "        model.add(LSTM(units=units_2))\n",
    "\n",
    "    model.add(Dropout(dropout_rate))\n",
    "    model.add(Dense(units=1))  # Output layer\n",
    "    # Convert optimizer string to actual optimizer instance\n",
    "    optimizer_instance = {\n",
    "        'adam': tf.keras.optimizers.Adam(learning_rate=learning_rate),\n",
    "        'rmsprop': tf.keras.optimizers.RMSprop(learning_rate=learning_rate),\n",
    "        'sgd': tf.keras.optimizers.SGD(learning_rate=learning_rate, momentum=0.9)\n",
    "    }[optimizer]\n",
    "    model.compile(optimizer=optimizer_instance,\n",
    "                    loss='mse',\n",
    "                    metrics=['mae'])\n",
    "    return model\n",
    "# Function to train and evaluate the model\n",
    "def train_and_evaluate_model_validation(df, feature_cols, validation, Token):\n",
    "    validation = validation[validation['Datetime'] <= '2025-03-25']\n",
    "    df_Token = df[df['Token'] == Token]\n",
    "    val_Token = validation[validation['Token'] == Token]\n",
    "    X, y, dates, close_prices, return_scaler = prepare_sequences(df_Token, feature_cols)\n",
    "    X_val, y_val, dates_val, close_prices_val, return_scaler_val = prepare_sequences(val_Token, feature_cols)\n",
    "    \n",
    "    # Hyperparameter tuning\n",
    "    input_shape = (X.shape[1], X.shape[2])\n",
    "    # Learning rate adjustment and early stopping\n",
    "    callbacks = [\n",
    "        EarlyStopping(monitor='val_loss', patience=5, restore_best_weights=True),\n",
    "        ReduceLROnPlateau(monitor='val_loss', factor=0.5, patience=3, min_lr=1e-6)\n",
    "    ]\n",
    "    if Token == 'BTC':\n",
    "        model = create_lstm_model(input_shape, layers=1, units_1=100, units_2=50, dropout_rate=0.2, learning_rate=0.001, optimizer='adam')\n",
    "        model.fit(X, y, epochs=50, batch_size=32, validation_data=(X_val, y_val), callbacks=callbacks)\n",
    "    \n",
    "    elif Token == 'ETH':\n",
    "        model = create_lstm_model(input_shape, layers=1, units_1=100, units_2=50, dropout_rate=0.2, learning_rate=0.001, optimizer='adam')\n",
    "        model.fit(X, y, epochs=50, batch_size=64, validation_data=(X_val, y_val), callbacks=callbacks)\n",
    "    elif Token == 'SOL':\n",
    "        model = create_lstm_model(input_shape, layers=1, units_1=100, units_2=50, dropout_rate=0.4, learning_rate=0.001, optimizer='adam')\n",
    "        model.fit(X, y, epochs=50, batch_size=16, validation_data=(X_val, y_val), callbacks=callbacks)\n",
    "    elif Token == 'XRP':\n",
    "        model = create_lstm_model(input_shape, layers=1, units_1=100, units_2=50, dropout_rate=0.4, learning_rate=0.001, optimizer='adam')\n",
    "        model.fit(X, y, epochs=50, batch_size=32, validation_data=(X_val, y_val), callbacks=callbacks)\n",
    "    \n",
    "    # Predict and rescale returns\n",
    "    y_pred_scaled = model.predict(X_val)\n",
    "    y_pred = return_scaler.inverse_transform(y_pred_scaled)\n",
    "    y_val = return_scaler_val.inverse_transform(y_val.reshape(-1, 1))\n",
    "    \n",
    "    return model, y_val, y_pred, dates_val, close_prices_val\n",
    "\n"
   ]
  },
  {
   "cell_type": "code",
   "execution_count": 39,
   "metadata": {},
   "outputs": [],
   "source": [
    "file_path1 = \"./data_with_indicators/crypto_prices_1m_with_indicators.csv\"\n",
    "file_path2 = \"./data_with_indicators/crypto_prices_1m_validation_with_indicators.csv\"\n",
    "df, feature_cols = load_and_preprocess_data(file_path1)\n",
    "validation, feature_cols = load_and_preprocess_data(file_path2)"
   ]
  },
  {
   "cell_type": "code",
   "execution_count": 40,
   "metadata": {},
   "outputs": [],
   "source": [
    "\n",
    "all_trades_val = []\n",
    "unique_Tokens = ['BTC', 'ETH', 'SOL', 'XRP']\n"
   ]
  },
  {
   "cell_type": "code",
   "execution_count": 41,
   "metadata": {},
   "outputs": [
    {
     "name": "stdout",
     "output_type": "stream",
     "text": [
      "Processing BTC...\n",
      "Epoch 1/50\n"
     ]
    },
    {
     "name": "stderr",
     "output_type": "stream",
     "text": [
      "2025-04-01 22:25:09.233183: E tensorflow/core/framework/node_def_util.cc:676] NodeDef mentions attribute use_unbounded_threadpool which is not in the op definition: Op<name=MapDataset; signature=input_dataset:variant, other_arguments: -> handle:variant; attr=f:func; attr=Targuments:list(type),min=0; attr=output_types:list(type),min=1; attr=output_shapes:list(shape),min=1; attr=use_inter_op_parallelism:bool,default=true; attr=preserve_cardinality:bool,default=false; attr=force_synchronous:bool,default=false; attr=metadata:string,default=\"\"> This may be expected if your graph generating binary is newer  than this binary. Unknown attributes will be ignored. NodeDef: {{node ParallelMapDatasetV2/_15}}\n",
      "2025-04-01 22:25:09.233647: E tensorflow/core/framework/node_def_util.cc:676] NodeDef mentions attribute use_unbounded_threadpool which is not in the op definition: Op<name=MapDataset; signature=input_dataset:variant, other_arguments: -> handle:variant; attr=f:func; attr=Targuments:list(type),min=0; attr=output_types:list(type),min=1; attr=output_shapes:list(shape),min=1; attr=use_inter_op_parallelism:bool,default=true; attr=preserve_cardinality:bool,default=false; attr=force_synchronous:bool,default=false; attr=metadata:string,default=\"\"> This may be expected if your graph generating binary is newer  than this binary. Unknown attributes will be ignored. NodeDef: {{node ParallelMapDatasetV2/_15}}\n"
     ]
    },
    {
     "name": "stdout",
     "output_type": "stream",
     "text": [
      "\u001b[1m3679/3689\u001b[0m \u001b[32m━━━━━━━━━━━━━━━━━━━\u001b[0m\u001b[37m━\u001b[0m \u001b[1m0s\u001b[0m 5ms/step - loss: 0.0050 - mae: 0.0414"
     ]
    },
    {
     "name": "stderr",
     "output_type": "stream",
     "text": [
      "2025-04-01 22:25:29.021926: E tensorflow/core/framework/node_def_util.cc:676] NodeDef mentions attribute use_unbounded_threadpool which is not in the op definition: Op<name=MapDataset; signature=input_dataset:variant, other_arguments: -> handle:variant; attr=f:func; attr=Targuments:list(type),min=0; attr=output_types:list(type),min=1; attr=output_shapes:list(shape),min=1; attr=use_inter_op_parallelism:bool,default=true; attr=preserve_cardinality:bool,default=false; attr=force_synchronous:bool,default=false; attr=metadata:string,default=\"\"> This may be expected if your graph generating binary is newer  than this binary. Unknown attributes will be ignored. NodeDef: {{node ParallelMapDatasetV2/_15}}\n",
      "2025-04-01 22:25:29.022305: E tensorflow/core/framework/node_def_util.cc:676] NodeDef mentions attribute use_unbounded_threadpool which is not in the op definition: Op<name=MapDataset; signature=input_dataset:variant, other_arguments: -> handle:variant; attr=f:func; attr=Targuments:list(type),min=0; attr=output_types:list(type),min=1; attr=output_shapes:list(shape),min=1; attr=use_inter_op_parallelism:bool,default=true; attr=preserve_cardinality:bool,default=false; attr=force_synchronous:bool,default=false; attr=metadata:string,default=\"\"> This may be expected if your graph generating binary is newer  than this binary. Unknown attributes will be ignored. NodeDef: {{node ParallelMapDatasetV2/_15}}\n"
     ]
    },
    {
     "name": "stdout",
     "output_type": "stream",
     "text": [
      "\u001b[1m3689/3689\u001b[0m \u001b[32m━━━━━━━━━━━━━━━━━━━━\u001b[0m\u001b[37m\u001b[0m \u001b[1m22s\u001b[0m 6ms/step - loss: 0.0049 - mae: 0.0414 - val_loss: 0.0076 - val_mae: 0.0813 - learning_rate: 0.0010\n",
      "Epoch 2/50\n",
      "\u001b[1m3689/3689\u001b[0m \u001b[32m━━━━━━━━━━━━━━━━━━━━\u001b[0m\u001b[37m\u001b[0m \u001b[1m20s\u001b[0m 5ms/step - loss: 6.0869e-04 - mae: 0.0171 - val_loss: 0.0063 - val_mae: 0.0730 - learning_rate: 0.0010\n",
      "Epoch 3/50\n",
      "\u001b[1m3689/3689\u001b[0m \u001b[32m━━━━━━━━━━━━━━━━━━━━\u001b[0m\u001b[37m\u001b[0m \u001b[1m20s\u001b[0m 5ms/step - loss: 5.0184e-04 - mae: 0.0144 - val_loss: 0.0062 - val_mae: 0.0725 - learning_rate: 0.0010\n",
      "Epoch 4/50\n",
      "\u001b[1m3689/3689\u001b[0m \u001b[32m━━━━━━━━━━━━━━━━━━━━\u001b[0m\u001b[37m\u001b[0m \u001b[1m19s\u001b[0m 5ms/step - loss: 4.8882e-04 - mae: 0.0140 - val_loss: 0.0062 - val_mae: 0.0724 - learning_rate: 0.0010\n",
      "Epoch 5/50\n",
      "\u001b[1m3689/3689\u001b[0m \u001b[32m━━━━━━━━━━━━━━━━━━━━\u001b[0m\u001b[37m\u001b[0m \u001b[1m20s\u001b[0m 5ms/step - loss: 4.8441e-04 - mae: 0.0138 - val_loss: 0.0062 - val_mae: 0.0728 - learning_rate: 0.0010\n",
      "Epoch 6/50\n",
      "\u001b[1m3689/3689\u001b[0m \u001b[32m━━━━━━━━━━━━━━━━━━━━\u001b[0m\u001b[37m\u001b[0m \u001b[1m19s\u001b[0m 5ms/step - loss: 4.8289e-04 - mae: 0.0138 - val_loss: 0.0062 - val_mae: 0.0729 - learning_rate: 5.0000e-04\n",
      "Epoch 7/50\n",
      "\u001b[1m3689/3689\u001b[0m \u001b[32m━━━━━━━━━━━━━━━━━━━━\u001b[0m\u001b[37m\u001b[0m \u001b[1m19s\u001b[0m 5ms/step - loss: 4.8290e-04 - mae: 0.0138 - val_loss: 0.0063 - val_mae: 0.0729 - learning_rate: 5.0000e-04\n",
      "Epoch 8/50\n",
      "\u001b[1m3689/3689\u001b[0m \u001b[32m━━━━━━━━━━━━━━━━━━━━\u001b[0m\u001b[37m\u001b[0m \u001b[1m19s\u001b[0m 5ms/step - loss: 4.8284e-04 - mae: 0.0138 - val_loss: 0.0063 - val_mae: 0.0729 - learning_rate: 5.0000e-04\n",
      "Epoch 9/50\n",
      "\u001b[1m3689/3689\u001b[0m \u001b[32m━━━━━━━━━━━━━━━━━━━━\u001b[0m\u001b[37m\u001b[0m \u001b[1m19s\u001b[0m 5ms/step - loss: 4.8232e-04 - mae: 0.0138 - val_loss: 0.0063 - val_mae: 0.0734 - learning_rate: 2.5000e-04\n",
      "\u001b[1m  56/1079\u001b[0m \u001b[32m━\u001b[0m\u001b[37m━━━━━━━━━━━━━━━━━━━\u001b[0m \u001b[1m1s\u001b[0m 2ms/step"
     ]
    },
    {
     "name": "stderr",
     "output_type": "stream",
     "text": [
      "2025-04-01 22:28:05.558193: E tensorflow/core/framework/node_def_util.cc:676] NodeDef mentions attribute use_unbounded_threadpool which is not in the op definition: Op<name=MapDataset; signature=input_dataset:variant, other_arguments: -> handle:variant; attr=f:func; attr=Targuments:list(type),min=0; attr=output_types:list(type),min=1; attr=output_shapes:list(shape),min=1; attr=use_inter_op_parallelism:bool,default=true; attr=preserve_cardinality:bool,default=false; attr=force_synchronous:bool,default=false; attr=metadata:string,default=\"\"> This may be expected if your graph generating binary is newer  than this binary. Unknown attributes will be ignored. NodeDef: {{node ParallelMapDatasetV2/_14}}\n",
      "2025-04-01 22:28:05.558514: E tensorflow/core/framework/node_def_util.cc:676] NodeDef mentions attribute use_unbounded_threadpool which is not in the op definition: Op<name=MapDataset; signature=input_dataset:variant, other_arguments: -> handle:variant; attr=f:func; attr=Targuments:list(type),min=0; attr=output_types:list(type),min=1; attr=output_shapes:list(shape),min=1; attr=use_inter_op_parallelism:bool,default=true; attr=preserve_cardinality:bool,default=false; attr=force_synchronous:bool,default=false; attr=metadata:string,default=\"\"> This may be expected if your graph generating binary is newer  than this binary. Unknown attributes will be ignored. NodeDef: {{node ParallelMapDatasetV2/_14}}\n"
     ]
    },
    {
     "name": "stdout",
     "output_type": "stream",
     "text": [
      "\u001b[1m1079/1079\u001b[0m \u001b[32m━━━━━━━━━━━━━━━━━━━━\u001b[0m\u001b[37m\u001b[0m \u001b[1m2s\u001b[0m 2ms/step\n"
     ]
    }
   ],
   "source": [
    "Token = 'BTC'\n",
    "print(f\"Processing {Token}...\")\n",
    "b_model_val, b_y_val, b_y_pred, b_dates_val, b_close_prices_val = train_and_evaluate_model_validation(df, feature_cols, validation, Token)\n"
   ]
  },
  {
   "cell_type": "code",
   "execution_count": 42,
   "metadata": {},
   "outputs": [],
   "source": [
    "btc_trades_val = log_trades(b_dates_val, b_y_val.flatten(), b_y_pred.flatten(), b_close_prices_val, Token)\n",
    "all_trades_val.append(btc_trades_val)"
   ]
  },
  {
   "cell_type": "code",
   "execution_count": 43,
   "metadata": {},
   "outputs": [
    {
     "name": "stdout",
     "output_type": "stream",
     "text": [
      "Processing ETH...\n",
      "Epoch 1/50\n",
      "\u001b[1m1844/1845\u001b[0m \u001b[32m━━━━━━━━━━━━━━━━━━━\u001b[0m\u001b[37m━\u001b[0m \u001b[1m0s\u001b[0m 7ms/step - loss: 0.0045 - mae: 0.0443"
     ]
    },
    {
     "name": "stderr",
     "output_type": "stream",
     "text": [
      "2025-04-01 22:28:21.393926: E tensorflow/core/framework/node_def_util.cc:676] NodeDef mentions attribute use_unbounded_threadpool which is not in the op definition: Op<name=MapDataset; signature=input_dataset:variant, other_arguments: -> handle:variant; attr=f:func; attr=Targuments:list(type),min=0; attr=output_types:list(type),min=1; attr=output_shapes:list(shape),min=1; attr=use_inter_op_parallelism:bool,default=true; attr=preserve_cardinality:bool,default=false; attr=force_synchronous:bool,default=false; attr=metadata:string,default=\"\"> This may be expected if your graph generating binary is newer  than this binary. Unknown attributes will be ignored. NodeDef: {{node ParallelMapDatasetV2/_15}}\n",
      "2025-04-01 22:28:21.394272: E tensorflow/core/framework/node_def_util.cc:676] NodeDef mentions attribute use_unbounded_threadpool which is not in the op definition: Op<name=MapDataset; signature=input_dataset:variant, other_arguments: -> handle:variant; attr=f:func; attr=Targuments:list(type),min=0; attr=output_types:list(type),min=1; attr=output_shapes:list(shape),min=1; attr=use_inter_op_parallelism:bool,default=true; attr=preserve_cardinality:bool,default=false; attr=force_synchronous:bool,default=false; attr=metadata:string,default=\"\"> This may be expected if your graph generating binary is newer  than this binary. Unknown attributes will be ignored. NodeDef: {{node ParallelMapDatasetV2/_15}}\n"
     ]
    },
    {
     "name": "stdout",
     "output_type": "stream",
     "text": [
      "\u001b[1m1845/1845\u001b[0m \u001b[32m━━━━━━━━━━━━━━━━━━━━\u001b[0m\u001b[37m\u001b[0m \u001b[1m14s\u001b[0m 8ms/step - loss: 0.0045 - mae: 0.0443 - val_loss: 0.1190 - val_mae: 0.3444 - learning_rate: 0.0010\n",
      "Epoch 2/50\n",
      "\u001b[1m1845/1845\u001b[0m \u001b[32m━━━━━━━━━━━━━━━━━━━━\u001b[0m\u001b[37m\u001b[0m \u001b[1m13s\u001b[0m 7ms/step - loss: 5.8548e-04 - mae: 0.0189 - val_loss: 0.1192 - val_mae: 0.3446 - learning_rate: 0.0010\n",
      "Epoch 3/50\n",
      "\u001b[1m1845/1845\u001b[0m \u001b[32m━━━━━━━━━━━━━━━━━━━━\u001b[0m\u001b[37m\u001b[0m \u001b[1m14s\u001b[0m 7ms/step - loss: 2.0522e-04 - mae: 0.0107 - val_loss: 0.1233 - val_mae: 0.3505 - learning_rate: 0.0010\n",
      "Epoch 4/50\n",
      "\u001b[1m1845/1845\u001b[0m \u001b[32m━━━━━━━━━━━━━━━━━━━━\u001b[0m\u001b[37m\u001b[0m \u001b[1m14s\u001b[0m 7ms/step - loss: 9.3552e-05 - mae: 0.0064 - val_loss: 0.1201 - val_mae: 0.3459 - learning_rate: 0.0010\n",
      "Epoch 5/50\n",
      "\u001b[1m1845/1845\u001b[0m \u001b[32m━━━━━━━━━━━━━━━━━━━━\u001b[0m\u001b[37m\u001b[0m \u001b[1m14s\u001b[0m 8ms/step - loss: 7.8169e-05 - mae: 0.0054 - val_loss: 0.1183 - val_mae: 0.3434 - learning_rate: 5.0000e-04\n",
      "Epoch 6/50\n",
      "\u001b[1m1845/1845\u001b[0m \u001b[32m━━━━━━━━━━━━━━━━━━━━\u001b[0m\u001b[37m\u001b[0m \u001b[1m13s\u001b[0m 7ms/step - loss: 7.6885e-05 - mae: 0.0053 - val_loss: 0.1185 - val_mae: 0.3437 - learning_rate: 5.0000e-04\n",
      "Epoch 7/50\n",
      "\u001b[1m1845/1845\u001b[0m \u001b[32m━━━━━━━━━━━━━━━━━━━━\u001b[0m\u001b[37m\u001b[0m \u001b[1m13s\u001b[0m 7ms/step - loss: 7.6672e-05 - mae: 0.0053 - val_loss: 0.1184 - val_mae: 0.3435 - learning_rate: 5.0000e-04\n",
      "Epoch 8/50\n",
      "\u001b[1m1845/1845\u001b[0m \u001b[32m━━━━━━━━━━━━━━━━━━━━\u001b[0m\u001b[37m\u001b[0m \u001b[1m14s\u001b[0m 7ms/step - loss: 7.6329e-05 - mae: 0.0053 - val_loss: 0.1181 - val_mae: 0.3431 - learning_rate: 5.0000e-04\n",
      "Epoch 9/50\n",
      "\u001b[1m1845/1845\u001b[0m \u001b[32m━━━━━━━━━━━━━━━━━━━━\u001b[0m\u001b[37m\u001b[0m \u001b[1m14s\u001b[0m 8ms/step - loss: 7.5495e-05 - mae: 0.0052 - val_loss: 0.1176 - val_mae: 0.3424 - learning_rate: 5.0000e-04\n",
      "Epoch 10/50\n",
      "\u001b[1m1845/1845\u001b[0m \u001b[32m━━━━━━━━━━━━━━━━━━━━\u001b[0m\u001b[37m\u001b[0m \u001b[1m14s\u001b[0m 7ms/step - loss: 7.4883e-05 - mae: 0.0052 - val_loss: 0.1171 - val_mae: 0.3417 - learning_rate: 5.0000e-04\n",
      "Epoch 11/50\n",
      "\u001b[1m1845/1845\u001b[0m \u001b[32m━━━━━━━━━━━━━━━━━━━━\u001b[0m\u001b[37m\u001b[0m \u001b[1m14s\u001b[0m 7ms/step - loss: 7.4532e-05 - mae: 0.0051 - val_loss: 0.1175 - val_mae: 0.3422 - learning_rate: 5.0000e-04\n",
      "Epoch 12/50\n",
      "\u001b[1m1845/1845\u001b[0m \u001b[32m━━━━━━━━━━━━━━━━━━━━\u001b[0m\u001b[37m\u001b[0m \u001b[1m13s\u001b[0m 7ms/step - loss: 7.4416e-05 - mae: 0.0051 - val_loss: 0.1176 - val_mae: 0.3423 - learning_rate: 5.0000e-04\n",
      "Epoch 13/50\n",
      "\u001b[1m1845/1845\u001b[0m \u001b[32m━━━━━━━━━━━━━━━━━━━━\u001b[0m\u001b[37m\u001b[0m \u001b[1m13s\u001b[0m 7ms/step - loss: 7.4377e-05 - mae: 0.0051 - val_loss: 0.1177 - val_mae: 0.3425 - learning_rate: 5.0000e-04\n",
      "Epoch 14/50\n",
      "\u001b[1m1845/1845\u001b[0m \u001b[32m━━━━━━━━━━━━━━━━━━━━\u001b[0m\u001b[37m\u001b[0m \u001b[1m13s\u001b[0m 7ms/step - loss: 7.4178e-05 - mae: 0.0051 - val_loss: 0.1179 - val_mae: 0.3428 - learning_rate: 2.5000e-04\n",
      "Epoch 15/50\n",
      "\u001b[1m1845/1845\u001b[0m \u001b[32m━━━━━━━━━━━━━━━━━━━━\u001b[0m\u001b[37m\u001b[0m \u001b[1m13s\u001b[0m 7ms/step - loss: 7.4207e-05 - mae: 0.0051 - val_loss: 0.1179 - val_mae: 0.3427 - learning_rate: 2.5000e-04\n",
      "\u001b[1m  62/1079\u001b[0m \u001b[32m━\u001b[0m\u001b[37m━━━━━━━━━━━━━━━━━━━\u001b[0m \u001b[1m1s\u001b[0m 2ms/step"
     ]
    },
    {
     "name": "stderr",
     "output_type": "stream",
     "text": [
      "2025-04-01 22:31:31.733429: E tensorflow/core/framework/node_def_util.cc:676] NodeDef mentions attribute use_unbounded_threadpool which is not in the op definition: Op<name=MapDataset; signature=input_dataset:variant, other_arguments: -> handle:variant; attr=f:func; attr=Targuments:list(type),min=0; attr=output_types:list(type),min=1; attr=output_shapes:list(shape),min=1; attr=use_inter_op_parallelism:bool,default=true; attr=preserve_cardinality:bool,default=false; attr=force_synchronous:bool,default=false; attr=metadata:string,default=\"\"> This may be expected if your graph generating binary is newer  than this binary. Unknown attributes will be ignored. NodeDef: {{node ParallelMapDatasetV2/_14}}\n",
      "2025-04-01 22:31:31.733781: E tensorflow/core/framework/node_def_util.cc:676] NodeDef mentions attribute use_unbounded_threadpool which is not in the op definition: Op<name=MapDataset; signature=input_dataset:variant, other_arguments: -> handle:variant; attr=f:func; attr=Targuments:list(type),min=0; attr=output_types:list(type),min=1; attr=output_shapes:list(shape),min=1; attr=use_inter_op_parallelism:bool,default=true; attr=preserve_cardinality:bool,default=false; attr=force_synchronous:bool,default=false; attr=metadata:string,default=\"\"> This may be expected if your graph generating binary is newer  than this binary. Unknown attributes will be ignored. NodeDef: {{node ParallelMapDatasetV2/_14}}\n"
     ]
    },
    {
     "name": "stdout",
     "output_type": "stream",
     "text": [
      "\u001b[1m1079/1079\u001b[0m \u001b[32m━━━━━━━━━━━━━━━━━━━━\u001b[0m\u001b[37m\u001b[0m \u001b[1m2s\u001b[0m 2ms/step\n"
     ]
    }
   ],
   "source": [
    "Token = 'ETH'\n",
    "print(f\"Processing {Token}...\")\n",
    "e_model_val, e_y_val, e_y_pred, e_dates_val, e_close_prices_val = train_and_evaluate_model_validation(df, feature_cols, validation, Token)\n"
   ]
  },
  {
   "cell_type": "code",
   "execution_count": 44,
   "metadata": {},
   "outputs": [],
   "source": [
    "# Log trades and update cumulative returns\n",
    "eth_trades_val = log_trades(e_dates_val, e_y_val.flatten(), e_y_pred.flatten(), e_close_prices_val, Token)\n",
    "all_trades_val.append(eth_trades_val)"
   ]
  },
  {
   "cell_type": "code",
   "execution_count": 45,
   "metadata": {},
   "outputs": [
    {
     "name": "stdout",
     "output_type": "stream",
     "text": [
      "Processing SOL...\n",
      "Epoch 1/50\n",
      "\u001b[1m7365/7378\u001b[0m \u001b[32m━━━━━━━━━━━━━━━━━━━\u001b[0m\u001b[37m━\u001b[0m \u001b[1m0s\u001b[0m 4ms/step - loss: 0.0059 - mae: 0.0431"
     ]
    },
    {
     "name": "stderr",
     "output_type": "stream",
     "text": [
      "2025-04-01 22:32:01.288956: E tensorflow/core/framework/node_def_util.cc:676] NodeDef mentions attribute use_unbounded_threadpool which is not in the op definition: Op<name=MapDataset; signature=input_dataset:variant, other_arguments: -> handle:variant; attr=f:func; attr=Targuments:list(type),min=0; attr=output_types:list(type),min=1; attr=output_shapes:list(shape),min=1; attr=use_inter_op_parallelism:bool,default=true; attr=preserve_cardinality:bool,default=false; attr=force_synchronous:bool,default=false; attr=metadata:string,default=\"\"> This may be expected if your graph generating binary is newer  than this binary. Unknown attributes will be ignored. NodeDef: {{node ParallelMapDatasetV2/_15}}\n",
      "2025-04-01 22:32:01.289358: E tensorflow/core/framework/node_def_util.cc:676] NodeDef mentions attribute use_unbounded_threadpool which is not in the op definition: Op<name=MapDataset; signature=input_dataset:variant, other_arguments: -> handle:variant; attr=f:func; attr=Targuments:list(type),min=0; attr=output_types:list(type),min=1; attr=output_shapes:list(shape),min=1; attr=use_inter_op_parallelism:bool,default=true; attr=preserve_cardinality:bool,default=false; attr=force_synchronous:bool,default=false; attr=metadata:string,default=\"\"> This may be expected if your graph generating binary is newer  than this binary. Unknown attributes will be ignored. NodeDef: {{node ParallelMapDatasetV2/_15}}\n"
     ]
    },
    {
     "name": "stdout",
     "output_type": "stream",
     "text": [
      "\u001b[1m7378/7378\u001b[0m \u001b[32m━━━━━━━━━━━━━━━━━━━━\u001b[0m\u001b[37m\u001b[0m \u001b[1m30s\u001b[0m 4ms/step - loss: 0.0059 - mae: 0.0431 - val_loss: 6.8594e-04 - val_mae: 0.0167 - learning_rate: 0.0010\n",
      "Epoch 2/50\n",
      "\u001b[1m7378/7378\u001b[0m \u001b[32m━━━━━━━━━━━━━━━━━━━━\u001b[0m\u001b[37m\u001b[0m \u001b[1m29s\u001b[0m 4ms/step - loss: 6.8829e-04 - mae: 0.0171 - val_loss: 6.8767e-04 - val_mae: 0.0168 - learning_rate: 0.0010\n",
      "Epoch 3/50\n",
      "\u001b[1m7378/7378\u001b[0m \u001b[32m━━━━━━━━━━━━━━━━━━━━\u001b[0m\u001b[37m\u001b[0m \u001b[1m28s\u001b[0m 4ms/step - loss: 6.7275e-04 - mae: 0.0167 - val_loss: 6.8710e-04 - val_mae: 0.0168 - learning_rate: 0.0010\n",
      "Epoch 4/50\n",
      "\u001b[1m7378/7378\u001b[0m \u001b[32m━━━━━━━━━━━━━━━━━━━━\u001b[0m\u001b[37m\u001b[0m \u001b[1m30s\u001b[0m 4ms/step - loss: 6.7226e-04 - mae: 0.0167 - val_loss: 6.8746e-04 - val_mae: 0.0168 - learning_rate: 0.0010\n",
      "Epoch 5/50\n",
      "\u001b[1m7378/7378\u001b[0m \u001b[32m━━━━━━━━━━━━━━━━━━━━\u001b[0m\u001b[37m\u001b[0m \u001b[1m28s\u001b[0m 4ms/step - loss: 6.7061e-04 - mae: 0.0167 - val_loss: 6.8371e-04 - val_mae: 0.0167 - learning_rate: 5.0000e-04\n",
      "Epoch 6/50\n",
      "\u001b[1m7378/7378\u001b[0m \u001b[32m━━━━━━━━━━━━━━━━━━━━\u001b[0m\u001b[37m\u001b[0m \u001b[1m30s\u001b[0m 4ms/step - loss: 6.7052e-04 - mae: 0.0167 - val_loss: 6.8393e-04 - val_mae: 0.0167 - learning_rate: 5.0000e-04\n",
      "Epoch 7/50\n",
      "\u001b[1m7378/7378\u001b[0m \u001b[32m━━━━━━━━━━━━━━━━━━━━\u001b[0m\u001b[37m\u001b[0m \u001b[1m29s\u001b[0m 4ms/step - loss: 6.7051e-04 - mae: 0.0167 - val_loss: 6.8369e-04 - val_mae: 0.0167 - learning_rate: 5.0000e-04\n",
      "Epoch 8/50\n",
      "\u001b[1m7378/7378\u001b[0m \u001b[32m━━━━━━━━━━━━━━━━━━━━\u001b[0m\u001b[37m\u001b[0m \u001b[1m28s\u001b[0m 4ms/step - loss: 6.6962e-04 - mae: 0.0167 - val_loss: 6.8172e-04 - val_mae: 0.0166 - learning_rate: 2.5000e-04\n",
      "Epoch 9/50\n",
      "\u001b[1m7378/7378\u001b[0m \u001b[32m━━━━━━━━━━━━━━━━━━━━\u001b[0m\u001b[37m\u001b[0m \u001b[1m29s\u001b[0m 4ms/step - loss: 6.6948e-04 - mae: 0.0167 - val_loss: 6.8185e-04 - val_mae: 0.0166 - learning_rate: 2.5000e-04\n",
      "Epoch 10/50\n",
      "\u001b[1m7378/7378\u001b[0m \u001b[32m━━━━━━━━━━━━━━━━━━━━\u001b[0m\u001b[37m\u001b[0m \u001b[1m28s\u001b[0m 4ms/step - loss: 6.6940e-04 - mae: 0.0167 - val_loss: 6.8169e-04 - val_mae: 0.0166 - learning_rate: 2.5000e-04\n",
      "Epoch 11/50\n",
      "\u001b[1m7378/7378\u001b[0m \u001b[32m━━━━━━━━━━━━━━━━━━━━\u001b[0m\u001b[37m\u001b[0m \u001b[1m28s\u001b[0m 4ms/step - loss: 6.6903e-04 - mae: 0.0167 - val_loss: 6.8082e-04 - val_mae: 0.0166 - learning_rate: 1.2500e-04\n",
      "Epoch 12/50\n",
      "\u001b[1m7378/7378\u001b[0m \u001b[32m━━━━━━━━━━━━━━━━━━━━\u001b[0m\u001b[37m\u001b[0m \u001b[1m28s\u001b[0m 4ms/step - loss: 6.6857e-04 - mae: 0.0167 - val_loss: 6.8094e-04 - val_mae: 0.0166 - learning_rate: 1.2500e-04\n",
      "Epoch 13/50\n",
      "\u001b[1m7378/7378\u001b[0m \u001b[32m━━━━━━━━━━━━━━━━━━━━\u001b[0m\u001b[37m\u001b[0m \u001b[1m28s\u001b[0m 4ms/step - loss: 6.6912e-04 - mae: 0.0167 - val_loss: 6.8076e-04 - val_mae: 0.0166 - learning_rate: 1.2500e-04\n",
      "Epoch 14/50\n",
      "\u001b[1m7378/7378\u001b[0m \u001b[32m━━━━━━━━━━━━━━━━━━━━\u001b[0m\u001b[37m\u001b[0m \u001b[1m29s\u001b[0m 4ms/step - loss: 6.6885e-04 - mae: 0.0167 - val_loss: 6.8056e-04 - val_mae: 0.0166 - learning_rate: 6.2500e-05\n",
      "Epoch 15/50\n",
      "\u001b[1m7378/7378\u001b[0m \u001b[32m━━━━━━━━━━━━━━━━━━━━\u001b[0m\u001b[37m\u001b[0m \u001b[1m28s\u001b[0m 4ms/step - loss: 6.6860e-04 - mae: 0.0166 - val_loss: 6.8051e-04 - val_mae: 0.0166 - learning_rate: 6.2500e-05\n",
      "Epoch 16/50\n",
      "\u001b[1m7378/7378\u001b[0m \u001b[32m━━━━━━━━━━━━━━━━━━━━\u001b[0m\u001b[37m\u001b[0m \u001b[1m29s\u001b[0m 4ms/step - loss: 6.6869e-04 - mae: 0.0166 - val_loss: 6.8056e-04 - val_mae: 0.0166 - learning_rate: 6.2500e-05\n",
      "Epoch 17/50\n",
      "\u001b[1m7378/7378\u001b[0m \u001b[32m━━━━━━━━━━━━━━━━━━━━\u001b[0m\u001b[37m\u001b[0m \u001b[1m28s\u001b[0m 4ms/step - loss: 6.6831e-04 - mae: 0.0166 - val_loss: 6.8044e-04 - val_mae: 0.0166 - learning_rate: 3.1250e-05\n",
      "Epoch 18/50\n",
      "\u001b[1m7378/7378\u001b[0m \u001b[32m━━━━━━━━━━━━━━━━━━━━\u001b[0m\u001b[37m\u001b[0m \u001b[1m28s\u001b[0m 4ms/step - loss: 6.6822e-04 - mae: 0.0166 - val_loss: 6.8041e-04 - val_mae: 0.0166 - learning_rate: 3.1250e-05\n",
      "Epoch 19/50\n",
      "\u001b[1m7378/7378\u001b[0m \u001b[32m━━━━━━━━━━━━━━━━━━━━\u001b[0m\u001b[37m\u001b[0m \u001b[1m29s\u001b[0m 4ms/step - loss: 6.6824e-04 - mae: 0.0166 - val_loss: 6.8047e-04 - val_mae: 0.0166 - learning_rate: 3.1250e-05\n",
      "Epoch 20/50\n",
      "\u001b[1m7378/7378\u001b[0m \u001b[32m━━━━━━━━━━━━━━━━━━━━\u001b[0m\u001b[37m\u001b[0m \u001b[1m28s\u001b[0m 4ms/step - loss: 6.6799e-04 - mae: 0.0166 - val_loss: 6.8033e-04 - val_mae: 0.0166 - learning_rate: 1.5625e-05\n",
      "Epoch 21/50\n",
      "\u001b[1m7378/7378\u001b[0m \u001b[32m━━━━━━━━━━━━━━━━━━━━\u001b[0m\u001b[37m\u001b[0m \u001b[1m28s\u001b[0m 4ms/step - loss: 6.6844e-04 - mae: 0.0166 - val_loss: 6.8031e-04 - val_mae: 0.0166 - learning_rate: 1.5625e-05\n",
      "Epoch 22/50\n",
      "\u001b[1m7378/7378\u001b[0m \u001b[32m━━━━━━━━━━━━━━━━━━━━\u001b[0m\u001b[37m\u001b[0m \u001b[1m28s\u001b[0m 4ms/step - loss: 6.6835e-04 - mae: 0.0166 - val_loss: 6.8032e-04 - val_mae: 0.0166 - learning_rate: 1.5625e-05\n",
      "Epoch 23/50\n",
      "\u001b[1m7378/7378\u001b[0m \u001b[32m━━━━━━━━━━━━━━━━━━━━\u001b[0m\u001b[37m\u001b[0m \u001b[1m28s\u001b[0m 4ms/step - loss: 6.6811e-04 - mae: 0.0166 - val_loss: 6.8028e-04 - val_mae: 0.0166 - learning_rate: 7.8125e-06\n",
      "Epoch 24/50\n",
      "\u001b[1m7378/7378\u001b[0m \u001b[32m━━━━━━━━━━━━━━━━━━━━\u001b[0m\u001b[37m\u001b[0m \u001b[1m28s\u001b[0m 4ms/step - loss: 6.6789e-04 - mae: 0.0166 - val_loss: 6.8028e-04 - val_mae: 0.0166 - learning_rate: 7.8125e-06\n",
      "Epoch 25/50\n",
      "\u001b[1m7378/7378\u001b[0m \u001b[32m━━━━━━━━━━━━━━━━━━━━\u001b[0m\u001b[37m\u001b[0m \u001b[1m29s\u001b[0m 4ms/step - loss: 6.6818e-04 - mae: 0.0166 - val_loss: 6.8028e-04 - val_mae: 0.0166 - learning_rate: 7.8125e-06\n",
      "Epoch 26/50\n",
      "\u001b[1m7378/7378\u001b[0m \u001b[32m━━━━━━━━━━━━━━━━━━━━\u001b[0m\u001b[37m\u001b[0m \u001b[1m28s\u001b[0m 4ms/step - loss: 6.6794e-04 - mae: 0.0166 - val_loss: 6.8027e-04 - val_mae: 0.0166 - learning_rate: 3.9063e-06\n",
      "Epoch 27/50\n",
      "\u001b[1m7378/7378\u001b[0m \u001b[32m━━━━━━━━━━━━━━━━━━━━\u001b[0m\u001b[37m\u001b[0m \u001b[1m29s\u001b[0m 4ms/step - loss: 6.6815e-04 - mae: 0.0166 - val_loss: 6.8027e-04 - val_mae: 0.0166 - learning_rate: 3.9063e-06\n",
      "Epoch 28/50\n",
      "\u001b[1m7378/7378\u001b[0m \u001b[32m━━━━━━━━━━━━━━━━━━━━\u001b[0m\u001b[37m\u001b[0m \u001b[1m29s\u001b[0m 4ms/step - loss: 6.6821e-04 - mae: 0.0166 - val_loss: 6.8026e-04 - val_mae: 0.0166 - learning_rate: 3.9063e-06\n",
      "Epoch 29/50\n",
      "\u001b[1m7378/7378\u001b[0m \u001b[32m━━━━━━━━━━━━━━━━━━━━\u001b[0m\u001b[37m\u001b[0m \u001b[1m28s\u001b[0m 4ms/step - loss: 6.6803e-04 - mae: 0.0166 - val_loss: 6.8026e-04 - val_mae: 0.0166 - learning_rate: 1.9531e-06\n",
      "Epoch 30/50\n",
      "\u001b[1m7378/7378\u001b[0m \u001b[32m━━━━━━━━━━━━━━━━━━━━\u001b[0m\u001b[37m\u001b[0m \u001b[1m30s\u001b[0m 4ms/step - loss: 6.6800e-04 - mae: 0.0166 - val_loss: 6.8026e-04 - val_mae: 0.0166 - learning_rate: 1.9531e-06\n",
      "Epoch 31/50\n",
      "\u001b[1m7378/7378\u001b[0m \u001b[32m━━━━━━━━━━━━━━━━━━━━\u001b[0m\u001b[37m\u001b[0m \u001b[1m29s\u001b[0m 4ms/step - loss: 6.6842e-04 - mae: 0.0166 - val_loss: 6.8025e-04 - val_mae: 0.0166 - learning_rate: 1.9531e-06\n",
      "Epoch 32/50\n",
      "\u001b[1m7378/7378\u001b[0m \u001b[32m━━━━━━━━━━━━━━━━━━━━\u001b[0m\u001b[37m\u001b[0m \u001b[1m28s\u001b[0m 4ms/step - loss: 6.6805e-04 - mae: 0.0166 - val_loss: 6.8025e-04 - val_mae: 0.0166 - learning_rate: 1.0000e-06\n",
      "Epoch 33/50\n",
      "\u001b[1m7378/7378\u001b[0m \u001b[32m━━━━━━━━━━━━━━━━━━━━\u001b[0m\u001b[37m\u001b[0m \u001b[1m29s\u001b[0m 4ms/step - loss: 6.6803e-04 - mae: 0.0166 - val_loss: 6.8025e-04 - val_mae: 0.0166 - learning_rate: 1.0000e-06\n",
      "Epoch 34/50\n",
      "\u001b[1m7378/7378\u001b[0m \u001b[32m━━━━━━━━━━━━━━━━━━━━\u001b[0m\u001b[37m\u001b[0m \u001b[1m29s\u001b[0m 4ms/step - loss: 6.6816e-04 - mae: 0.0166 - val_loss: 6.8025e-04 - val_mae: 0.0166 - learning_rate: 1.0000e-06\n",
      "Epoch 35/50\n",
      "\u001b[1m7378/7378\u001b[0m \u001b[32m━━━━━━━━━━━━━━━━━━━━\u001b[0m\u001b[37m\u001b[0m \u001b[1m28s\u001b[0m 4ms/step - loss: 6.6846e-04 - mae: 0.0166 - val_loss: 6.8025e-04 - val_mae: 0.0166 - learning_rate: 1.0000e-06\n",
      "Epoch 36/50\n",
      "\u001b[1m7378/7378\u001b[0m \u001b[32m━━━━━━━━━━━━━━━━━━━━\u001b[0m\u001b[37m\u001b[0m \u001b[1m28s\u001b[0m 4ms/step - loss: 6.6809e-04 - mae: 0.0166 - val_loss: 6.8025e-04 - val_mae: 0.0166 - learning_rate: 1.0000e-06\n",
      "Epoch 37/50\n",
      "\u001b[1m7378/7378\u001b[0m \u001b[32m━━━━━━━━━━━━━━━━━━━━\u001b[0m\u001b[37m\u001b[0m \u001b[1m30s\u001b[0m 4ms/step - loss: 6.6813e-04 - mae: 0.0166 - val_loss: 6.8025e-04 - val_mae: 0.0166 - learning_rate: 1.0000e-06\n",
      "Epoch 38/50\n",
      "\u001b[1m7378/7378\u001b[0m \u001b[32m━━━━━━━━━━━━━━━━━━━━\u001b[0m\u001b[37m\u001b[0m \u001b[1m29s\u001b[0m 4ms/step - loss: 6.6836e-04 - mae: 0.0166 - val_loss: 6.8025e-04 - val_mae: 0.0166 - learning_rate: 1.0000e-06\n",
      "Epoch 39/50\n",
      "\u001b[1m7378/7378\u001b[0m \u001b[32m━━━━━━━━━━━━━━━━━━━━\u001b[0m\u001b[37m\u001b[0m \u001b[1m28s\u001b[0m 4ms/step - loss: 6.6813e-04 - mae: 0.0166 - val_loss: 6.8025e-04 - val_mae: 0.0166 - learning_rate: 1.0000e-06\n",
      "Epoch 40/50\n",
      "\u001b[1m7378/7378\u001b[0m \u001b[32m━━━━━━━━━━━━━━━━━━━━\u001b[0m\u001b[37m\u001b[0m \u001b[1m28s\u001b[0m 4ms/step - loss: 6.6804e-04 - mae: 0.0166 - val_loss: 6.8025e-04 - val_mae: 0.0166 - learning_rate: 1.0000e-06\n",
      "Epoch 41/50\n",
      "\u001b[1m7378/7378\u001b[0m \u001b[32m━━━━━━━━━━━━━━━━━━━━\u001b[0m\u001b[37m\u001b[0m \u001b[1m29s\u001b[0m 4ms/step - loss: 6.6822e-04 - mae: 0.0166 - val_loss: 6.8025e-04 - val_mae: 0.0166 - learning_rate: 1.0000e-06\n",
      "Epoch 42/50\n",
      "\u001b[1m7378/7378\u001b[0m \u001b[32m━━━━━━━━━━━━━━━━━━━━\u001b[0m\u001b[37m\u001b[0m \u001b[1m29s\u001b[0m 4ms/step - loss: 6.6817e-04 - mae: 0.0166 - val_loss: 6.8024e-04 - val_mae: 0.0166 - learning_rate: 1.0000e-06\n",
      "Epoch 43/50\n",
      "\u001b[1m7378/7378\u001b[0m \u001b[32m━━━━━━━━━━━━━━━━━━━━\u001b[0m\u001b[37m\u001b[0m \u001b[1m28s\u001b[0m 4ms/step - loss: 6.6816e-04 - mae: 0.0166 - val_loss: 6.8024e-04 - val_mae: 0.0166 - learning_rate: 1.0000e-06\n",
      "Epoch 44/50\n",
      "\u001b[1m7378/7378\u001b[0m \u001b[32m━━━━━━━━━━━━━━━━━━━━\u001b[0m\u001b[37m\u001b[0m \u001b[1m28s\u001b[0m 4ms/step - loss: 6.6853e-04 - mae: 0.0166 - val_loss: 6.8024e-04 - val_mae: 0.0166 - learning_rate: 1.0000e-06\n",
      "Epoch 45/50\n",
      "\u001b[1m7378/7378\u001b[0m \u001b[32m━━━━━━━━━━━━━━━━━━━━\u001b[0m\u001b[37m\u001b[0m \u001b[1m29s\u001b[0m 4ms/step - loss: 6.6786e-04 - mae: 0.0166 - val_loss: 6.8024e-04 - val_mae: 0.0166 - learning_rate: 1.0000e-06\n",
      "Epoch 46/50\n",
      "\u001b[1m7378/7378\u001b[0m \u001b[32m━━━━━━━━━━━━━━━━━━━━\u001b[0m\u001b[37m\u001b[0m \u001b[1m29s\u001b[0m 4ms/step - loss: 6.6819e-04 - mae: 0.0166 - val_loss: 6.8024e-04 - val_mae: 0.0166 - learning_rate: 1.0000e-06\n",
      "Epoch 47/50\n",
      "\u001b[1m7378/7378\u001b[0m \u001b[32m━━━━━━━━━━━━━━━━━━━━\u001b[0m\u001b[37m\u001b[0m \u001b[1m28s\u001b[0m 4ms/step - loss: 6.6803e-04 - mae: 0.0166 - val_loss: 6.8024e-04 - val_mae: 0.0166 - learning_rate: 1.0000e-06\n",
      "Epoch 48/50\n",
      "\u001b[1m7378/7378\u001b[0m \u001b[32m━━━━━━━━━━━━━━━━━━━━\u001b[0m\u001b[37m\u001b[0m \u001b[1m28s\u001b[0m 4ms/step - loss: 6.6799e-04 - mae: 0.0166 - val_loss: 6.8025e-04 - val_mae: 0.0166 - learning_rate: 1.0000e-06\n",
      "Epoch 49/50\n",
      "\u001b[1m7378/7378\u001b[0m \u001b[32m━━━━━━━━━━━━━━━━━━━━\u001b[0m\u001b[37m\u001b[0m \u001b[1m29s\u001b[0m 4ms/step - loss: 6.6794e-04 - mae: 0.0166 - val_loss: 6.8025e-04 - val_mae: 0.0166 - learning_rate: 1.0000e-06\n",
      "\u001b[1m  62/1079\u001b[0m \u001b[32m━\u001b[0m\u001b[37m━━━━━━━━━━━━━━━━━━━\u001b[0m \u001b[1m1s\u001b[0m 2ms/step"
     ]
    },
    {
     "name": "stderr",
     "output_type": "stream",
     "text": [
      "2025-04-01 22:54:54.793634: E tensorflow/core/framework/node_def_util.cc:676] NodeDef mentions attribute use_unbounded_threadpool which is not in the op definition: Op<name=MapDataset; signature=input_dataset:variant, other_arguments: -> handle:variant; attr=f:func; attr=Targuments:list(type),min=0; attr=output_types:list(type),min=1; attr=output_shapes:list(shape),min=1; attr=use_inter_op_parallelism:bool,default=true; attr=preserve_cardinality:bool,default=false; attr=force_synchronous:bool,default=false; attr=metadata:string,default=\"\"> This may be expected if your graph generating binary is newer  than this binary. Unknown attributes will be ignored. NodeDef: {{node ParallelMapDatasetV2/_14}}\n",
      "2025-04-01 22:54:54.793982: E tensorflow/core/framework/node_def_util.cc:676] NodeDef mentions attribute use_unbounded_threadpool which is not in the op definition: Op<name=MapDataset; signature=input_dataset:variant, other_arguments: -> handle:variant; attr=f:func; attr=Targuments:list(type),min=0; attr=output_types:list(type),min=1; attr=output_shapes:list(shape),min=1; attr=use_inter_op_parallelism:bool,default=true; attr=preserve_cardinality:bool,default=false; attr=force_synchronous:bool,default=false; attr=metadata:string,default=\"\"> This may be expected if your graph generating binary is newer  than this binary. Unknown attributes will be ignored. NodeDef: {{node ParallelMapDatasetV2/_14}}\n"
     ]
    },
    {
     "name": "stdout",
     "output_type": "stream",
     "text": [
      "\u001b[1m1079/1079\u001b[0m \u001b[32m━━━━━━━━━━━━━━━━━━━━\u001b[0m\u001b[37m\u001b[0m \u001b[1m2s\u001b[0m 2ms/step\n"
     ]
    }
   ],
   "source": [
    "Token = 'SOL'\n",
    "print(f\"Processing {Token}...\")\n",
    "s_model_val, s_y_val, s_y_pred, s_dates_val, s_close_prices_val = train_and_evaluate_model_validation(df, feature_cols, validation, Token)\n"
   ]
  },
  {
   "cell_type": "code",
   "execution_count": 46,
   "metadata": {},
   "outputs": [],
   "source": [
    "# Log trades and update cumulative returns\n",
    "sol_trades_val = log_trades(s_dates_val, s_y_val.flatten(), s_y_pred.flatten(), s_close_prices_val, Token)\n",
    "all_trades_val.append(sol_trades_val)"
   ]
  },
  {
   "cell_type": "code",
   "execution_count": 47,
   "metadata": {},
   "outputs": [
    {
     "name": "stdout",
     "output_type": "stream",
     "text": [
      "Processing XRP...\n",
      "Epoch 1/50\n",
      "\u001b[1m3680/3689\u001b[0m \u001b[32m━━━━━━━━━━━━━━━━━━━\u001b[0m\u001b[37m━\u001b[0m \u001b[1m0s\u001b[0m 5ms/step - loss: 0.0078 - mae: 0.0501"
     ]
    },
    {
     "name": "stderr",
     "output_type": "stream",
     "text": [
      "2025-04-01 22:55:15.681550: E tensorflow/core/framework/node_def_util.cc:676] NodeDef mentions attribute use_unbounded_threadpool which is not in the op definition: Op<name=MapDataset; signature=input_dataset:variant, other_arguments: -> handle:variant; attr=f:func; attr=Targuments:list(type),min=0; attr=output_types:list(type),min=1; attr=output_shapes:list(shape),min=1; attr=use_inter_op_parallelism:bool,default=true; attr=preserve_cardinality:bool,default=false; attr=force_synchronous:bool,default=false; attr=metadata:string,default=\"\"> This may be expected if your graph generating binary is newer  than this binary. Unknown attributes will be ignored. NodeDef: {{node ParallelMapDatasetV2/_15}}\n",
      "2025-04-01 22:55:15.681918: E tensorflow/core/framework/node_def_util.cc:676] NodeDef mentions attribute use_unbounded_threadpool which is not in the op definition: Op<name=MapDataset; signature=input_dataset:variant, other_arguments: -> handle:variant; attr=f:func; attr=Targuments:list(type),min=0; attr=output_types:list(type),min=1; attr=output_shapes:list(shape),min=1; attr=use_inter_op_parallelism:bool,default=true; attr=preserve_cardinality:bool,default=false; attr=force_synchronous:bool,default=false; attr=metadata:string,default=\"\"> This may be expected if your graph generating binary is newer  than this binary. Unknown attributes will be ignored. NodeDef: {{node ParallelMapDatasetV2/_15}}\n"
     ]
    },
    {
     "name": "stdout",
     "output_type": "stream",
     "text": [
      "\u001b[1m3689/3689\u001b[0m \u001b[32m━━━━━━━━━━━━━━━━━━━━\u001b[0m\u001b[37m\u001b[0m \u001b[1m20s\u001b[0m 5ms/step - loss: 0.0078 - mae: 0.0500 - val_loss: 7.6765e-04 - val_mae: 0.0199 - learning_rate: 0.0010\n",
      "Epoch 2/50\n",
      "\u001b[1m3689/3689\u001b[0m \u001b[32m━━━━━━━━━━━━━━━━━━━━\u001b[0m\u001b[37m\u001b[0m \u001b[1m18s\u001b[0m 5ms/step - loss: 2.1389e-04 - mae: 0.0100 - val_loss: 9.0496e-04 - val_mae: 0.0229 - learning_rate: 0.0010\n",
      "Epoch 3/50\n",
      "\u001b[1m3689/3689\u001b[0m \u001b[32m━━━━━━━━━━━━━━━━━━━━\u001b[0m\u001b[37m\u001b[0m \u001b[1m18s\u001b[0m 5ms/step - loss: 1.6947e-04 - mae: 0.0083 - val_loss: 7.4548e-04 - val_mae: 0.0194 - learning_rate: 0.0010\n",
      "Epoch 4/50\n",
      "\u001b[1m3689/3689\u001b[0m \u001b[32m━━━━━━━━━━━━━━━━━━━━\u001b[0m\u001b[37m\u001b[0m \u001b[1m18s\u001b[0m 5ms/step - loss: 1.6343e-04 - mae: 0.0080 - val_loss: 7.3306e-04 - val_mae: 0.0191 - learning_rate: 0.0010\n",
      "Epoch 5/50\n",
      "\u001b[1m3689/3689\u001b[0m \u001b[32m━━━━━━━━━━━━━━━━━━━━\u001b[0m\u001b[37m\u001b[0m \u001b[1m18s\u001b[0m 5ms/step - loss: 1.5952e-04 - mae: 0.0078 - val_loss: 7.4367e-04 - val_mae: 0.0194 - learning_rate: 5.0000e-04\n",
      "Epoch 6/50\n",
      "\u001b[1m3689/3689\u001b[0m \u001b[32m━━━━━━━━━━━━━━━━━━━━\u001b[0m\u001b[37m\u001b[0m \u001b[1m18s\u001b[0m 5ms/step - loss: 1.5929e-04 - mae: 0.0078 - val_loss: 7.4675e-04 - val_mae: 0.0194 - learning_rate: 5.0000e-04\n",
      "Epoch 7/50\n",
      "\u001b[1m3689/3689\u001b[0m \u001b[32m━━━━━━━━━━━━━━━━━━━━\u001b[0m\u001b[37m\u001b[0m \u001b[1m19s\u001b[0m 5ms/step - loss: 1.5917e-04 - mae: 0.0078 - val_loss: 7.4568e-04 - val_mae: 0.0194 - learning_rate: 5.0000e-04\n",
      "Epoch 8/50\n",
      "\u001b[1m3689/3689\u001b[0m \u001b[32m━━━━━━━━━━━━━━━━━━━━\u001b[0m\u001b[37m\u001b[0m \u001b[1m21s\u001b[0m 6ms/step - loss: 1.5873e-04 - mae: 0.0078 - val_loss: 7.4680e-04 - val_mae: 0.0195 - learning_rate: 2.5000e-04\n",
      "Epoch 9/50\n",
      "\u001b[1m3689/3689\u001b[0m \u001b[32m━━━━━━━━━━━━━━━━━━━━\u001b[0m\u001b[37m\u001b[0m \u001b[1m20s\u001b[0m 5ms/step - loss: 1.5870e-04 - mae: 0.0078 - val_loss: 7.4861e-04 - val_mae: 0.0195 - learning_rate: 2.5000e-04\n",
      "\u001b[1m  62/1079\u001b[0m \u001b[32m━\u001b[0m\u001b[37m━━━━━━━━━━━━━━━━━━━\u001b[0m \u001b[1m1s\u001b[0m 2ms/step"
     ]
    },
    {
     "name": "stderr",
     "output_type": "stream",
     "text": [
      "2025-04-01 22:57:48.008131: E tensorflow/core/framework/node_def_util.cc:676] NodeDef mentions attribute use_unbounded_threadpool which is not in the op definition: Op<name=MapDataset; signature=input_dataset:variant, other_arguments: -> handle:variant; attr=f:func; attr=Targuments:list(type),min=0; attr=output_types:list(type),min=1; attr=output_shapes:list(shape),min=1; attr=use_inter_op_parallelism:bool,default=true; attr=preserve_cardinality:bool,default=false; attr=force_synchronous:bool,default=false; attr=metadata:string,default=\"\"> This may be expected if your graph generating binary is newer  than this binary. Unknown attributes will be ignored. NodeDef: {{node ParallelMapDatasetV2/_14}}\n",
      "2025-04-01 22:57:48.008462: E tensorflow/core/framework/node_def_util.cc:676] NodeDef mentions attribute use_unbounded_threadpool which is not in the op definition: Op<name=MapDataset; signature=input_dataset:variant, other_arguments: -> handle:variant; attr=f:func; attr=Targuments:list(type),min=0; attr=output_types:list(type),min=1; attr=output_shapes:list(shape),min=1; attr=use_inter_op_parallelism:bool,default=true; attr=preserve_cardinality:bool,default=false; attr=force_synchronous:bool,default=false; attr=metadata:string,default=\"\"> This may be expected if your graph generating binary is newer  than this binary. Unknown attributes will be ignored. NodeDef: {{node ParallelMapDatasetV2/_14}}\n"
     ]
    },
    {
     "name": "stdout",
     "output_type": "stream",
     "text": [
      "\u001b[1m1079/1079\u001b[0m \u001b[32m━━━━━━━━━━━━━━━━━━━━\u001b[0m\u001b[37m\u001b[0m \u001b[1m2s\u001b[0m 2ms/step\n"
     ]
    }
   ],
   "source": [
    "Token = 'XRP'\n",
    "print(f\"Processing {Token}...\")\n",
    "xrp_model_val, xrp_y_val, xrp_y_pred, xrp_dates_val, xrp_close_prices_val = train_and_evaluate_model_validation(df, feature_cols, validation, Token)\n"
   ]
  },
  {
   "cell_type": "code",
   "execution_count": 48,
   "metadata": {},
   "outputs": [],
   "source": [
    "# Log trades and update cumulative returns\n",
    "xrp_trades_val = log_trades(xrp_dates_val, xrp_y_val.flatten(), xrp_y_pred.flatten(), xrp_close_prices_val, Token)\n",
    "all_trades_val.append(xrp_trades_val)"
   ]
  },
  {
   "cell_type": "code",
   "execution_count": 49,
   "metadata": {},
   "outputs": [],
   "source": [
    "#all_trades = [btc_trades, eth_trades, sol_trades, xrp_trades]"
   ]
  },
  {
   "cell_type": "code",
   "execution_count": 57,
   "metadata": {},
   "outputs": [
    {
     "data": {
      "image/png": "[encoded data removed]",
      "text/plain": [
       "<Figure size 1200x600 with 1 Axes>"
      ]
     },
     "metadata": {},
     "output_type": "display_data"
    }
   ],
   "source": [
    "\n",
    "# Combine all trades into a single DataFrame\n",
    "all_trades_val_df = pd.concat(all_trades_val, ignore_index=True)\n",
    "\n",
    "# Plot cumulative returns for all stocks\n",
    "plot_cumulative_returns(all_trades_val_df)"
   ]
  },
  {
   "cell_type": "code",
   "execution_count": 58,
   "metadata": {},
   "outputs": [],
   "source": [
    "all_trades_val_df['Rolling_Risk'] = all_trades_val_df.groupby('Token')['Actual_Return'].transform(lambda x: x.rolling(window=10).std())\n",
    "all_trades_val_df['Rolling_Average'] = all_trades_val_df.groupby('Token')['Actual_Return'].transform(lambda x: x.rolling(window=10).mean())\n",
    "all_trades_val_df = all_trades_val_df.rename(columns={'Token': 'Ticker'})"
   ]
  },
  {
   "cell_type": "code",
   "execution_count": 59,
   "metadata": {},
   "outputs": [
    {
     "data": {
      "text/html": [
       "<div>\n",
       "<style scoped>\n",
       "    .dataframe tbody tr th:only-of-type {\n",
       "        vertical-align: middle;\n",
       "    }\n",
       "\n",
       "    .dataframe tbody tr th {\n",
       "        vertical-align: top;\n",
       "    }\n",
       "\n",
       "    .dataframe thead th {\n",
       "        text-align: right;\n",
       "    }\n",
       "</style>\n",
       "<table border=\"1\" class=\"dataframe\">\n",
       "  <thead>\n",
       "    <tr style=\"text-align: right;\">\n",
       "      <th></th>\n",
       "      <th>Date</th>\n",
       "      <th>Stock_Close_Price</th>\n",
       "      <th>Predicted_Return</th>\n",
       "      <th>Actual_Return</th>\n",
       "      <th>Position</th>\n",
       "      <th>Cumulative_Return</th>\n",
       "      <th>Ticker</th>\n",
       "      <th>Rolling_Risk</th>\n",
       "      <th>Rolling_Average</th>\n",
       "    </tr>\n",
       "  </thead>\n",
       "  <tbody>\n",
       "    <tr>\n",
       "      <th>0</th>\n",
       "      <td>2025-03-01 00:47:00</td>\n",
       "      <td>84171.7000</td>\n",
       "      <td>0.000037</td>\n",
       "      <td>-0.001042</td>\n",
       "      <td>LONG</td>\n",
       "      <td>-0.001042</td>\n",
       "      <td>BTC</td>\n",
       "      <td>NaN</td>\n",
       "      <td>NaN</td>\n",
       "    </tr>\n",
       "    <tr>\n",
       "      <th>1</th>\n",
       "      <td>2025-03-01 00:48:00</td>\n",
       "      <td>84084.0100</td>\n",
       "      <td>0.000036</td>\n",
       "      <td>-0.000410</td>\n",
       "      <td>LONG</td>\n",
       "      <td>-0.001451</td>\n",
       "      <td>BTC</td>\n",
       "      <td>NaN</td>\n",
       "      <td>NaN</td>\n",
       "    </tr>\n",
       "    <tr>\n",
       "      <th>2</th>\n",
       "      <td>2025-03-01 00:49:00</td>\n",
       "      <td>84049.5300</td>\n",
       "      <td>0.000038</td>\n",
       "      <td>0.000084</td>\n",
       "      <td>LONG</td>\n",
       "      <td>-0.001367</td>\n",
       "      <td>BTC</td>\n",
       "      <td>NaN</td>\n",
       "      <td>NaN</td>\n",
       "    </tr>\n",
       "    <tr>\n",
       "      <th>3</th>\n",
       "      <td>2025-03-01 00:50:00</td>\n",
       "      <td>84056.6000</td>\n",
       "      <td>0.000034</td>\n",
       "      <td>-0.001631</td>\n",
       "      <td>LONG</td>\n",
       "      <td>-0.002996</td>\n",
       "      <td>BTC</td>\n",
       "      <td>NaN</td>\n",
       "      <td>NaN</td>\n",
       "    </tr>\n",
       "    <tr>\n",
       "      <th>4</th>\n",
       "      <td>2025-03-01 00:51:00</td>\n",
       "      <td>83919.4900</td>\n",
       "      <td>0.000036</td>\n",
       "      <td>-0.000054</td>\n",
       "      <td>LONG</td>\n",
       "      <td>-0.003050</td>\n",
       "      <td>BTC</td>\n",
       "      <td>NaN</td>\n",
       "      <td>NaN</td>\n",
       "    </tr>\n",
       "    <tr>\n",
       "      <th>...</th>\n",
       "      <td>...</td>\n",
       "      <td>...</td>\n",
       "      <td>...</td>\n",
       "      <td>...</td>\n",
       "      <td>...</td>\n",
       "      <td>...</td>\n",
       "      <td>...</td>\n",
       "      <td>...</td>\n",
       "      <td>...</td>\n",
       "    </tr>\n",
       "    <tr>\n",
       "      <th>138051</th>\n",
       "      <td>2025-03-24 23:56:00</td>\n",
       "      <td>2.4481</td>\n",
       "      <td>0.000105</td>\n",
       "      <td>0.000041</td>\n",
       "      <td>LONG</td>\n",
       "      <td>0.133310</td>\n",
       "      <td>XRP</td>\n",
       "      <td>0.000619</td>\n",
       "      <td>0.000147</td>\n",
       "    </tr>\n",
       "    <tr>\n",
       "      <th>138052</th>\n",
       "      <td>2025-03-24 23:57:00</td>\n",
       "      <td>2.4482</td>\n",
       "      <td>0.000103</td>\n",
       "      <td>0.001062</td>\n",
       "      <td>LONG</td>\n",
       "      <td>0.134514</td>\n",
       "      <td>XRP</td>\n",
       "      <td>0.000656</td>\n",
       "      <td>0.000286</td>\n",
       "    </tr>\n",
       "    <tr>\n",
       "      <th>138053</th>\n",
       "      <td>2025-03-24 23:58:00</td>\n",
       "      <td>2.4508</td>\n",
       "      <td>0.000103</td>\n",
       "      <td>-0.000286</td>\n",
       "      <td>LONG</td>\n",
       "      <td>0.134190</td>\n",
       "      <td>XRP</td>\n",
       "      <td>0.000680</td>\n",
       "      <td>0.000229</td>\n",
       "    </tr>\n",
       "    <tr>\n",
       "      <th>138054</th>\n",
       "      <td>2025-03-24 23:59:00</td>\n",
       "      <td>2.4501</td>\n",
       "      <td>0.000101</td>\n",
       "      <td>-0.001265</td>\n",
       "      <td>LONG</td>\n",
       "      <td>0.132755</td>\n",
       "      <td>XRP</td>\n",
       "      <td>0.000820</td>\n",
       "      <td>0.000058</td>\n",
       "    </tr>\n",
       "    <tr>\n",
       "      <th>138055</th>\n",
       "      <td>2025-03-25 00:00:00</td>\n",
       "      <td>2.4470</td>\n",
       "      <td>0.000103</td>\n",
       "      <td>0.000613</td>\n",
       "      <td>LONG</td>\n",
       "      <td>0.133449</td>\n",
       "      <td>XRP</td>\n",
       "      <td>0.000838</td>\n",
       "      <td>0.000119</td>\n",
       "    </tr>\n",
       "  </tbody>\n",
       "</table>\n",
       "<p>138056 rows × 9 columns</p>\n",
       "</div>"
      ],
      "text/plain": [
       "                      Date  Stock_Close_Price  Predicted_Return  \\\n",
       "0      2025-03-01 00:47:00         84171.7000          0.000037   \n",
       "1      2025-03-01 00:48:00         84084.0100          0.000036   \n",
       "2      2025-03-01 00:49:00         84049.5300          0.000038   \n",
       "3      2025-03-01 00:50:00         84056.6000          0.000034   \n",
       "4      2025-03-01 00:51:00         83919.4900          0.000036   \n",
       "...                    ...                ...               ...   \n",
       "138051 2025-03-24 23:56:00             2.4481          0.000105   \n",
       "138052 2025-03-24 23:57:00             2.4482          0.000103   \n",
       "138053 2025-03-24 23:58:00             2.4508          0.000103   \n",
       "138054 2025-03-24 23:59:00             2.4501          0.000101   \n",
       "138055 2025-03-25 00:00:00             2.4470          0.000103   \n",
       "\n",
       "        Actual_Return Position  Cumulative_Return Ticker  Rolling_Risk  \\\n",
       "0           -0.001042     LONG          -0.001042    BTC           NaN   \n",
       "1           -0.000410     LONG          -0.001451    BTC           NaN   \n",
       "2            0.000084     LONG          -0.001367    BTC           NaN   \n",
       "3           -0.001631     LONG          -0.002996    BTC           NaN   \n",
       "4           -0.000054     LONG          -0.003050    BTC           NaN   \n",
       "...               ...      ...                ...    ...           ...   \n",
       "138051       0.000041     LONG           0.133310    XRP      0.000619   \n",
       "138052       0.001062     LONG           0.134514    XRP      0.000656   \n",
       "138053      -0.000286     LONG           0.134190    XRP      0.000680   \n",
       "138054      -0.001265     LONG           0.132755    XRP      0.000820   \n",
       "138055       0.000613     LONG           0.133449    XRP      0.000838   \n",
       "\n",
       "        Rolling_Average  \n",
       "0                   NaN  \n",
       "1                   NaN  \n",
       "2                   NaN  \n",
       "3                   NaN  \n",
       "4                   NaN  \n",
       "...                 ...  \n",
       "138051         0.000147  \n",
       "138052         0.000286  \n",
       "138053         0.000229  \n",
       "138054         0.000058  \n",
       "138055         0.000119  \n",
       "\n",
       "[138056 rows x 9 columns]"
      ]
     },
     "execution_count": 59,
     "metadata": {},
     "output_type": "execute_result"
    }
   ],
   "source": [
    "all_trades_val_df"
   ]
  },
  {
   "cell_type": "code",
   "execution_count": 62,
   "metadata": {},
   "outputs": [],
   "source": [
    "all_trades_val_df.to_csv(\"returns.csv\")"
   ]
  },
  {
   "cell_type": "code",
   "execution_count": 53,
   "metadata": {},
   "outputs": [
    {
     "name": "stdout",
     "output_type": "stream",
     "text": [
      "  Token  Buy & Hold Return (%)  Trading Strategy Return (%)\n",
      "0   BTC                   2.08                         3.23\n",
      "1   ETH                   2.94                        53.33\n",
      "2   SOL                   5.80                        73.74\n",
      "3   XRP                  -0.48                        13.34\n"
     ]
    }
   ],
   "source": [
    "\n",
    "\n",
    "# Function to calculate returns for both strategies during the test period\n",
    "def calculate_strategy_returns_validation(df, all_trades_val_df):\n",
    "    results = []\n",
    "\n",
    "    for Token in df['Token'].unique():\n",
    "        df_Token = df[df['Token'] == Token].sort_values('Datetime')\n",
    "\n",
    "        # Split data (80% train, 20% test)\n",
    "        split_index = int(len(df_Token) * 0.8)\n",
    "        df_test = df_Token.iloc[split_index:]  # Select last 20%\n",
    "\n",
    "        if df_test.empty:\n",
    "            continue  # Skip if no test data\n",
    "\n",
    "        # Buy & Hold Strategy Return\n",
    "        initial_price = df_test['Close'].iloc[0]\n",
    "        final_price = df_test['Close'].iloc[-1]\n",
    "        buy_and_hold_return = (final_price / initial_price) - 1\n",
    "\n",
    "        # Trading Strategy Return (from the logged trades)\n",
    "        df_trades = all_trades_val_df[all_trades_val_df['Token'] == Token]\n",
    "        strategy_return = df_trades['Cumulative_Return'].iloc[-1] if not df_trades.empty else None\n",
    "\n",
    "        results.append({\n",
    "            \"Token\": Token,\n",
    "            \"Buy & Hold Return (%)\": round(buy_and_hold_return * 100, 2),\n",
    "            \"Trading Strategy Return (%)\": round(strategy_return * 100, 2) if strategy_return is not None else None\n",
    "        })\n",
    "\n",
    "    return pd.DataFrame(results)\n",
    "\n",
    "# Check if trading results exist\n",
    "if 'all_trades_df' in globals():\n",
    "    strategy_returns_df = calculate_strategy_returns(validation, all_trades_val_df)\n",
    "    print(strategy_returns_df)\n",
    "else:\n",
    "    print(\"Trading strategy results are missing. Please re-run the trading model first.\")\n",
    "\n",
    "\n"
   ]
  }
 ],
 "metadata": {
  "kernelspec": {
   "display_name": "venv",
   "language": "python",
   "name": "python3"
  },
  "language_info": {
   "codemirror_mode": {
    "name": "ipython",
    "version": 3
   },
   "file_extension": ".py",
   "mimetype": "text/x-python",
   "name": "python",
   "nbconvert_exporter": "python",
   "pygments_lexer": "ipython3",
   "version": "3.12.4"
  }
 },
 "nbformat": 4,
 "nbformat_minor": 2
}
