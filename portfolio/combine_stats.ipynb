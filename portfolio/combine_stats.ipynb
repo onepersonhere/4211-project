{
 "cells": [
  {
   "cell_type": "markdown",
   "id": "overview",
   "metadata": {},
   "source": [
    "# Portfolio Statistics Aggregator\n",
    "\n",
    "This notebook lets you input the summary statistics for each period (e.g. each 7‑day period) and then computes an aggregated overall statistic for the full combined period. The input statistics for each period are assumed to be:\n",
    "\n",
    "- **Final Portfolio Value** (as a growth factor over the period, e.g. 1.0179 means a 1.79% gain)\n",
    "- **Annualized Sharpe Ratio** (calculated from the 2‑minute returns within that period using the formula: \n",
    "  ```python\n",
    "  ann_sharpe = (mean_ret / std_ret) * np.sqrt(195 * 252)\n",
    "  ```\n",
    "  where 195 is the number of intervals per day and 252 is the number of trading days per year)\n",
    "- **Maximum Drawdown** (given as a negative percentage, e.g. -7.39%)\n",
    "- **Win Rate** (the percentage of intervals with positive returns)\n",
    "\n",
    "### Aggregation Method\n",
    "\n",
    "- **Final Portfolio Value:** The overall growth factor is computed as the product of each period's final portfolio value.\n",
    "- **Annualized Sharpe Ratio:** As an approximation, the overall Sharpe is taken as the simple average of the period Sharpe ratios (this is only an estimate since Sharpe ratios are not directly additive).\n",
    "- **Maximum Drawdown:** We take the worst (most negative) drawdown across the periods as the combined drawdown.\n",
    "- **Win Rate:** With equal-length periods, the overall win rate is approximated by the average of the period win rates.\n",
    "\n",
    "Feel free to adjust these methods if you have additional information (such as the number of intervals per period) or if you have the underlying return series available."
   ]
  },
  {
   "cell_type": "code",
   "execution_count": 2,
   "id": "input_stats",
   "metadata": {
    "ExecuteTime": {
     "end_time": "2025-04-04T08:47:30.032966Z",
     "start_time": "2025-04-04T08:47:30.022472Z"
    }
   },
   "outputs": [
    {
     "name": "stdout",
     "output_type": "stream",
     "text": [
      "Input Period Statistics:\n",
      "   Final_Portfolio_Value  Annualized_Sharpe  Max_Drawdown  Win_Rate  \\\n",
      "0               1.040303           3.814032     -0.067749  0.530130   \n",
      "1               1.052549           4.738009     -0.037012  0.516081   \n",
      "2               1.032088           3.149347     -0.080200  0.514260   \n",
      "3               1.018754           2.080986     -0.074128  0.497364   \n",
      "\n",
      "   Period_End                     Method  \n",
      "0  2025-03-08  max_return_for_volatility  \n",
      "1  2025-03-15  max_return_for_volatility  \n",
      "2  2025-03-22  max_return_for_volatility  \n",
      "3  2025-03-29  max_return_for_volatility  \n",
      "\n",
      "Combined Portfolio Performance Across Periods:\n",
      "Combined Final Portfolio Value : 1.1513\n",
      "Combined Annualized Sharpe     : 3.4456\n",
      "Combined Maximum Drawdown      : -8.02%\n",
      "Combined Win Rate              : 51.45%\n",
      "Estimated Annualized Return    : 255.38%\n"
     ]
    }
   ],
   "source": [
    "import numpy as np\n",
    "import pandas as pd\n",
    "\n",
    "# --- Load weekly stats from CSV ---\n",
    "file_path = \"weekly_portfolio_stats.csv\"\n",
    "df = pd.read_csv(file_path)\n",
    "\n",
    "print(\"Input Period Statistics:\")\n",
    "print(df)\n",
    "\n",
    "# --- Aggregating the Statistics ---\n",
    "\n",
    "# 1. Final Portfolio Value: Multiply the period values to get the overall growth factor\n",
    "combined_final_value = np.prod(df['Final_Portfolio_Value'])\n",
    "\n",
    "# 2. Annualized Sharpe Ratio: Average of individual Sharpe ratios\n",
    "combined_sharpe = df['Annualized_Sharpe'].mean()\n",
    "\n",
    "# 3. Maximum Drawdown: Worst (most negative)\n",
    "combined_drawdown = df['Max_Drawdown'].min()\n",
    "\n",
    "# 4. Win Rate: Average across periods\n",
    "combined_win_rate = df['Win_Rate'].mean()\n",
    "\n",
    "# --- Calculate Annualized Return ---\n",
    "# Each period is 7 days (weekly rebalancing)\n",
    "total_days = len(df) * 7\n",
    "annualization_factor = 252 / total_days\n",
    "annualized_return = combined_final_value ** annualization_factor - 1\n",
    "\n",
    "# --- Display the Aggregated Results ---\n",
    "print(\"\\nCombined Portfolio Performance Across Periods:\")\n",
    "print(f\"Combined Final Portfolio Value : {combined_final_value:.4f}\")\n",
    "print(f\"Combined Annualized Sharpe     : {combined_sharpe:.4f}\")\n",
    "print(f\"Combined Maximum Drawdown      : {combined_drawdown:.2%}\")\n",
    "print(f\"Combined Win Rate              : {combined_win_rate:.2%}\")\n",
    "print(f\"Estimated Annualized Return    : {annualized_return * 100:.2f}%\")\n"
   ]
  }
 ],
 "metadata": {
  "kernelspec": {
   "display_name": "base",
   "language": "python",
   "name": "python3"
  },
  "language_info": {
   "codemirror_mode": {
    "name": "ipython",
    "version": 3
   },
   "file_extension": ".py",
   "mimetype": "text/x-python",
   "name": "python",
   "nbconvert_exporter": "python",
   "pygments_lexer": "ipython3",
   "version": "3.12.9"
  }
 },
 "nbformat": 4,
 "nbformat_minor": 5
}
