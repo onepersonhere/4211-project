{
 "cells": [
  {
   "cell_type": "markdown",
   "id": "overview",
   "metadata": {},
   "source": [
    "# Portfolio Statistics Aggregator\n",
    "\n",
    "This notebook lets you input the summary statistics for each period (e.g. each 7‑day period) and then computes an aggregated overall statistic for the full combined period. The input statistics for each period are assumed to be:\n",
    "\n",
    "- **Final Portfolio Value** (as a growth factor over the period, e.g. 1.0179 means a 1.79% gain)\n",
    "- **Annualized Sharpe Ratio** (calculated from the 2‑minute returns within that period using the formula: \n",
    "  ```python\n",
    "  ann_sharpe = (mean_ret / std_ret) * np.sqrt(195 * 252)\n",
    "  ```\n",
    "  where 195 is the number of intervals per day and 252 is the number of trading days per year)\n",
    "- **Maximum Drawdown** (given as a negative percentage, e.g. -7.39%)\n",
    "- **Win Rate** (the percentage of intervals with positive returns)\n",
    "\n",
    "### Aggregation Method\n",
    "\n",
    "- **Final Portfolio Value:** The overall growth factor is computed as the product of each period's final portfolio value.\n",
    "- **Annualized Sharpe Ratio:** As an approximation, the overall Sharpe is taken as the simple average of the period Sharpe ratios (this is only an estimate since Sharpe ratios are not directly additive).\n",
    "- **Maximum Drawdown:** We take the worst (most negative) drawdown across the periods as the combined drawdown.\n",
    "- **Win Rate:** With equal-length periods, the overall win rate is approximated by the average of the period win rates.\n",
    "\n",
    "Feel free to adjust these methods if you have additional information (such as the number of intervals per period) or if you have the underlying return series available."
   ]
  },
  {
   "cell_type": "code",
   "id": "input_stats",
   "metadata": {
    "ExecuteTime": {
     "end_time": "2025-04-04T08:16:48.812872Z",
     "start_time": "2025-04-04T08:16:48.803229Z"
    }
   },
   "source": [
    "import pandas as pd\n",
    "import numpy as np\n",
    "\n",
    "# --- Input: Summary statistics for each period ---\n",
    "# Create a DataFrame where each row represents a period (e.g., 7 days)\n",
    "# Replace the sample data with your actual statistics\n",
    "data = {\n",
    "    'Period': ['Period 1', 'Period 2', 'Period 3', 'Period 4'],\n",
    "    'Final Portfolio Value': [1.0405, 1.0519, 1.0324, 1.0179],\n",
    "    'Annualized Sharpe': [3.8331, 4.6799, 3.1739, 1.9996],\n",
    "    'Max Drawdown': [-6.76, -3.73, -8.03, -7.39],\n",
    "    'Win Rate': [53.01, 51.53, 51.34, 49.65]\n",
    "}\n",
    "\n",
    "df = pd.DataFrame(data)\n",
    "\n",
    "print('Input Period Statistics:')\n",
    "print(df)\n",
    "\n",
    "# --- Aggregating the Statistics ---\n",
    "\n",
    "# 1. Final Portfolio Value: Multiply the period values to get the overall growth factor\n",
    "combined_final_value = np.prod(df['Final Portfolio Value'])\n",
    "\n",
    "# 2. Annualized Sharpe Ratio: (Approximation) Compute the simple average\n",
    "combined_sharpe = df['Annualized Sharpe'].mean()\n",
    "\n",
    "# 3. Maximum Drawdown: (Approximation) Use the worst (most negative) drawdown among the periods\n",
    "combined_drawdown = df['Max Drawdown'].min()\n",
    "\n",
    "# 4. Win Rate: (Approximation) Average the win rates (assuming equal weights)\n",
    "combined_win_rate = df['Win Rate'].mean()\n",
    "\n",
    "# --- Display the Aggregated Results ---\n",
    "print('\\nCombined Period Statistics:')\n",
    "print('Combined Final Portfolio Value:', combined_final_value)\n",
    "print('Combined Annualized Sharpe Ratio:', combined_sharpe)\n",
    "print('Combined Maximum Drawdown:', combined_drawdown)\n",
    "print('Combined Win Rate (%):', combined_win_rate)\n"
   ],
   "outputs": [
    {
     "name": "stdout",
     "output_type": "stream",
     "text": [
      "Input Period Statistics:\n",
      "     Period  Final Portfolio Value  Annualized Sharpe  Max Drawdown  Win Rate\n",
      "0  Period 1                 1.0405             3.8331         -6.76     53.01\n",
      "1  Period 2                 1.0519             4.6799         -3.73     51.53\n",
      "2  Period 3                 1.0324             3.1739         -8.03     51.34\n",
      "3  Period 4                 1.0179             1.9996         -7.39     49.65\n",
      "\n",
      "Combined Period Statistics:\n",
      "Combined Final Portfolio Value: 1.150190165435922\n",
      "Combined Annualized Sharpe Ratio: 3.4216249999999997\n",
      "Combined Maximum Drawdown: -8.03\n",
      "Combined Win Rate (%): 51.3825\n"
     ]
    }
   ],
   "execution_count": 1
  }
 ],
 "metadata": {
  "kernelspec": {
   "display_name": "Python 3",
   "language": "python",
   "name": "python3"
  },
  "language_info": {
   "name": "python",
   "version": "3.x"
  }
 },
 "nbformat": 4,
 "nbformat_minor": 5
}
