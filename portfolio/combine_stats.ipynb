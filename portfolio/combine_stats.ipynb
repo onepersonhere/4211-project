{
 "cells": [
  {
   "cell_type": "markdown",
   "id": "overview",
   "metadata": {},
   "source": [
    "# Portfolio Statistics Aggregator\n",
    "\n",
    "This notebook lets you input the summary statistics for each period (e.g. each 7‑day period) and then computes an aggregated overall statistic for the full combined period. The input statistics for each period are assumed to be:\n",
    "\n",
    "- **Final Portfolio Value** (as a growth factor over the period, e.g. 1.0179 means a 1.79% gain)\n",
    "- **Annualized Sharpe Ratio** (calculated from the 2‑minute returns within that period using the formula: \n",
    "  ```python\n",
    "  ann_sharpe = (mean_ret / std_ret) * np.sqrt(195 * 252)\n",
    "  ```\n",
    "  where 195 is the number of intervals per day and 252 is the number of trading days per year)\n",
    "- **Maximum Drawdown** (given as a negative percentage, e.g. -7.39%)\n",
    "- **Win Rate** (the percentage of intervals with positive returns)\n",
    "\n",
    "### Aggregation Method\n",
    "\n",
    "- **Final Portfolio Value:** The overall growth factor is computed as the product of each period's final portfolio value.\n",
    "- **Annualized Sharpe Ratio:** As an approximation, the overall Sharpe is taken as the simple average of the period Sharpe ratios (this is only an estimate since Sharpe ratios are not directly additive).\n",
    "- **Maximum Drawdown:** We take the worst (most negative) drawdown across the periods as the combined drawdown.\n",
    "- **Win Rate:** With equal-length periods, the overall win rate is approximated by the average of the period win rates.\n",
    "\n",
    "Feel free to adjust these methods if you have additional information (such as the number of intervals per period) or if you have the underlying return series available."
   ]
  },
  {
   "cell_type": "code",
   "execution_count": 4,
   "id": "input_stats",
   "metadata": {
    "ExecuteTime": {
     "end_time": "2025-04-04T08:47:30.032966Z",
     "start_time": "2025-04-04T08:47:30.022472Z"
    }
   },
   "outputs": [
    {
     "name": "stdout",
     "output_type": "stream",
     "text": [
      "Input Period Statistics:\n",
      "     Period  Final Portfolio Value  Annualized Sharpe  Max Drawdown  Win Rate\n",
      "0  Period 1                 1.0403             3.8151         -6.77     53.01\n",
      "1  Period 2                 1.0520             4.6947         -3.72     51.53\n",
      "2  Period 3                 1.0326             3.1946         -8.01     51.43\n",
      "3  Period 4                 1.0196             2.1642         -7.40     49.82\n",
      "\n",
      "Combined Period Statistics:\n",
      "Combined Final Portfolio Value: 1.1522223253325763\n",
      "Combined Annualized Sharpe Ratio: 3.46715\n",
      "Combined Maximum Drawdown: -8.01\n",
      "Combined Win Rate (%): 51.4475\n",
      "Annualized Return (%): 257.95346629257716\n"
     ]
    }
   ],
   "source": [
    "import numpy as np\n",
    "import pandas as pd\n",
    "\n",
    "# --- Input: Summary statistics for each period ---\n",
    "data = {\n",
    "    'Period': ['Period 1', 'Period 2', 'Period 3', 'Period 4'],\n",
    "    'Final Portfolio Value': [1.0403, 1.0520, 1.0326, 1.0196],\n",
    "    'Annualized Sharpe': [3.8151, 4.6947, 3.1946, 2.1642],\n",
    "    'Max Drawdown': [-6.77, -3.72, -8.01, -7.40],\n",
    "    'Win Rate': [53.01, 51.53, 51.43, 49.82]\n",
    "}\n",
    "\n",
    "df = pd.DataFrame(data)\n",
    "\n",
    "print('Input Period Statistics:')\n",
    "print(df)\n",
    "\n",
    "# --- Aggregating the Statistics ---\n",
    "\n",
    "# 1. Final Portfolio Value: Multiply the period values to get the overall growth factor\n",
    "combined_final_value = np.prod(df['Final Portfolio Value'])\n",
    "\n",
    "# 2. Annualized Sharpe Ratio: (Approximation) Compute the simple average\n",
    "combined_sharpe = df['Annualized Sharpe'].mean()\n",
    "\n",
    "# 3. Maximum Drawdown: (Approximation) Use the worst (most negative) drawdown among the periods\n",
    "combined_drawdown = df['Max Drawdown'].min()\n",
    "\n",
    "# 4. Win Rate: (Approximation) Average the win rates (assuming equal weights)\n",
    "combined_win_rate = df['Win Rate'].mean()\n",
    "\n",
    "# --- Calculate Annualized Return ---\n",
    "# The combined_final_value represents the cumulative growth factor over 28 days.\n",
    "trading_days_year = 252\n",
    "total_period_days = 28  # 4 periods * 7 days each\n",
    "annualization_factor = trading_days_year / total_period_days\n",
    "annualized_return = combined_final_value ** annualization_factor - 1\n",
    "\n",
    "# --- Display the Aggregated Results ---\n",
    "print('\\nCombined Period Statistics:')\n",
    "print('Combined Final Portfolio Value:', combined_final_value)\n",
    "print('Combined Annualized Sharpe Ratio:', combined_sharpe)\n",
    "print('Combined Maximum Drawdown:', combined_drawdown)\n",
    "print('Combined Win Rate (%):', combined_win_rate)\n",
    "print('Annualized Return (%):', annualized_return * 100)\n",
    "\n"
   ]
  }
 ],
 "metadata": {
  "kernelspec": {
   "display_name": "base",
   "language": "python",
   "name": "python3"
  },
  "language_info": {
   "codemirror_mode": {
    "name": "ipython",
    "version": 3
   },
   "file_extension": ".py",
   "mimetype": "text/x-python",
   "name": "python",
   "nbconvert_exporter": "python",
   "pygments_lexer": "ipython3",
   "version": "3.12.7"
  }
 },
 "nbformat": 4,
 "nbformat_minor": 5
}
