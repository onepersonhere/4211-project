{
 "cells": [
  {
   "cell_type": "code",
   "execution_count": 148,
   "metadata": {},
   "outputs": [],
   "source": [
    "import pandas as pd\n",
    "import numpy as np\n",
    "from sklearn.model_selection import train_test_split\n",
    "import statsmodels.api as sm\n",
    "import matplotlib.pyplot as plt\n",
    "from pmdarima import auto_arima\n"
   ]
  },
  {
   "cell_type": "code",
   "execution_count": 149,
   "metadata": {},
   "outputs": [],
   "source": [
    "# Load the stock prices CSV file (adjust the path as needed)\n",
    "file_path = \"stock_prices_5m.csv\"\n",
    "df = pd.read_csv(file_path)\n",
    "\n",
    "# If a datetime column exists, parse it as datetime and sort by time\n",
    "if 'Datetime' in df.columns:\n",
    "    df['Datetime'] = pd.to_datetime(df['Datetime'])\n",
    "\n",
    "# Ensure sorting by Ticker symbol first, then by datetime\n",
    "df.sort_values(by=['Ticker', 'Datetime'], inplace=True)\n",
    "df.reset_index(drop=True, inplace=True)\n",
    "\n",
    "\n",
    "\n"
   ]
  },
  {
   "cell_type": "code",
   "execution_count": 150,
   "metadata": {},
   "outputs": [],
   "source": [
    "# Train-Test Split\n",
    "def split_data(df, ticker, feature='Close', test_size=0.2):\n",
    "    ticker_df = df[df['Ticker'] == ticker][['Datetime', feature]].copy()\n",
    "    ticker_df.set_index('Datetime', inplace=True)\n",
    "    \n",
    "    # Remove NaN values\n",
    "    ticker_df.dropna(inplace=True)\n",
    "    \n",
    "    # Infer and set frequency\n",
    "    inferred_freq = pd.infer_freq(ticker_df.index)\n",
    "    if inferred_freq is None:\n",
    "        inferred_freq = '5T'  # Default to 5-minute intervals\n",
    "    ticker_df = ticker_df.asfreq(inferred_freq)\n",
    "    \n",
    "    train_size = int(len(ticker_df) * (1 - test_size))\n",
    "    train, test = ticker_df[:train_size], ticker_df[train_size:]\n",
    "    \n",
    "    # Ensure data is not empty\n",
    "    if train.empty or test.empty:\n",
    "        raise ValueError(\"Train or test set is empty. Check data availability.\")\n",
    "    \n",
    "    return train, test\n",
    "\n",
    " \n"
   ]
  },
  {
   "cell_type": "code",
   "execution_count": 151,
   "metadata": {},
   "outputs": [],
   "source": [
    "# Automatically Determine Best ARIMA Order\n",
    "def find_best_arima_order(train):\n",
    "    train = train.dropna()\n",
    "    if train.empty:\n",
    "        raise ValueError(\"Training data contains only NaN values after cleaning.\")\n",
    "    auto_model = auto_arima(train, seasonal=False, trace=True, error_action='ignore', suppress_warnings=True, stepwise=True)\n",
    "    return auto_model.order  # Returns (p, d, q)\n",
    "\n",
    "# ARIMA Model Training\n",
    "def train_arima(train):\n",
    "    if train.nunique().values[0] == 1:\n",
    "        raise ValueError(\"Train data has constant values, ARIMA cannot fit.\")\n",
    "    \n",
    "    try:\n",
    "        best_order = find_best_arima_order(train)\n",
    "        print(f\"Best ARIMA Order Found: {best_order}\")\n",
    "        model = sm.tsa.ARIMA(train, order=best_order)\n",
    "        fitted_model = model.fit()\n",
    "        return fitted_model\n",
    "    except Exception as e:\n",
    "        raise ValueError(f\"ARIMA training failed: {e}\")\n"
   ]
  },
  {
   "cell_type": "code",
   "execution_count": 152,
   "metadata": {},
   "outputs": [],
   "source": [
    "# ARIMA Prediction\n",
    "def predict_arima(model, test):  \n",
    "    test = test.dropna()\n",
    "    try:\n",
    "        steps = len(test)\n",
    "        forecast = model.forecast(steps=steps)\n",
    "        forecast_index = test.index  # Ensure predictions align with actual timestamps\n",
    "        forecast_series = pd.Series(forecast, index=forecast_index)\n",
    "        return forecast_series\n",
    "    except Exception as e:\n",
    "        raise ValueError(f\"ARIMA forecasting failed: {e}\")"
   ]
  },
  {
   "cell_type": "code",
   "execution_count": 153,
   "metadata": {},
   "outputs": [],
   "source": [
    "# Plot Actual vs Predicted Data\n",
    "def plot_predictions(actual, predicted):\n",
    "    plt.figure(figsize=(10, 5))\n",
    "    plt.plot(actual.index, actual, label='Actual Prices', color='blue')\n",
    "    plt.plot(predicted.index, predicted, label='Predicted Prices', color='red')\n",
    "    plt.xlabel('Datetime')\n",
    "    plt.ylabel('Stock Price')\n",
    "    plt.title('Actual vs Predicted Stock Prices')\n",
    "    plt.legend()\n",
    "    plt.show()\n"
   ]
  },
  {
   "cell_type": "code",
   "execution_count": 154,
   "metadata": {},
   "outputs": [],
   "source": [
    "# Hyperparameter Tuning\n",
    "def tune_hyperparameters():\n",
    "    best_model = None\n",
    "    best_loss = float(\"inf\")\n",
    "    best_params = None\n",
    "    \n",
    "    for lr in [0.01, 0.001, 0.0001]:\n",
    "        for batch_size in [16, 32, 64]:\n",
    "            model = build_lstm_model((50, 1))\n",
    "            model.compile(optimizer=Adam(learning_rate=lr), loss='mean_squared_error')\n",
    "            history = model.fit(X_train, y_train, epochs=10, batch_size=batch_size, validation_data=(X_test, y_test), verbose=0)\n",
    "            loss = min(history.history['val_loss'])\n",
    "            \n",
    "            if loss < best_loss:\n",
    "                best_loss = loss\n",
    "                best_model = model\n",
    "                best_params = (lr, batch_size)\n",
    "    \n",
    "    return best_model, best_params"
   ]
  },
  {
   "cell_type": "code",
   "execution_count": 155,
   "metadata": {},
   "outputs": [],
   "source": [
    "# Prediction\n",
    "def predict_future(model, X_test, scaler):\n",
    "    predictions = model.predict(X_test)\n",
    "    return scaler.inverse_transform(predictions.reshape(-1, 1))\n"
   ]
  },
  {
   "cell_type": "code",
   "execution_count": 156,
   "metadata": {},
   "outputs": [],
   "source": [
    "# Plot Results\n",
    "def plot_predictions(actual, predicted):\n",
    "    plt.figure(figsize=(10, 5))\n",
    "    plt.plot(actual, color='blue', label='Actual Price')\n",
    "    plt.plot(predicted, color='red', label='Predicted Price')\n",
    "    plt.legend()\n",
    "    plt.show()"
   ]
  },
  {
   "cell_type": "code",
   "execution_count": 157,
   "metadata": {},
   "outputs": [
    {
     "name": "stderr",
     "output_type": "stream",
     "text": [
      "C:\\Users\\ASUS\\AppData\\Local\\Temp\\ipykernel_12884\\1770367979.py:13: FutureWarning: 'T' is deprecated and will be removed in a future version, please use 'min' instead.\n",
      "  ticker_df = ticker_df.asfreq(inferred_freq)\n"
     ]
    },
    {
     "name": "stdout",
     "output_type": "stream",
     "text": [
      "Performing stepwise search to minimize aic\n",
      " ARIMA(2,1,2)(0,0,0)[0] intercept   : AIC=3330.770, Time=3.20 sec\n",
      " ARIMA(0,1,0)(0,0,0)[0] intercept   : AIC=3347.588, Time=0.29 sec\n",
      " ARIMA(1,1,0)(0,0,0)[0] intercept   : AIC=3332.193, Time=0.37 sec\n",
      " ARIMA(0,1,1)(0,0,0)[0] intercept   : AIC=3332.741, Time=0.26 sec\n",
      " ARIMA(0,1,0)(0,0,0)[0]             : AIC=3345.651, Time=0.12 sec\n",
      " ARIMA(1,1,2)(0,0,0)[0] intercept   : AIC=3335.014, Time=2.97 sec\n",
      " ARIMA(2,1,1)(0,0,0)[0] intercept   : AIC=3334.965, Time=1.75 sec\n",
      " ARIMA(3,1,2)(0,0,0)[0] intercept   : AIC=3329.123, Time=4.00 sec\n",
      " ARIMA(3,1,1)(0,0,0)[0] intercept   : AIC=3337.396, Time=1.36 sec\n",
      " ARIMA(4,1,2)(0,0,0)[0] intercept   : AIC=3329.850, Time=4.70 sec\n",
      " ARIMA(3,1,3)(0,0,0)[0] intercept   : AIC=3327.641, Time=4.68 sec\n",
      " ARIMA(2,1,3)(0,0,0)[0] intercept   : AIC=3329.146, Time=4.77 sec\n",
      " ARIMA(4,1,3)(0,0,0)[0] intercept   : AIC=3330.311, Time=6.41 sec\n",
      " ARIMA(3,1,4)(0,0,0)[0] intercept   : AIC=3329.529, Time=9.19 sec\n",
      " ARIMA(2,1,4)(0,0,0)[0] intercept   : AIC=3329.158, Time=9.38 sec\n",
      " ARIMA(4,1,4)(0,0,0)[0] intercept   : AIC=3330.698, Time=12.91 sec\n",
      " ARIMA(3,1,3)(0,0,0)[0]             : AIC=3325.731, Time=6.29 sec\n",
      " ARIMA(2,1,3)(0,0,0)[0]             : AIC=3327.219, Time=5.20 sec\n",
      " ARIMA(3,1,2)(0,0,0)[0]             : AIC=3327.195, Time=4.82 sec\n",
      " ARIMA(4,1,3)(0,0,0)[0]             : AIC=3326.616, Time=6.85 sec\n",
      " ARIMA(3,1,4)(0,0,0)[0]             : AIC=3327.471, Time=6.93 sec\n",
      " ARIMA(2,1,2)(0,0,0)[0]             : AIC=3328.839, Time=3.69 sec\n",
      " ARIMA(2,1,4)(0,0,0)[0]             : AIC=3327.228, Time=4.65 sec\n",
      " ARIMA(4,1,2)(0,0,0)[0]             : AIC=3327.908, Time=6.54 sec\n",
      " ARIMA(4,1,4)(0,0,0)[0]             : AIC=3328.771, Time=6.99 sec\n",
      "\n",
      "Best model:  ARIMA(3,1,3)(0,0,0)[0]          \n",
      "Total fit time: 118.348 seconds\n",
      "Best ARIMA Order Found: (3, 1, 3)\n"
     ]
    },
    {
     "name": "stderr",
     "output_type": "stream",
     "text": [
      "c:\\Users\\ASUS\\anaconda3\\Lib\\site-packages\\statsmodels\\tsa\\statespace\\sarimax.py:966: UserWarning: Non-stationary starting autoregressive parameters found. Using zeros as starting parameters.\n",
      "  warn('Non-stationary starting autoregressive parameters'\n",
      "c:\\Users\\ASUS\\anaconda3\\Lib\\site-packages\\statsmodels\\tsa\\statespace\\sarimax.py:978: UserWarning: Non-invertible starting MA parameters found. Using zeros as starting parameters.\n",
      "  warn('Non-invertible starting MA parameters found.'\n",
      "c:\\Users\\ASUS\\anaconda3\\Lib\\site-packages\\statsmodels\\base\\model.py:607: ConvergenceWarning: Maximum Likelihood optimization failed to converge. Check mle_retvals\n",
      "  warnings.warn(\"Maximum Likelihood optimization failed to \"\n"
     ]
    },
    {
     "data": {
      "image/png": "[encoded data removed]",
      "text/plain": [
       "<Figure size 1000x500 with 1 Axes>"
      ]
     },
     "metadata": {},
     "output_type": "display_data"
    }
   ],
   "source": [
    "# Example Workflow\n",
    "ticker_symbol = \"AAPL\"\n",
    "train, test = split_data(df, ticker_symbol)\n",
    "arima_model = train_arima(train)\n",
    "arima_forecast = predict_arima(arima_model, test)\n",
    "plot_predictions(test, arima_forecast) \n",
    "\n"
   ]
  }
 ],
 "metadata": {
  "kernelspec": {
   "display_name": "base",
   "language": "python",
   "name": "python3"
  },
  "language_info": {
   "codemirror_mode": {
    "name": "ipython",
    "version": 3
   },
   "file_extension": ".py",
   "mimetype": "text/x-python",
   "name": "python",
   "nbconvert_exporter": "python",
   "pygments_lexer": "ipython3",
   "version": "3.12.7"
  }
 },
 "nbformat": 4,
 "nbformat_minor": 2
}
