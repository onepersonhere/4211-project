{
 "cells": [
  {
   "cell_type": "code",
   "execution_count": 8,
   "metadata": {},
   "outputs": [],
   "source": [
    "# !pip install yfinance"
   ]
  },
  {
   "cell_type": "code",
   "execution_count": 9,
   "metadata": {},
   "outputs": [
    {
     "name": "stdout",
     "output_type": "stream",
     "text": [
      "Fetching 15m data from 2025-01-15 to 2025-03-15 for ['AAPL', 'MSFT', 'GOOGL', 'NVDA', 'TSLA', 'AMZN', 'META']...\n"
     ]
    },
    {
     "name": "stderr",
     "output_type": "stream",
     "text": [
      "[*********************100%***********************]  7 of 7 completed"
     ]
    },
    {
     "name": "stdout",
     "output_type": "stream",
     "text": [
      "Stock data successfully downloaded and saved as 'stock_prices_15m'.\n",
      "Price                  Datetime        Open        High         Low  \\\n",
      "0     2025-01-15 14:30:00+00:00  234.639999  237.520004  234.429993   \n",
      "1     2025-01-15 14:30:00+00:00  222.845993  223.473404  221.750000   \n",
      "2     2025-01-15 14:30:00+00:00  192.929993  193.639999  191.860504   \n",
      "3     2025-01-15 14:30:00+00:00  610.500000  612.799927  606.500000   \n",
      "4     2025-01-15 14:30:00+00:00  419.130005  423.339996  418.265015   \n",
      "\n",
      "Price       Close   Volume Ticker  \n",
      "0      237.350006  3646234   AAPL  \n",
      "1      222.110001  3979090   AMZN  \n",
      "2      192.274994  2277825  GOOGL  \n",
      "3      608.830017  1985439   META  \n",
      "4      423.321198  1969736   MSFT  \n"
     ]
    },
    {
     "name": "stderr",
     "output_type": "stream",
     "text": [
      "\n",
      "C:\\Users\\fauza\\AppData\\Local\\Temp\\ipykernel_5228\\1129156785.py:35: FutureWarning: The previous implementation of stack is deprecated and will be removed in a future version of pandas. See the What's New notes for pandas 2.1.0 for details. Specify future_stack=True to adopt the new implementation and silence this warning.\n",
      "  stock_data = stock_data.stack(level=1).reset_index()\n"
     ]
    }
   ],
   "source": [
    "import yfinance as yf\n",
    "import pandas as pd\n",
    "from datetime import datetime, timedelta\n",
    "import os\n",
    "\n",
    "def fetch_stock_data(end_date=None, n_days=7, frequency=\"10m\"):\n",
    "    \"\"\"\n",
    "    Fetches stock data for the MAG-7 tickers from Yahoo Finance.\n",
    "\n",
    "    Parameters:\n",
    "    - end_date (str): The end date in 'YYYY-MM-DD' format (default: today).\n",
    "    - n_days (int): The number of days before end_date to fetch (default: 7).\n",
    "    - frequency (str): The interval of data (e.g., '10m', '1h', '1d').\n",
    "\n",
    "    Returns:\n",
    "    - DataFrame: Formatted stock data with columns: ['Datetime', 'Open', 'High', 'Low', 'Close', 'Volume', 'Ticker']\n",
    "    \"\"\"\n",
    "    \n",
    "    # List of MAG-7 tickers\n",
    "    tickers = [\"AAPL\", \"MSFT\", \"GOOGL\", \"NVDA\", \"TSLA\", \"AMZN\", \"META\"]\n",
    "\n",
    "    # Set end date (default: today)\n",
    "    if end_date is None:\n",
    "        end_date = datetime.today().strftime('%Y-%m-%d')\n",
    "\n",
    "    # Calculate start date\n",
    "    start_date = (datetime.strptime(end_date, '%Y-%m-%d') - timedelta(days=n_days)).strftime('%Y-%m-%d')\n",
    "\n",
    "    print(f\"Fetching {frequency} data from {start_date} to {end_date} for {tickers}...\")\n",
    "\n",
    "    # Fetch stock data\n",
    "    stock_data = yf.download(tickers, start=start_date, end=end_date, interval=frequency)\n",
    "\n",
    "    # Reset multi-index and flatten column names\n",
    "    stock_data = stock_data.stack(level=1).reset_index()\n",
    "\n",
    "    # Rename columns properly\n",
    "    stock_data.rename(columns={\"level_1\": \"Ticker\", \"Datetime\": \"Datetime\"}, inplace=True)\n",
    "\n",
    "    # Ensure correct column order\n",
    "    stock_data = stock_data[[\"Datetime\", \"Open\", \"High\", \"Low\", \"Close\", \"Volume\", \"Ticker\"]]\n",
    "\n",
    "    # Save to CSV\n",
    "    filename = f\"stock_prices_{frequency}\"\n",
    "    file_path = f'./raw_data/{filename}.csv'\n",
    "\n",
    "    # Create the directory if it doesn't exist\n",
    "    os.makedirs(os.path.dirname(file_path), exist_ok=True)\n",
    "\n",
    "    # Save the DataFrame to the specified path\n",
    "    stock_data.to_csv(file_path, index=False)\n",
    "\n",
    "    print(f\"Stock data successfully downloaded and saved as '{filename}'.\")\n",
    "    \n",
    "    return stock_data\n",
    "\n",
    "# Example Usage\n",
    "df = fetch_stock_data(end_date=datetime.today().strftime('%Y-%m-%d'), n_days=59, frequency=\"15m\")\n",
    "\n",
    "# Display first few rows\n",
    "print(df.head())\n"
   ]
  }
 ],
 "metadata": {
  "kernelspec": {
   "display_name": "base",
   "language": "python",
   "name": "python3"
  },
  "language_info": {
   "codemirror_mode": {
    "name": "ipython",
    "version": 3
   },
   "file_extension": ".py",
   "mimetype": "text/x-python",
   "name": "python",
   "nbconvert_exporter": "python",
   "pygments_lexer": "ipython3",
   "version": "3.12.4"
  }
 },
 "nbformat": 4,
 "nbformat_minor": 2
}
